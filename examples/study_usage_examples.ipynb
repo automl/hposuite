{
 "cells": [
  {
   "cell_type": "markdown",
   "metadata": {},
   "source": [
    "# hposuite Study usage examples"
   ]
  },
  {
   "cell_type": "markdown",
   "metadata": {},
   "source": [
    "## Adding extra seeds"
   ]
  },
  {
   "cell_type": "markdown",
   "metadata": {},
   "source": [
    "First let's create a sample study"
   ]
  },
  {
   "cell_type": "code",
   "execution_count": 8,
   "metadata": {},
   "outputs": [
    {
     "name": "stderr",
     "output_type": "stream",
     "text": [
      "INFO:hposuite.study:Generated 3 runs\n",
      "INFO:hposuite.study:Created study at /home/soham/repos/hposuite/examples/example-outputs/ex-extra-seeds\n",
      "INFO:hposuite.study:Dumped experiments to /home/soham/repos/hposuite/examples/example-outputs/ex-extra-seeds/dump_all.txt\n"
     ]
    }
   ],
   "source": [
    "from hposuite.study import create_study\n",
    "\n",
    "study = create_study(\n",
    "    name=\"ex-extra-seeds\",\n",
    "    output_dir=\"example-outputs\",\n",
    "    optimizers=\"RandomSearch\",\n",
    "    benchmarks=\"ackley\",\n",
    "    num_seeds=3,\n",
    "    budget=10,\n",
    ")"
   ]
  },
  {
   "cell_type": "markdown",
   "metadata": {},
   "source": [
    "Let's run the Study, but with 5 instead of 3 seeds. \\\n",
    "The following code snippet shows how to add more seeds during `Study.optimize()`"
   ]
  },
  {
   "cell_type": "code",
   "execution_count": 8,
   "metadata": {},
   "outputs": [
    {
     "name": "stderr",
     "output_type": "stream",
     "text": [
      "INFO:hposuite.study:Generated 2 runs\n",
      "INFO:hposuite.study:Running 5 experiments sequentially\n",
      "INFO:hposuite.study:Running experiment 1/5\n",
      "WARNING:hposuite.run:Continuations are not supported for the optimizer: <class 'hposuite.optimizers.random_search.RandomSearch'>. Ignoring continuations=True.\n",
      "INFO:hpoglue._run:COMPLETED running optimizer=RandomSearch.benchmark=ackley.objectives=y.TrialBudget=10.seed=383329928\n",
      "INFO:hposuite.run:Results dumped at /home/soham/repos/hposuite/examples/example-outputs/ex-extra-seeds/optimizer=RandomSearch.benchmark=ackley.objectives=y.TrialBudget=10.seed=383329928/optimizer=RandomSearch.benchmark=ackley.objectives=y.TrialBudget=10.seed=383329928.parquet\n",
      "INFO:hposuite.study:Running experiment 2/5\n",
      "WARNING:hposuite.run:Continuations are not supported for the optimizer: <class 'hposuite.optimizers.random_search.RandomSearch'>. Ignoring continuations=True.\n",
      "INFO:hpoglue._run:COMPLETED running optimizer=RandomSearch.benchmark=ackley.objectives=y.TrialBudget=10.seed=3324115917\n",
      "INFO:hposuite.run:Results dumped at /home/soham/repos/hposuite/examples/example-outputs/ex-extra-seeds/optimizer=RandomSearch.benchmark=ackley.objectives=y.TrialBudget=10.seed=3324115917/optimizer=RandomSearch.benchmark=ackley.objectives=y.TrialBudget=10.seed=3324115917.parquet\n",
      "INFO:hposuite.study:Running experiment 3/5\n",
      "WARNING:hposuite.run:Continuations are not supported for the optimizer: <class 'hposuite.optimizers.random_search.RandomSearch'>. Ignoring continuations=True.\n",
      "INFO:hpoglue._run:COMPLETED running optimizer=RandomSearch.benchmark=ackley.objectives=y.TrialBudget=10.seed=2811363265\n",
      "INFO:hposuite.run:Results dumped at /home/soham/repos/hposuite/examples/example-outputs/ex-extra-seeds/optimizer=RandomSearch.benchmark=ackley.objectives=y.TrialBudget=10.seed=2811363265/optimizer=RandomSearch.benchmark=ackley.objectives=y.TrialBudget=10.seed=2811363265.parquet\n",
      "INFO:hposuite.study:Running experiment 4/5\n",
      "WARNING:hposuite.run:Continuations are not supported for the optimizer: <class 'hposuite.optimizers.random_search.RandomSearch'>. Ignoring continuations=True.\n",
      "INFO:hpoglue._run:COMPLETED running optimizer=RandomSearch.benchmark=ackley.objectives=y.TrialBudget=10.seed=56\n",
      "INFO:hposuite.run:Results dumped at /home/soham/repos/hposuite/examples/example-outputs/ex-extra-seeds/optimizer=RandomSearch.benchmark=ackley.objectives=y.TrialBudget=10.seed=56/optimizer=RandomSearch.benchmark=ackley.objectives=y.TrialBudget=10.seed=56.parquet\n",
      "INFO:hposuite.study:Running experiment 5/5\n",
      "WARNING:hposuite.run:Continuations are not supported for the optimizer: <class 'hposuite.optimizers.random_search.RandomSearch'>. Ignoring continuations=True.\n",
      "INFO:hpoglue._run:COMPLETED running optimizer=RandomSearch.benchmark=ackley.objectives=y.TrialBudget=10.seed=7523\n",
      "INFO:hposuite.run:Results dumped at /home/soham/repos/hposuite/examples/example-outputs/ex-extra-seeds/optimizer=RandomSearch.benchmark=ackley.objectives=y.TrialBudget=10.seed=7523/optimizer=RandomSearch.benchmark=ackley.objectives=y.TrialBudget=10.seed=7523.parquet\n",
      "INFO:hposuite.study:Completed study with 5 runs\n"
     ]
    }
   ],
   "source": [
    "study.optimize(add_seeds=[56, 7523])\n",
    "\n",
    "# NOTE: Seeds can also be added using the `add_num_seeds` argument in the `optimize` method.\n",
    "# study.optimize(add_num_seeds=2)\n",
    "# In this case, the extra seeds will be generated randomly."
   ]
  },
  {
   "cell_type": "markdown",
   "metadata": {},
   "source": [
    "## Dumping grouped runs"
   ]
  },
  {
   "cell_type": "markdown",
   "metadata": {},
   "source": [
    "Creating a sample study with 3 optimizers, 3 benchmarks and 3 seeds"
   ]
  },
  {
   "cell_type": "markdown",
   "metadata": {},
   "source": [
    "#### Default dump with all runs grouped together"
   ]
  },
  {
   "cell_type": "code",
   "execution_count": 17,
   "metadata": {},
   "outputs": [
    {
     "name": "stderr",
     "output_type": "stream",
     "text": [
      "INFO:hposuite.study:Generated 27 runs\n",
      "INFO:hposuite.study:Created study at /home/soham/repos/hposuite/examples/example-outputs/ex-dump-group\n",
      "INFO:hposuite.study:Dumped experiments to /home/soham/repos/hposuite/examples/example-outputs/ex-dump-group/dump_all.txt\n"
     ]
    }
   ],
   "source": [
    "from hposuite.study import create_study\n",
    "\n",
    "study = create_study(\n",
    "    name=\"ex-dump-group\",\n",
    "    output_dir=\"example-outputs\",\n",
    "    optimizers=[\"RandomSearch\", \"SMAC_BO\", \"Optuna\"],\n",
    "    benchmarks=[\"ackley\", \"branin\", \"mfh3_good\"],\n",
    "    num_seeds=3,\n",
    "    budget=10,\n",
    ")"
   ]
  },
  {
   "cell_type": "markdown",
   "metadata": {},
   "source": [
    "#### Checking available dump options"
   ]
  },
  {
   "cell_type": "code",
   "execution_count": 14,
   "metadata": {},
   "outputs": [
    {
     "name": "stdout",
     "output_type": "stream",
     "text": [
      "                   [--group_by {opt,bench,opt_bench,seed,mem}]\n",
      "  --group_by {opt,bench,opt_bench,seed,mem}, -g {opt,bench,opt_bench,seed,mem}\n"
     ]
    }
   ],
   "source": [
    "!python -m hposuite --help | grep -- \"--group_by\""
   ]
  },
  {
   "cell_type": "markdown",
   "metadata": {},
   "source": [
    "#### Dumping runs grouped by optimizer "
   ]
  },
  {
   "cell_type": "code",
   "execution_count": 6,
   "metadata": {},
   "outputs": [
    {
     "name": "stderr",
     "output_type": "stream",
     "text": [
      "INFO:hposuite.study:Generated 27 runs\n",
      "INFO:hposuite.study:Created study at /home/soham/repos/hposuite/examples/example-outputs/ex-dump-group\n",
      "INFO:hposuite.study:Dumped experiments to /home/soham/repos/hposuite/examples/example-outputs/ex-dump-group/dump_RandomSearch.txt\n",
      "INFO:hposuite.study:Dumped experiments to /home/soham/repos/hposuite/examples/example-outputs/ex-dump-group/dump_SMAC_BO.txt\n",
      "INFO:hposuite.study:Dumped experiments to /home/soham/repos/hposuite/examples/example-outputs/ex-dump-group/dump_Optuna.txt\n"
     ]
    }
   ],
   "source": [
    "from hposuite.study import create_study\n",
    "\n",
    "study = create_study(\n",
    "    name=\"ex-dump-group\",\n",
    "    output_dir=\"example-outputs\",\n",
    "    optimizers=[\"RandomSearch\", \"SMAC_BO\", \"Optuna\"],\n",
    "    benchmarks=[\"ackley\", \"branin\", \"mfh3_good\"],\n",
    "    num_seeds=3,\n",
    "    budget=10,\n",
    "    group_by=\"opt\",\n",
    ")"
   ]
  },
  {
   "cell_type": "markdown",
   "metadata": {},
   "source": [
    "#### Dumping runs grouped by benchmark"
   ]
  },
  {
   "cell_type": "code",
   "execution_count": 7,
   "metadata": {},
   "outputs": [
    {
     "name": "stderr",
     "output_type": "stream",
     "text": [
      "INFO:hposuite.study:Generated 27 runs\n",
      "INFO:hposuite.study:Created study at /home/soham/repos/hposuite/examples/example-outputs/ex-dump-group\n",
      "INFO:hposuite.study:Dumped experiments to /home/soham/repos/hposuite/examples/example-outputs/ex-dump-group/dump_ackley.txt\n",
      "INFO:hposuite.study:Dumped experiments to /home/soham/repos/hposuite/examples/example-outputs/ex-dump-group/dump_branin.txt\n",
      "INFO:hposuite.study:Dumped experiments to /home/soham/repos/hposuite/examples/example-outputs/ex-dump-group/dump_mfh3_good.txt\n"
     ]
    }
   ],
   "source": [
    "from hposuite.study import create_study\n",
    "\n",
    "study = create_study(\n",
    "    name=\"ex-dump-group\",\n",
    "    output_dir=\"example-outputs\",\n",
    "    optimizers=[\"RandomSearch\", \"SMAC_BO\", \"Optuna\"],\n",
    "    benchmarks=[\"ackley\", \"branin\", \"mfh3_good\"],\n",
    "    num_seeds=3,\n",
    "    budget=10,\n",
    "    group_by=\"bench\",\n",
    ")"
   ]
  },
  {
   "cell_type": "markdown",
   "metadata": {},
   "source": [
    "#### Dumping runs grouped by Optimizer and Benchmark"
   ]
  },
  {
   "cell_type": "code",
   "execution_count": 16,
   "metadata": {},
   "outputs": [
    {
     "name": "stderr",
     "output_type": "stream",
     "text": [
      "INFO:hposuite.study:Generated 27 runs\n",
      "INFO:hposuite.study:Created study at /home/soham/repos/hposuite/examples/example-outputs/ex-dump-group\n",
      "INFO:hposuite.study:Dumped experiments to /home/soham/repos/hposuite/examples/example-outputs/ex-dump-group/dump_RandomSearch_ackley.txt\n",
      "INFO:hposuite.study:Dumped experiments to /home/soham/repos/hposuite/examples/example-outputs/ex-dump-group/dump_RandomSearch_branin.txt\n",
      "INFO:hposuite.study:Dumped experiments to /home/soham/repos/hposuite/examples/example-outputs/ex-dump-group/dump_RandomSearch_mfh3_good.txt\n",
      "INFO:hposuite.study:Dumped experiments to /home/soham/repos/hposuite/examples/example-outputs/ex-dump-group/dump_SMAC_BO_ackley.txt\n",
      "INFO:hposuite.study:Dumped experiments to /home/soham/repos/hposuite/examples/example-outputs/ex-dump-group/dump_SMAC_BO_branin.txt\n",
      "INFO:hposuite.study:Dumped experiments to /home/soham/repos/hposuite/examples/example-outputs/ex-dump-group/dump_SMAC_BO_mfh3_good.txt\n",
      "INFO:hposuite.study:Dumped experiments to /home/soham/repos/hposuite/examples/example-outputs/ex-dump-group/dump_Optuna_ackley.txt\n",
      "INFO:hposuite.study:Dumped experiments to /home/soham/repos/hposuite/examples/example-outputs/ex-dump-group/dump_Optuna_branin.txt\n",
      "INFO:hposuite.study:Dumped experiments to /home/soham/repos/hposuite/examples/example-outputs/ex-dump-group/dump_Optuna_mfh3_good.txt\n"
     ]
    }
   ],
   "source": [
    "from hposuite.study import create_study\n",
    "\n",
    "study = create_study(\n",
    "    name=\"ex-dump-group\",\n",
    "    output_dir=\"example-outputs\",\n",
    "    optimizers=[\"RandomSearch\", \"SMAC_BO\", \"Optuna\"],\n",
    "    benchmarks=[\"ackley\", \"branin\", \"mfh3_good\"],\n",
    "    num_seeds=3,\n",
    "    budget=10,\n",
    "    group_by=\"opt_bench\",\n",
    ")"
   ]
  },
  {
   "cell_type": "markdown",
   "metadata": {},
   "source": [
    "## Loading and running a Study from an existing Study config"
   ]
  },
  {
   "cell_type": "markdown",
   "metadata": {},
   "source": [
    "### 1. Creating a Study using Config Dictionary"
   ]
  },
  {
   "cell_type": "markdown",
   "metadata": {},
   "source": [
    "#### Writing the config dict"
   ]
  },
  {
   "cell_type": "code",
   "execution_count": 10,
   "metadata": {},
   "outputs": [],
   "source": [
    "study_config = {\n",
    "    \"study_name\": \"ex-load-study\",\n",
    "    \"output_dir\": \"example-outputs\",\n",
    "    \"optimizers\": [\"SMAC_Hyperband\", \"DEHB\"],\n",
    "    \"benchmarks\": [\"mfh3_good\", \"pd1-cifar100-wide_resnet-2048\", \"pd1-imagenet-resnet-512\"],\n",
    "    \"seeds\": 1,\n",
    "   \" budget\": 100,\n",
    "    \"group_by\": \"mem\",\n",
    "}"
   ]
  },
  {
   "cell_type": "markdown",
   "metadata": {},
   "source": [
    "#### Creating a Study using the above Config"
   ]
  },
  {
   "cell_type": "code",
   "execution_count": 11,
   "metadata": {},
   "outputs": [
    {
     "name": "stderr",
     "output_type": "stream",
     "text": [
      "INFO:hposuite.study:Generated 6 runs\n",
      "INFO:hposuite.study:Created study at /home/soham/repos/hposuite/examples/example-outputs/ex-load-study\n",
      "INFO:hposuite.study:Dumped experiments to /home/soham/repos/hposuite/examples/example-outputs/ex-load-study/dump_2048mb.txt\n",
      "INFO:hposuite.study:Dumped experiments to /home/soham/repos/hposuite/examples/example-outputs/ex-load-study/dump_13312mb.txt\n"
     ]
    }
   ],
   "source": [
    "from hposuite.study import Study\n",
    "\n",
    "study = Study.from_dict(study_config)"
   ]
  },
  {
   "cell_type": "markdown",
   "metadata": {},
   "source": [
    "#### Running the created Study"
   ]
  },
  {
   "cell_type": "code",
   "execution_count": null,
   "metadata": {},
   "outputs": [
    {
     "name": "stderr",
     "output_type": "stream",
     "text": [
      "INFO:hposuite.study:Overwrite flag is set to True. Existing results will be overwritten!\n",
      "INFO:hposuite.study:Running 6 experiments sequentially\n",
      "INFO:hposuite.study:Running experiment 1/6\n",
      "INFO:hposuite.run:Overwriting optimizer=SMAC_Hyperband.benchmark=mfh3_good.objectives=value.TrialBudget=50.seed=1 in `state=<State.PENDING: 'PENDING'>` at /home/soham/repos/hposuite/examples/example-outputs/ex-load-study/optimizer=SMAC_Hyperband.benchmark=mfh3_good.objectives=value.TrialBudget=50.seed=1.\n",
      "INFO:hpoglue._run:COMPLETED running optimizer=SMAC_Hyperband.benchmark=mfh3_good.objectives=value.TrialBudget=50.seed=1\n",
      "INFO:hposuite.run:Results dumped at /home/soham/repos/hposuite/examples/example-outputs/ex-load-study/optimizer=SMAC_Hyperband.benchmark=mfh3_good.objectives=value.TrialBudget=50.seed=1/optimizer=SMAC_Hyperband.benchmark=mfh3_good.objectives=value.TrialBudget=50.seed=1.parquet\n",
      "INFO:hposuite.study:Running experiment 2/6\n",
      "INFO:hposuite.run:Overwriting optimizer=SMAC_Hyperband.benchmark=pd1-cifar100-wide_resnet-2048.objectives=valid_error_rate.TrialBudget=50.seed=1 in `state=<State.PENDING: 'PENDING'>` at /home/soham/repos/hposuite/examples/example-outputs/ex-load-study/optimizer=SMAC_Hyperband.benchmark=pd1-cifar100-wide_resnet-2048.objectives=valid_error_rate.TrialBudget=50.seed=1.\n",
      "INFO:hpoglue._run:COMPLETED running optimizer=SMAC_Hyperband.benchmark=pd1-cifar100-wide_resnet-2048.objectives=valid_error_rate.TrialBudget=50.seed=1\n",
      "INFO:hposuite.run:Results dumped at /home/soham/repos/hposuite/examples/example-outputs/ex-load-study/optimizer=SMAC_Hyperband.benchmark=pd1-cifar100-wide_resnet-2048.objectives=valid_error_rate.TrialBudget=50.seed=1/optimizer=SMAC_Hyperband.benchmark=pd1-cifar100-wide_resnet-2048.objectives=valid_error_rate.TrialBudget=50.seed=1.parquet\n",
      "INFO:hposuite.study:Running experiment 3/6\n",
      "INFO:hposuite.run:Overwriting optimizer=SMAC_Hyperband.benchmark=pd1-imagenet-resnet-512.objectives=valid_error_rate.TrialBudget=50.seed=1 in `state=<State.PENDING: 'PENDING'>` at /home/soham/repos/hposuite/examples/example-outputs/ex-load-study/optimizer=SMAC_Hyperband.benchmark=pd1-imagenet-resnet-512.objectives=valid_error_rate.TrialBudget=50.seed=1.\n",
      "INFO:hpoglue._run:COMPLETED running optimizer=SMAC_Hyperband.benchmark=pd1-imagenet-resnet-512.objectives=valid_error_rate.TrialBudget=50.seed=1\n",
      "INFO:hposuite.run:Results dumped at /home/soham/repos/hposuite/examples/example-outputs/ex-load-study/optimizer=SMAC_Hyperband.benchmark=pd1-imagenet-resnet-512.objectives=valid_error_rate.TrialBudget=50.seed=1/optimizer=SMAC_Hyperband.benchmark=pd1-imagenet-resnet-512.objectives=valid_error_rate.TrialBudget=50.seed=1.parquet\n",
      "INFO:hposuite.study:Running experiment 4/6\n",
      "INFO:hposuite.run:Overwriting optimizer=DEHB.benchmark=mfh3_good.objectives=value.TrialBudget=50.seed=1 in `state=<State.PENDING: 'PENDING'>` at /home/soham/repos/hposuite/examples/example-outputs/ex-load-study/optimizer=DEHB.benchmark=mfh3_good.objectives=value.TrialBudget=50.seed=1.\n",
      "INFO:hpoglue._run:COMPLETED running optimizer=DEHB.benchmark=mfh3_good.objectives=value.TrialBudget=50.seed=1\n",
      "INFO:hposuite.run:Results dumped at /home/soham/repos/hposuite/examples/example-outputs/ex-load-study/optimizer=DEHB.benchmark=mfh3_good.objectives=value.TrialBudget=50.seed=1/optimizer=DEHB.benchmark=mfh3_good.objectives=value.TrialBudget=50.seed=1.parquet\n",
      "INFO:hposuite.study:Running experiment 5/6\n",
      "INFO:hposuite.run:Overwriting optimizer=DEHB.benchmark=pd1-cifar100-wide_resnet-2048.objectives=valid_error_rate.TrialBudget=50.seed=1 in `state=<State.PENDING: 'PENDING'>` at /home/soham/repos/hposuite/examples/example-outputs/ex-load-study/optimizer=DEHB.benchmark=pd1-cifar100-wide_resnet-2048.objectives=valid_error_rate.TrialBudget=50.seed=1.\n",
      "INFO:hpoglue._run:COMPLETED running optimizer=DEHB.benchmark=pd1-cifar100-wide_resnet-2048.objectives=valid_error_rate.TrialBudget=50.seed=1\n",
      "INFO:hposuite.run:Results dumped at /home/soham/repos/hposuite/examples/example-outputs/ex-load-study/optimizer=DEHB.benchmark=pd1-cifar100-wide_resnet-2048.objectives=valid_error_rate.TrialBudget=50.seed=1/optimizer=DEHB.benchmark=pd1-cifar100-wide_resnet-2048.objectives=valid_error_rate.TrialBudget=50.seed=1.parquet\n",
      "INFO:hposuite.study:Running experiment 6/6\n",
      "INFO:hposuite.run:Overwriting optimizer=DEHB.benchmark=pd1-imagenet-resnet-512.objectives=valid_error_rate.TrialBudget=50.seed=1 in `state=<State.PENDING: 'PENDING'>` at /home/soham/repos/hposuite/examples/example-outputs/ex-load-study/optimizer=DEHB.benchmark=pd1-imagenet-resnet-512.objectives=valid_error_rate.TrialBudget=50.seed=1.\n",
      "INFO:hpoglue._run:COMPLETED running optimizer=DEHB.benchmark=pd1-imagenet-resnet-512.objectives=valid_error_rate.TrialBudget=50.seed=1\n",
      "INFO:hposuite.run:Results dumped at /home/soham/repos/hposuite/examples/example-outputs/ex-load-study/optimizer=DEHB.benchmark=pd1-imagenet-resnet-512.objectives=valid_error_rate.TrialBudget=50.seed=1/optimizer=DEHB.benchmark=pd1-imagenet-resnet-512.objectives=valid_error_rate.TrialBudget=50.seed=1.parquet\n",
      "INFO:hposuite.study:Completed study with 6 runs\n"
     ]
    }
   ],
   "source": [
    "study.optimize()"
   ]
  },
  {
   "cell_type": "markdown",
   "metadata": {},
   "source": [
    "### 2. Creating a Study using a Config YAML"
   ]
  },
  {
   "cell_type": "markdown",
   "metadata": {},
   "source": [
    "#### Creating the Study using the example YAML in example/exp_configs/sample_multirun_config.yaml"
   ]
  },
  {
   "cell_type": "code",
   "execution_count": 2,
   "metadata": {},
   "outputs": [
    {
     "name": "stderr",
     "output_type": "stream",
     "text": [
      "INFO:hposuite.study:Generated 4 runs\n",
      "INFO:hposuite.study:Created study at /home/soham/repos/hposuite/examples/example-outputs/sample_multirun\n",
      "INFO:hposuite.study:Dumped experiments to /home/soham/repos/hposuite/examples/example-outputs/sample_multirun/dump_all.txt\n"
     ]
    }
   ],
   "source": [
    "from hposuite import Study\n",
    "\n",
    "study = Study.from_yaml(\"./exp_configs/sample_multirun_config.yaml\")"
   ]
  },
  {
   "cell_type": "markdown",
   "metadata": {},
   "source": [
    "#### Running the created Study"
   ]
  },
  {
   "cell_type": "code",
   "execution_count": 3,
   "metadata": {},
   "outputs": [
    {
     "name": "stderr",
     "output_type": "stream",
     "text": [
      "INFO:hposuite.study:Running 4 experiments sequentially\n",
      "INFO:hposuite.study:Running experiment 1/4\n",
      "INFO:hpoglue._run:COMPLETED running optimizer=SMAC_Hyperband.eta=2.benchmark=mfh3_good.objectives=value.TrialBudget=100.seed=1\n",
      "INFO:hposuite.run:Results dumped at /home/soham/repos/hposuite/examples/example-outputs/sample_multirun/optimizer=SMAC_Hyperband.eta=2.benchmark=mfh3_good.objectives=value.TrialBudget=100.seed=1/optimizer=SMAC_Hyperband.eta=2.benchmark=mfh3_good.objectives=value.TrialBudget=100.seed=1.parquet\n",
      "INFO:hposuite.study:Running experiment 2/4\n",
      "INFO:hpoglue._run:COMPLETED running optimizer=SMAC_Hyperband.eta=2.benchmark=mfh6_good.objectives=value.TrialBudget=100.seed=1\n",
      "INFO:hposuite.run:Results dumped at /home/soham/repos/hposuite/examples/example-outputs/sample_multirun/optimizer=SMAC_Hyperband.eta=2.benchmark=mfh6_good.objectives=value.TrialBudget=100.seed=1/optimizer=SMAC_Hyperband.eta=2.benchmark=mfh6_good.objectives=value.TrialBudget=100.seed=1.parquet\n",
      "INFO:hposuite.study:Running experiment 3/4\n"
     ]
    },
    {
     "name": "stdout",
     "output_type": "stream",
     "text": [
      "\u001b[32m2025-02-08 16:10:48.509\u001b[0m | \u001b[33m\u001b[1mWARNING \u001b[0m | \u001b[36mdehb.optimizers.dehb\u001b[0m:\u001b[36m__init__\u001b[0m:\u001b[36m264\u001b[0m - \u001b[33m\u001b[1mA checkpoint already exists, results could potentially be overwritten.\u001b[0m\n"
     ]
    },
    {
     "name": "stderr",
     "output_type": "stream",
     "text": [
      "INFO:hpoglue._run:COMPLETED running optimizer=DEHB.benchmark=mfh3_good.objectives=value.TrialBudget=100.seed=1\n",
      "INFO:hposuite.run:Results dumped at /home/soham/repos/hposuite/examples/example-outputs/sample_multirun/optimizer=DEHB.benchmark=mfh3_good.objectives=value.TrialBudget=100.seed=1/optimizer=DEHB.benchmark=mfh3_good.objectives=value.TrialBudget=100.seed=1.parquet\n",
      "INFO:hposuite.study:Running experiment 4/4\n",
      "INFO:hpoglue._run:COMPLETED running optimizer=DEHB.benchmark=mfh6_good.objectives=value.TrialBudget=100.seed=1\n",
      "INFO:hposuite.run:Results dumped at /home/soham/repos/hposuite/examples/example-outputs/sample_multirun/optimizer=DEHB.benchmark=mfh6_good.objectives=value.TrialBudget=100.seed=1/optimizer=DEHB.benchmark=mfh6_good.objectives=value.TrialBudget=100.seed=1.parquet\n",
      "INFO:hposuite.study:Completed study with 4 runs\n"
     ]
    }
   ],
   "source": [
    "study.optimize()"
   ]
  },
  {
   "cell_type": "markdown",
   "metadata": {},
   "source": [
    "## Running a hposuite Study with a set of predefined hpoglue problems"
   ]
  },
  {
   "cell_type": "code",
   "execution_count": null,
   "metadata": {},
   "outputs": [],
   "source": [
    "# TODO: Add this functionality"
   ]
  }
 ],
 "metadata": {
  "kernelspec": {
   "display_name": "hposuite_env",
   "language": "python",
   "name": "python3"
  },
  "language_info": {
   "codemirror_mode": {
    "name": "ipython",
    "version": 3
   },
   "file_extension": ".py",
   "mimetype": "text/x-python",
   "name": "python",
   "nbconvert_exporter": "python",
   "pygments_lexer": "ipython3",
   "version": "3.10.12"
  }
 },
 "nbformat": 4,
 "nbformat_minor": 2
}
