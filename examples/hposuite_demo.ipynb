{
 "cells": [
  {
   "cell_type": "markdown",
   "metadata": {},
   "source": [
    "# Notebook with Minimal example to run hposuite"
   ]
  },
  {
   "cell_type": "code",
   "execution_count": 1,
   "metadata": {},
   "outputs": [
    {
     "name": "stdout",
     "output_type": "stream",
     "text": [
      "{'ackley': <hpoglue.benchmark.FunctionalBenchmark object at 0x7128de376d70>}\n",
      "{'RandomSearch': <class 'lib.optimizers.random_search.RandomSearch'>}\n"
     ]
    }
   ],
   "source": [
    "from lib import BENCHMARKS, OPTIMIZERS\n",
    "\n",
    "print(BENCHMARKS)\n",
    "print(OPTIMIZERS)"
   ]
  },
  {
   "cell_type": "code",
   "execution_count": 2,
   "metadata": {},
   "outputs": [],
   "source": [
    "benchmark = BENCHMARKS[\"ackley\"]\n",
    "optimizer = OPTIMIZERS[\"RandomSearch\"]"
   ]
  },
  {
   "cell_type": "code",
   "execution_count": null,
   "metadata": {},
   "outputs": [],
   "source": [
    "from hposuite import create_study\n",
    "\n",
    "study = create_study(name=\"hposuite_demo\")\n",
    "\n",
    "study.optimize(\n",
    "    optimizers=optimizer,\n",
    "    benchmarks=benchmark,\n",
    "    num_seeds=5,\n",
    "    budget=100,\n",
    "    exec_type=\"sequential\",\n",
    ")"
   ]
  }
 ],
 "metadata": {
  "kernelspec": {
   "display_name": "hposuite_env",
   "language": "python",
   "name": "python3"
  },
  "language_info": {
   "codemirror_mode": {
    "name": "ipython",
    "version": 3
   },
   "file_extension": ".py",
   "mimetype": "text/x-python",
   "name": "python",
   "nbconvert_exporter": "python",
   "pygments_lexer": "ipython3",
   "version": "3.10.12"
  }
 },
 "nbformat": 4,
 "nbformat_minor": 2
}
