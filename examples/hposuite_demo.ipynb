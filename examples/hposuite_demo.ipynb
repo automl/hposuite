{
 "cells": [
  {
   "cell_type": "markdown",
   "metadata": {},
   "source": [
    "# Notebook with Minimal example to run hposuite"
   ]
  },
  {
   "cell_type": "code",
   "execution_count": 2,
   "metadata": {},
   "outputs": [
    {
     "name": "stdout",
     "output_type": "stream",
     "text": [
      "dict_keys(['Ex_Functional_Bench', 'Ex_Surrogate_Bench', 'mfh3_bad', 'mfh6_bad', 'mfh3_good', 'mfh6_good', 'mfh3_moderate', 'mfh6_moderate', 'mfh3_terrible', 'mfh6_terrible'])\n",
      "dict_keys(['RandomSearch', 'RandomSearchWithPriors', 'Ex_MO_Opt', 'Ex_Multifidelity_Opt', 'Ex_Blackbox_Opt'])\n"
     ]
    }
   ],
   "source": [
    "# It is assumed that the datadir is hposuite/data\n",
    "\n",
    "from lib.benchmarks import BENCHMARKS\n",
    "from lib.optimizers import OPTIMIZERS\n",
    "\n",
    "print(BENCHMARKS.keys())\n",
    "print(OPTIMIZERS.keys())"
   ]
  },
  {
   "cell_type": "markdown",
   "metadata": {},
   "source": [
    "## Running Random Search on a Functional Benchmark (eg: ACKLEY)"
   ]
  },
  {
   "cell_type": "code",
   "execution_count": 27,
   "metadata": {},
   "outputs": [],
   "source": [
    "func_benchmark = BENCHMARKS[\"Ex_Functional_Bench\"]\n",
    "rs = OPTIMIZERS[\"RandomSearch\"]"
   ]
  },
  {
   "cell_type": "markdown",
   "metadata": {},
   "source": [
    "### Printing Ackley's description"
   ]
  },
  {
   "cell_type": "code",
   "execution_count": 28,
   "metadata": {},
   "outputs": [
    {
     "name": "stdout",
     "output_type": "stream",
     "text": [
      "BenchmarkDescription(name='Ex_Functional_Bench', config_space=Configuration space object:\n",
      "  Hyperparameters:\n",
      "    x0, Type: UniformFloat, Range: [-32.768, 32.768], Default: 0.0\n",
      "    x1, Type: UniformFloat, Range: [-32.768, 32.768], Default: 0.0\n",
      ", load=functools.partial(<bound method FunctionalBenchmark.load of <hpoglue.benchmark.FunctionalBenchmark object at 0x78df76de4040>>), metrics={'y': Measure(minimize=True, kind=<Kind.METRIC: 'metric'>, bounds=(0.0, inf))}, test_metrics=None, costs=None, fidelities=None, has_conditionals=False, is_tabular=False, env=Env(name='empty'), mem_req_mb=1024, predefined_points={'min': Config(config_id='min', values={'x0': 0.0, 'x1': 0.0}, description='This point yields a global optimum of y:0.0')}, extra={})\n"
     ]
    }
   ],
   "source": [
    "print(func_benchmark.desc)"
   ]
  },
  {
   "cell_type": "markdown",
   "metadata": {},
   "source": [
    "### Run RandomSearch on Ackley using hposuite"
   ]
  },
  {
   "cell_type": "code",
   "execution_count": 29,
   "metadata": {},
   "outputs": [
    {
     "name": "stderr",
     "output_type": "stream",
     "text": [
      "INFO:hposuite.study:Generated 5 runs\n",
      "INFO:hposuite.study:Created study at example-outputs/hposuite_demo_rs_func\n",
      "INFO:hposuite.study:Dumped experiments to example-outputs/hposuite_demo_rs_func/dump_all.txt\n",
      "INFO:hposuite.study:Overwrite flag is set to True. Existing results will be overwritten!\n",
      "INFO:hposuite.study:Running 5 experiments sequentially\n",
      "INFO:hposuite.study:Running experiment 1/5\n",
      "INFO:hposuite.run:Overwriting optimizer=RandomSearch.benchmark=Ex_Functional_Bench.TrialBudget=100.seed=383329928 in `state=<State.PENDING: 'PENDING'>` at /home/soham/repos/hposuite/examples/example-outputs/hposuite_demo_rs_func/optimizer=RandomSearch.benchmark=Ex_Functional_Bench.TrialBudget=100.seed=383329928.\n",
      "WARNING:hposuite.run:Continuations are not supported for the optimizer: <class 'lib.optimizers.random_search.RandomSearch'>. Ignoring continuations=True.\n",
      "INFO:hpoglue._run:COMPLETED running optimizer=RandomSearch.benchmark=Ex_Functional_Bench.TrialBudget=100.seed=383329928\n",
      "INFO:hposuite.run:Results dumped at /home/soham/repos/hposuite/examples/example-outputs/hposuite_demo_rs_func/optimizer=RandomSearch.benchmark=Ex_Functional_Bench.TrialBudget=100.seed=383329928/optimizer=RandomSearch.benchmark=Ex_Functional_Bench.TrialBudget=100.seed=383329928.parquet\n",
      "INFO:hposuite.study:Running experiment 2/5\n",
      "INFO:hposuite.run:Overwriting optimizer=RandomSearch.benchmark=Ex_Functional_Bench.TrialBudget=100.seed=3324115917 in `state=<State.PENDING: 'PENDING'>` at /home/soham/repos/hposuite/examples/example-outputs/hposuite_demo_rs_func/optimizer=RandomSearch.benchmark=Ex_Functional_Bench.TrialBudget=100.seed=3324115917.\n",
      "WARNING:hposuite.run:Continuations are not supported for the optimizer: <class 'lib.optimizers.random_search.RandomSearch'>. Ignoring continuations=True.\n",
      "INFO:hpoglue._run:COMPLETED running optimizer=RandomSearch.benchmark=Ex_Functional_Bench.TrialBudget=100.seed=3324115917\n",
      "INFO:hposuite.run:Results dumped at /home/soham/repos/hposuite/examples/example-outputs/hposuite_demo_rs_func/optimizer=RandomSearch.benchmark=Ex_Functional_Bench.TrialBudget=100.seed=3324115917/optimizer=RandomSearch.benchmark=Ex_Functional_Bench.TrialBudget=100.seed=3324115917.parquet\n",
      "INFO:hposuite.study:Running experiment 3/5\n",
      "INFO:hposuite.run:Overwriting optimizer=RandomSearch.benchmark=Ex_Functional_Bench.TrialBudget=100.seed=2811363265 in `state=<State.PENDING: 'PENDING'>` at /home/soham/repos/hposuite/examples/example-outputs/hposuite_demo_rs_func/optimizer=RandomSearch.benchmark=Ex_Functional_Bench.TrialBudget=100.seed=2811363265.\n",
      "WARNING:hposuite.run:Continuations are not supported for the optimizer: <class 'lib.optimizers.random_search.RandomSearch'>. Ignoring continuations=True.\n",
      "INFO:hpoglue._run:COMPLETED running optimizer=RandomSearch.benchmark=Ex_Functional_Bench.TrialBudget=100.seed=2811363265\n",
      "INFO:hposuite.run:Results dumped at /home/soham/repos/hposuite/examples/example-outputs/hposuite_demo_rs_func/optimizer=RandomSearch.benchmark=Ex_Functional_Bench.TrialBudget=100.seed=2811363265/optimizer=RandomSearch.benchmark=Ex_Functional_Bench.TrialBudget=100.seed=2811363265.parquet\n",
      "INFO:hposuite.study:Running experiment 4/5\n",
      "INFO:hposuite.run:Overwriting optimizer=RandomSearch.benchmark=Ex_Functional_Bench.TrialBudget=100.seed=1884968545 in `state=<State.PENDING: 'PENDING'>` at /home/soham/repos/hposuite/examples/example-outputs/hposuite_demo_rs_func/optimizer=RandomSearch.benchmark=Ex_Functional_Bench.TrialBudget=100.seed=1884968545.\n",
      "WARNING:hposuite.run:Continuations are not supported for the optimizer: <class 'lib.optimizers.random_search.RandomSearch'>. Ignoring continuations=True.\n",
      "INFO:hpoglue._run:COMPLETED running optimizer=RandomSearch.benchmark=Ex_Functional_Bench.TrialBudget=100.seed=1884968545\n",
      "INFO:hposuite.run:Results dumped at /home/soham/repos/hposuite/examples/example-outputs/hposuite_demo_rs_func/optimizer=RandomSearch.benchmark=Ex_Functional_Bench.TrialBudget=100.seed=1884968545/optimizer=RandomSearch.benchmark=Ex_Functional_Bench.TrialBudget=100.seed=1884968545.parquet\n",
      "INFO:hposuite.study:Running experiment 5/5\n",
      "INFO:hposuite.run:Overwriting optimizer=RandomSearch.benchmark=Ex_Functional_Bench.TrialBudget=100.seed=1859786276 in `state=<State.PENDING: 'PENDING'>` at /home/soham/repos/hposuite/examples/example-outputs/hposuite_demo_rs_func/optimizer=RandomSearch.benchmark=Ex_Functional_Bench.TrialBudget=100.seed=1859786276.\n",
      "WARNING:hposuite.run:Continuations are not supported for the optimizer: <class 'lib.optimizers.random_search.RandomSearch'>. Ignoring continuations=True.\n",
      "INFO:hpoglue._run:COMPLETED running optimizer=RandomSearch.benchmark=Ex_Functional_Bench.TrialBudget=100.seed=1859786276\n",
      "INFO:hposuite.run:Results dumped at /home/soham/repos/hposuite/examples/example-outputs/hposuite_demo_rs_func/optimizer=RandomSearch.benchmark=Ex_Functional_Bench.TrialBudget=100.seed=1859786276/optimizer=RandomSearch.benchmark=Ex_Functional_Bench.TrialBudget=100.seed=1859786276.parquet\n"
     ]
    }
   ],
   "source": [
    "from hposuite import create_study\n",
    "\n",
    "study = create_study(\n",
    "    name=\"hposuite_demo_rs_func\",\n",
    "    output_dir=\"example-outputs\",\n",
    "    optimizers=rs,\n",
    "    benchmarks=func_benchmark,\n",
    "    num_seeds=5,\n",
    "    budget=100,\n",
    ")\n",
    "\n",
    "study.optimize(overwrite=True)"
   ]
  },
  {
   "cell_type": "markdown",
   "metadata": {},
   "source": [
    "## Running a BlackBox Optimizer on a Synthetic Benchmark"
   ]
  },
  {
   "cell_type": "markdown",
   "metadata": {},
   "source": [
    "SMAC provides the BlackBoxFacade which is used as an example of a BlackBox Optimizer. \\\n",
    "Multi-fidelity Hartmann 3D with the correlation \"good\" serves as an example of a Synethetic Multi-fidelity Benchmark."
   ]
  },
  {
   "cell_type": "code",
   "execution_count": 30,
   "metadata": {},
   "outputs": [],
   "source": [
    "bb_optimizer = OPTIMIZERS[\"Ex_Blackbox_Opt\"]\n",
    "mf_syn_benchmark = BENCHMARKS[\"mfh3_good\"]"
   ]
  },
  {
   "cell_type": "code",
   "execution_count": 32,
   "metadata": {},
   "outputs": [
    {
     "name": "stderr",
     "output_type": "stream",
     "text": [
      "INFO:hposuite.study:Generated 5 runs\n",
      "INFO:hposuite.study:Created study at example-outputs/hposuite_demo_bb_mfsyn\n",
      "INFO:hposuite.study:Dumped experiments to example-outputs/hposuite_demo_bb_mfsyn/dump_all.txt\n",
      "INFO:hposuite.study:Overwrite flag is set to True. Existing results will be overwritten!\n",
      "INFO:hposuite.study:Running 5 experiments sequentially\n",
      "INFO:hposuite.study:Running experiment 1/5\n",
      "INFO:hposuite.run:Overwriting optimizer=Ex_Blackbox_Opt.benchmark=mfh3_good.TrialBudget=20.seed=383329928 in `state=<State.RUNNING: 'RUNNING'>` at /home/soham/repos/hposuite/examples/example-outputs/hposuite_demo_bb_mfsyn/optimizer=Ex_Blackbox_Opt.benchmark=mfh3_good.TrialBudget=20.seed=383329928.\n",
      "WARNING:hposuite.run:Continuations are not supported for the optimizer: <class 'lib.optimizers.ex_blackbox_opt.Ex_Blackbox_Opt'>. Ignoring continuations=True.\n",
      "INFO:hpoglue._run:COMPLETED running optimizer=Ex_Blackbox_Opt.benchmark=mfh3_good.TrialBudget=20.seed=383329928\n",
      "INFO:hposuite.run:Results dumped at /home/soham/repos/hposuite/examples/example-outputs/hposuite_demo_bb_mfsyn/optimizer=Ex_Blackbox_Opt.benchmark=mfh3_good.TrialBudget=20.seed=383329928/optimizer=Ex_Blackbox_Opt.benchmark=mfh3_good.TrialBudget=20.seed=383329928.parquet\n",
      "INFO:hposuite.study:Running experiment 2/5\n",
      "INFO:hposuite.run:Overwriting optimizer=Ex_Blackbox_Opt.benchmark=mfh3_good.TrialBudget=20.seed=3324115917 in `state=<State.PENDING: 'PENDING'>` at /home/soham/repos/hposuite/examples/example-outputs/hposuite_demo_bb_mfsyn/optimizer=Ex_Blackbox_Opt.benchmark=mfh3_good.TrialBudget=20.seed=3324115917.\n",
      "WARNING:hposuite.run:Continuations are not supported for the optimizer: <class 'lib.optimizers.ex_blackbox_opt.Ex_Blackbox_Opt'>. Ignoring continuations=True.\n",
      "INFO:hpoglue._run:COMPLETED running optimizer=Ex_Blackbox_Opt.benchmark=mfh3_good.TrialBudget=20.seed=3324115917\n",
      "INFO:hposuite.run:Results dumped at /home/soham/repos/hposuite/examples/example-outputs/hposuite_demo_bb_mfsyn/optimizer=Ex_Blackbox_Opt.benchmark=mfh3_good.TrialBudget=20.seed=3324115917/optimizer=Ex_Blackbox_Opt.benchmark=mfh3_good.TrialBudget=20.seed=3324115917.parquet\n",
      "INFO:hposuite.study:Running experiment 3/5\n",
      "INFO:hposuite.run:Overwriting optimizer=Ex_Blackbox_Opt.benchmark=mfh3_good.TrialBudget=20.seed=2811363265 in `state=<State.PENDING: 'PENDING'>` at /home/soham/repos/hposuite/examples/example-outputs/hposuite_demo_bb_mfsyn/optimizer=Ex_Blackbox_Opt.benchmark=mfh3_good.TrialBudget=20.seed=2811363265.\n",
      "WARNING:hposuite.run:Continuations are not supported for the optimizer: <class 'lib.optimizers.ex_blackbox_opt.Ex_Blackbox_Opt'>. Ignoring continuations=True.\n",
      "INFO:hpoglue._run:COMPLETED running optimizer=Ex_Blackbox_Opt.benchmark=mfh3_good.TrialBudget=20.seed=2811363265\n",
      "INFO:hposuite.run:Results dumped at /home/soham/repos/hposuite/examples/example-outputs/hposuite_demo_bb_mfsyn/optimizer=Ex_Blackbox_Opt.benchmark=mfh3_good.TrialBudget=20.seed=2811363265/optimizer=Ex_Blackbox_Opt.benchmark=mfh3_good.TrialBudget=20.seed=2811363265.parquet\n",
      "INFO:hposuite.study:Running experiment 4/5\n",
      "INFO:hposuite.run:Overwriting optimizer=Ex_Blackbox_Opt.benchmark=mfh3_good.TrialBudget=20.seed=1884968545 in `state=<State.PENDING: 'PENDING'>` at /home/soham/repos/hposuite/examples/example-outputs/hposuite_demo_bb_mfsyn/optimizer=Ex_Blackbox_Opt.benchmark=mfh3_good.TrialBudget=20.seed=1884968545.\n",
      "WARNING:hposuite.run:Continuations are not supported for the optimizer: <class 'lib.optimizers.ex_blackbox_opt.Ex_Blackbox_Opt'>. Ignoring continuations=True.\n",
      "INFO:hpoglue._run:COMPLETED running optimizer=Ex_Blackbox_Opt.benchmark=mfh3_good.TrialBudget=20.seed=1884968545\n",
      "INFO:hposuite.run:Results dumped at /home/soham/repos/hposuite/examples/example-outputs/hposuite_demo_bb_mfsyn/optimizer=Ex_Blackbox_Opt.benchmark=mfh3_good.TrialBudget=20.seed=1884968545/optimizer=Ex_Blackbox_Opt.benchmark=mfh3_good.TrialBudget=20.seed=1884968545.parquet\n",
      "INFO:hposuite.study:Running experiment 5/5\n",
      "INFO:hposuite.run:Overwriting optimizer=Ex_Blackbox_Opt.benchmark=mfh3_good.TrialBudget=20.seed=1859786276 in `state=<State.PENDING: 'PENDING'>` at /home/soham/repos/hposuite/examples/example-outputs/hposuite_demo_bb_mfsyn/optimizer=Ex_Blackbox_Opt.benchmark=mfh3_good.TrialBudget=20.seed=1859786276.\n",
      "WARNING:hposuite.run:Continuations are not supported for the optimizer: <class 'lib.optimizers.ex_blackbox_opt.Ex_Blackbox_Opt'>. Ignoring continuations=True.\n",
      "INFO:hpoglue._run:COMPLETED running optimizer=Ex_Blackbox_Opt.benchmark=mfh3_good.TrialBudget=20.seed=1859786276\n",
      "INFO:hposuite.run:Results dumped at /home/soham/repos/hposuite/examples/example-outputs/hposuite_demo_bb_mfsyn/optimizer=Ex_Blackbox_Opt.benchmark=mfh3_good.TrialBudget=20.seed=1859786276/optimizer=Ex_Blackbox_Opt.benchmark=mfh3_good.TrialBudget=20.seed=1859786276.parquet\n"
     ]
    }
   ],
   "source": [
    "from hposuite import create_study\n",
    "\n",
    "study = create_study(\n",
    "    name=\"hposuite_demo_bb_mfsyn\",\n",
    "    output_dir=\"example-outputs\",\n",
    "    optimizers=bb_optimizer,\n",
    "    benchmarks=mf_syn_benchmark,\n",
    "    num_seeds=5,\n",
    "    budget=20,\n",
    ")\n",
    "\n",
    "study.optimize(overwrite=True)"
   ]
  },
  {
   "cell_type": "markdown",
   "metadata": {},
   "source": [
    "## Running a MultiFidelity Optimizer on a Surrogate Benchmark"
   ]
  },
  {
   "cell_type": "markdown",
   "metadata": {},
   "source": [
    "We use a Multi-fidelity Optimizer like Hyperband from SMAC on the PD1 Cifar 100 Wide Resnet 2048 Benchmark which is a Surrogate Benchmark provided by the MF-Prior-Bench Package"
   ]
  },
  {
   "cell_type": "code",
   "execution_count": 3,
   "metadata": {},
   "outputs": [],
   "source": [
    "sg_benchmark = BENCHMARKS[\"Ex_Surrogate_Bench\"]\n",
    "mf_optimizer = OPTIMIZERS[\"Ex_Multifidelity_Opt\"]"
   ]
  },
  {
   "cell_type": "code",
   "execution_count": null,
   "metadata": {},
   "outputs": [],
   "source": [
    "from hposuite import create_study\n",
    "\n",
    "study = create_study(\n",
    "    name=\"hposuite_demo_sg_mf\",\n",
    "    output_dir=\"example-outputs\",\n",
    "    optimizers=mf_optimizer,\n",
    "    benchmarks=sg_benchmark,\n",
    "    num_seeds=5,\n",
    "    budget=100,\n",
    ")\n",
    "\n",
    "study.optimize(overwrite=True)"
   ]
  },
  {
   "cell_type": "markdown",
   "metadata": {},
   "source": [
    "## Running a Multi-objective Optimizer on a Benchmark with Multiple Objectives"
   ]
  },
  {
   "cell_type": "markdown",
   "metadata": {},
   "source": [
    "Optuna's NSGA2 Sampler is used here as an example of a Multi-Objective Optimizer. \\\n",
    "PD1 Cifar 100 Wide Resnet 2048 from MF-Prior-Bench is the Benchmark used with \"valid_error_rate\" and \"train_cost\" as the objectives."
   ]
  },
  {
   "cell_type": "code",
   "execution_count": 3,
   "metadata": {},
   "outputs": [],
   "source": [
    "mo_optimizer = OPTIMIZERS[\"Ex_MO_Opt\"]\n",
    "mo_benchmark = BENCHMARKS[\"Ex_Surrogate_Bench\"]"
   ]
  },
  {
   "cell_type": "markdown",
   "metadata": {},
   "source": [
    "### Printing the description of the Example Surrogate benchmark and its available list of objectives"
   ]
  },
  {
   "cell_type": "code",
   "execution_count": 6,
   "metadata": {},
   "outputs": [
    {
     "name": "stdout",
     "output_type": "stream",
     "text": [
      "BenchmarkDescription(name='Ex_Surrogate_Bench', config_space=Configuration space object:\n",
      "  Hyperparameters:\n",
      "    lr_decay_factor, Type: UniformFloat, Range: [0.010093, 0.989012], Default: 0.4995525\n",
      "    lr_initial, Type: UniformFloat, Range: [1e-05, 9.779176], Default: 0.0098889716351, on log-scale\n",
      "    lr_power, Type: UniformFloat, Range: [0.100708, 1.999376], Default: 1.050042\n",
      "    opt_momentum, Type: UniformFloat, Range: [5.9e-05, 0.998993], Default: 0.0076772773169, on log-scale\n",
      ", load=functools.partial(<function _get_surrogate_benchmark at 0x7c6b22e15240>, benchmark_name='cifar100_wideresnet_2048', datadir=PosixPath('/home/soham/repos/hposuite/data/pd1')), metrics={'valid_error_rate': Measure(minimize=True, kind=<Kind.METRIC: 'metric'>, bounds=(0, 1))}, test_metrics=None, costs={'train_cost': Measure(minimize=True, kind=<Kind.COST: 'cost'>, bounds=(0, inf))}, fidelities={'epoch': RangeFidelity(kind=<class 'int'>, min=1, max=199, stepsize=1, supports_continuation=True)}, has_conditionals=False, is_tabular=False, env=Env(name='py310-mfpbench-1.9-pd1'), mem_req_mb=12288, predefined_points=None, extra={})\n",
      "dict_keys(['valid_error_rate']) dict_keys(['train_cost'])\n"
     ]
    }
   ],
   "source": [
    "print(mo_benchmark)\n",
    "print(mo_benchmark.metrics.keys(), mo_benchmark.costs.keys()) # We can use both the metrics and costs as objectives"
   ]
  },
  {
   "cell_type": "markdown",
   "metadata": {},
   "source": [
    "### Running Optuna NSGA2 on the Surrogate Benchmark"
   ]
  },
  {
   "cell_type": "code",
   "execution_count": null,
   "metadata": {},
   "outputs": [],
   "source": [
    "from hposuite import create_study\n",
    "\n",
    "study = create_study(\n",
    "    name=\"hposuite_demo_sg_mf\",\n",
    "    output_dir=\"../../hposuite-output\",\n",
    "    optimizers=mo_optimizer,\n",
    "    benchmarks=(\n",
    "        mo_benchmark,\n",
    "        {\n",
    "            \"objectives\": [\"valid_error_rate\", \"train_cost\"]\n",
    "        }\n",
    "    ),\n",
    "    num_seeds=5,\n",
    "    budget=100,\n",
    ")\n",
    "\n",
    "study.optimize(overwrite=True)"
   ]
  },
  {
   "cell_type": "markdown",
   "metadata": {},
   "source": [
    "## Running an Optimizer that supports Priors on a Benchmark with a Prior over its objective"
   ]
  },
  {
   "cell_type": "markdown",
   "metadata": {},
   "source": [
    "Optimizer: RandomSearch With Priors \\\n",
    "Benchmark: Ackley Functional Benchmark with the optimum as the Prior (perturbed by std=0.25)"
   ]
  },
  {
   "cell_type": "code",
   "execution_count": 4,
   "metadata": {},
   "outputs": [],
   "source": [
    "rs_with_priors = OPTIMIZERS[\"RandomSearchWithPriors\"]\n",
    "func_benchmark = BENCHMARKS[\"Ex_Functional_Bench\"]"
   ]
  },
  {
   "cell_type": "markdown",
   "metadata": {},
   "source": [
    "### Print available predefined points in the Ackley Functional Benchmark"
   ]
  },
  {
   "cell_type": "code",
   "execution_count": 26,
   "metadata": {},
   "outputs": [
    {
     "name": "stdout",
     "output_type": "stream",
     "text": [
      "{'min': Config(config_id='min', values={'x0': 0.0, 'x1': 0.0}, description='This point yields a global optimum of y:0.0')}\n"
     ]
    }
   ],
   "source": [
    "print(func_benchmark.desc.predefined_points)"
   ]
  },
  {
   "cell_type": "markdown",
   "metadata": {},
   "source": [
    "### Run RandomSearch With Priors on Ackley with hposuite"
   ]
  },
  {
   "cell_type": "code",
   "execution_count": 13,
   "metadata": {},
   "outputs": [
    {
     "name": "stderr",
     "output_type": "stream",
     "text": [
      "INFO:hposuite.study:Generated 5 runs\n",
      "INFO:hposuite.study:Created study at example-outputs/hposuite_demo_priors\n",
      "INFO:hposuite.study:Dumped experiments to example-outputs/hposuite_demo_priors/dump_all.txt\n",
      "INFO:hposuite.study:Overwrite flag is set to True. Existing results will be overwritten!\n",
      "INFO:hposuite.study:Running 5 experiments sequentially\n",
      "INFO:hposuite.study:Running experiment 1/5\n",
      "INFO:hposuite.run:Overwriting optimizer=RandomSearchWithPriors.benchmark=Ex_Functional_Bench.TrialBudget=100.seed=383329928 in `state=<State.PENDING: 'PENDING'>` at /home/soham/repos/hposuite/examples/example-outputs/hposuite_demo_priors/optimizer=RandomSearchWithPriors.benchmark=Ex_Functional_Bench.TrialBudget=100.seed=383329928.\n",
      "WARNING:hposuite.run:Continuations are not supported for the optimizer: <class 'lib.optimizers.random_search.RandomSearchWithPriors'>. Ignoring continuations=True.\n",
      "INFO:hpoglue._run:COMPLETED running optimizer=RandomSearchWithPriors.benchmark=Ex_Functional_Bench.TrialBudget=100.seed=383329928\n",
      "INFO:hposuite.run:Results dumped at /home/soham/repos/hposuite/examples/example-outputs/hposuite_demo_priors/optimizer=RandomSearchWithPriors.benchmark=Ex_Functional_Bench.TrialBudget=100.seed=383329928/optimizer=RandomSearchWithPriors.benchmark=Ex_Functional_Bench.TrialBudget=100.seed=383329928.parquet\n",
      "INFO:hposuite.study:Running experiment 2/5\n",
      "INFO:hposuite.run:Overwriting optimizer=RandomSearchWithPriors.benchmark=Ex_Functional_Bench.TrialBudget=100.seed=3324115917 in `state=<State.PENDING: 'PENDING'>` at /home/soham/repos/hposuite/examples/example-outputs/hposuite_demo_priors/optimizer=RandomSearchWithPriors.benchmark=Ex_Functional_Bench.TrialBudget=100.seed=3324115917.\n",
      "WARNING:hposuite.run:Continuations are not supported for the optimizer: <class 'lib.optimizers.random_search.RandomSearchWithPriors'>. Ignoring continuations=True.\n",
      "INFO:hpoglue._run:COMPLETED running optimizer=RandomSearchWithPriors.benchmark=Ex_Functional_Bench.TrialBudget=100.seed=3324115917\n",
      "INFO:hposuite.run:Results dumped at /home/soham/repos/hposuite/examples/example-outputs/hposuite_demo_priors/optimizer=RandomSearchWithPriors.benchmark=Ex_Functional_Bench.TrialBudget=100.seed=3324115917/optimizer=RandomSearchWithPriors.benchmark=Ex_Functional_Bench.TrialBudget=100.seed=3324115917.parquet\n",
      "INFO:hposuite.study:Running experiment 3/5\n",
      "INFO:hposuite.run:Overwriting optimizer=RandomSearchWithPriors.benchmark=Ex_Functional_Bench.TrialBudget=100.seed=2811363265 in `state=<State.PENDING: 'PENDING'>` at /home/soham/repos/hposuite/examples/example-outputs/hposuite_demo_priors/optimizer=RandomSearchWithPriors.benchmark=Ex_Functional_Bench.TrialBudget=100.seed=2811363265.\n",
      "WARNING:hposuite.run:Continuations are not supported for the optimizer: <class 'lib.optimizers.random_search.RandomSearchWithPriors'>. Ignoring continuations=True.\n",
      "INFO:hpoglue._run:COMPLETED running optimizer=RandomSearchWithPriors.benchmark=Ex_Functional_Bench.TrialBudget=100.seed=2811363265\n",
      "INFO:hposuite.run:Results dumped at /home/soham/repos/hposuite/examples/example-outputs/hposuite_demo_priors/optimizer=RandomSearchWithPriors.benchmark=Ex_Functional_Bench.TrialBudget=100.seed=2811363265/optimizer=RandomSearchWithPriors.benchmark=Ex_Functional_Bench.TrialBudget=100.seed=2811363265.parquet\n",
      "INFO:hposuite.study:Running experiment 4/5\n",
      "INFO:hposuite.run:Overwriting optimizer=RandomSearchWithPriors.benchmark=Ex_Functional_Bench.TrialBudget=100.seed=1884968545 in `state=<State.PENDING: 'PENDING'>` at /home/soham/repos/hposuite/examples/example-outputs/hposuite_demo_priors/optimizer=RandomSearchWithPriors.benchmark=Ex_Functional_Bench.TrialBudget=100.seed=1884968545.\n",
      "WARNING:hposuite.run:Continuations are not supported for the optimizer: <class 'lib.optimizers.random_search.RandomSearchWithPriors'>. Ignoring continuations=True.\n",
      "INFO:hpoglue._run:COMPLETED running optimizer=RandomSearchWithPriors.benchmark=Ex_Functional_Bench.TrialBudget=100.seed=1884968545\n",
      "INFO:hposuite.run:Results dumped at /home/soham/repos/hposuite/examples/example-outputs/hposuite_demo_priors/optimizer=RandomSearchWithPriors.benchmark=Ex_Functional_Bench.TrialBudget=100.seed=1884968545/optimizer=RandomSearchWithPriors.benchmark=Ex_Functional_Bench.TrialBudget=100.seed=1884968545.parquet\n",
      "INFO:hposuite.study:Running experiment 5/5\n",
      "INFO:hposuite.run:Overwriting optimizer=RandomSearchWithPriors.benchmark=Ex_Functional_Bench.TrialBudget=100.seed=1859786276 in `state=<State.PENDING: 'PENDING'>` at /home/soham/repos/hposuite/examples/example-outputs/hposuite_demo_priors/optimizer=RandomSearchWithPriors.benchmark=Ex_Functional_Bench.TrialBudget=100.seed=1859786276.\n",
      "WARNING:hposuite.run:Continuations are not supported for the optimizer: <class 'lib.optimizers.random_search.RandomSearchWithPriors'>. Ignoring continuations=True.\n",
      "INFO:hpoglue._run:COMPLETED running optimizer=RandomSearchWithPriors.benchmark=Ex_Functional_Bench.TrialBudget=100.seed=1859786276\n",
      "INFO:hposuite.run:Results dumped at /home/soham/repos/hposuite/examples/example-outputs/hposuite_demo_priors/optimizer=RandomSearchWithPriors.benchmark=Ex_Functional_Bench.TrialBudget=100.seed=1859786276/optimizer=RandomSearchWithPriors.benchmark=Ex_Functional_Bench.TrialBudget=100.seed=1859786276.parquet\n"
     ]
    }
   ],
   "source": [
    "from hposuite import create_study\n",
    "\n",
    "study = create_study(\n",
    "    name=\"hposuite_demo_priors\",\n",
    "    output_dir=\"example-outputs\",\n",
    "    optimizers=rs_with_priors,\n",
    "    benchmarks=(\n",
    "        func_benchmark,\n",
    "        {\n",
    "            \"priors\": {\n",
    "                \"y\": func_benchmark.desc.predefined_points[\"min\"]\n",
    "            }\n",
    "        }\n",
    "    ),\n",
    "    num_seeds=5,\n",
    "    budget=100,\n",
    ")\n",
    "\n",
    "study.optimize(overwrite=True)"
   ]
  },
  {
   "cell_type": "markdown",
   "metadata": {},
   "source": [
    "## Comparing RandomSearch and RandomSearchWithPriors on Ackley Functional Benchmark"
   ]
  },
  {
   "cell_type": "code",
   "execution_count": 14,
   "metadata": {},
   "outputs": [
    {
     "name": "stderr",
     "output_type": "stream",
     "text": [
      "/home/soham/repos/hpoglue/hpoglue/problem.py:417: UserWarning: Optimizer RandomSearch does not support priors\n",
      "  support.check_opt_support(who=_opt.name, problem=problem)\n",
      "INFO:hposuite.study:Generated 10 runs\n",
      "INFO:hposuite.study:Created study at example-outputs/hposuite_rs_comp\n",
      "INFO:hposuite.study:Dumped experiments to example-outputs/hposuite_rs_comp/dump_all.txt\n",
      "INFO:hposuite.study:Overwrite flag is set to True. Existing results will be overwritten!\n",
      "INFO:hposuite.study:Running 10 experiments sequentially\n",
      "INFO:hposuite.study:Running experiment 1/10\n",
      "INFO:hposuite.run:Overwriting optimizer=RandomSearchWithPriors.benchmark=Ex_Functional_Bench.TrialBudget=1000.seed=383329928 in `state=<State.PENDING: 'PENDING'>` at /home/soham/repos/hposuite/examples/example-outputs/hposuite_rs_comp/optimizer=RandomSearchWithPriors.benchmark=Ex_Functional_Bench.TrialBudget=1000.seed=383329928.\n",
      "WARNING:hposuite.run:Continuations are not supported for the optimizer: <class 'lib.optimizers.random_search.RandomSearchWithPriors'>. Ignoring continuations=True.\n",
      "INFO:hpoglue._run:COMPLETED running optimizer=RandomSearchWithPriors.benchmark=Ex_Functional_Bench.TrialBudget=1000.seed=383329928\n",
      "INFO:hposuite.run:Results dumped at /home/soham/repos/hposuite/examples/example-outputs/hposuite_rs_comp/optimizer=RandomSearchWithPriors.benchmark=Ex_Functional_Bench.TrialBudget=1000.seed=383329928/optimizer=RandomSearchWithPriors.benchmark=Ex_Functional_Bench.TrialBudget=1000.seed=383329928.parquet\n",
      "INFO:hposuite.study:Running experiment 2/10\n",
      "INFO:hposuite.run:Overwriting optimizer=RandomSearchWithPriors.benchmark=Ex_Functional_Bench.TrialBudget=1000.seed=3324115917 in `state=<State.PENDING: 'PENDING'>` at /home/soham/repos/hposuite/examples/example-outputs/hposuite_rs_comp/optimizer=RandomSearchWithPriors.benchmark=Ex_Functional_Bench.TrialBudget=1000.seed=3324115917.\n",
      "WARNING:hposuite.run:Continuations are not supported for the optimizer: <class 'lib.optimizers.random_search.RandomSearchWithPriors'>. Ignoring continuations=True.\n",
      "INFO:hpoglue._run:COMPLETED running optimizer=RandomSearchWithPriors.benchmark=Ex_Functional_Bench.TrialBudget=1000.seed=3324115917\n",
      "INFO:hposuite.run:Results dumped at /home/soham/repos/hposuite/examples/example-outputs/hposuite_rs_comp/optimizer=RandomSearchWithPriors.benchmark=Ex_Functional_Bench.TrialBudget=1000.seed=3324115917/optimizer=RandomSearchWithPriors.benchmark=Ex_Functional_Bench.TrialBudget=1000.seed=3324115917.parquet\n",
      "INFO:hposuite.study:Running experiment 3/10\n",
      "INFO:hposuite.run:Overwriting optimizer=RandomSearchWithPriors.benchmark=Ex_Functional_Bench.TrialBudget=1000.seed=2811363265 in `state=<State.PENDING: 'PENDING'>` at /home/soham/repos/hposuite/examples/example-outputs/hposuite_rs_comp/optimizer=RandomSearchWithPriors.benchmark=Ex_Functional_Bench.TrialBudget=1000.seed=2811363265.\n",
      "WARNING:hposuite.run:Continuations are not supported for the optimizer: <class 'lib.optimizers.random_search.RandomSearchWithPriors'>. Ignoring continuations=True.\n",
      "INFO:hpoglue._run:COMPLETED running optimizer=RandomSearchWithPriors.benchmark=Ex_Functional_Bench.TrialBudget=1000.seed=2811363265\n",
      "INFO:hposuite.run:Results dumped at /home/soham/repos/hposuite/examples/example-outputs/hposuite_rs_comp/optimizer=RandomSearchWithPriors.benchmark=Ex_Functional_Bench.TrialBudget=1000.seed=2811363265/optimizer=RandomSearchWithPriors.benchmark=Ex_Functional_Bench.TrialBudget=1000.seed=2811363265.parquet\n",
      "INFO:hposuite.study:Running experiment 4/10\n",
      "INFO:hposuite.run:Overwriting optimizer=RandomSearchWithPriors.benchmark=Ex_Functional_Bench.TrialBudget=1000.seed=1884968545 in `state=<State.PENDING: 'PENDING'>` at /home/soham/repos/hposuite/examples/example-outputs/hposuite_rs_comp/optimizer=RandomSearchWithPriors.benchmark=Ex_Functional_Bench.TrialBudget=1000.seed=1884968545.\n",
      "WARNING:hposuite.run:Continuations are not supported for the optimizer: <class 'lib.optimizers.random_search.RandomSearchWithPriors'>. Ignoring continuations=True.\n",
      "INFO:hpoglue._run:COMPLETED running optimizer=RandomSearchWithPriors.benchmark=Ex_Functional_Bench.TrialBudget=1000.seed=1884968545\n",
      "INFO:hposuite.run:Results dumped at /home/soham/repos/hposuite/examples/example-outputs/hposuite_rs_comp/optimizer=RandomSearchWithPriors.benchmark=Ex_Functional_Bench.TrialBudget=1000.seed=1884968545/optimizer=RandomSearchWithPriors.benchmark=Ex_Functional_Bench.TrialBudget=1000.seed=1884968545.parquet\n",
      "INFO:hposuite.study:Running experiment 5/10\n",
      "INFO:hposuite.run:Overwriting optimizer=RandomSearchWithPriors.benchmark=Ex_Functional_Bench.TrialBudget=1000.seed=1859786276 in `state=<State.PENDING: 'PENDING'>` at /home/soham/repos/hposuite/examples/example-outputs/hposuite_rs_comp/optimizer=RandomSearchWithPriors.benchmark=Ex_Functional_Bench.TrialBudget=1000.seed=1859786276.\n",
      "WARNING:hposuite.run:Continuations are not supported for the optimizer: <class 'lib.optimizers.random_search.RandomSearchWithPriors'>. Ignoring continuations=True.\n",
      "INFO:hpoglue._run:COMPLETED running optimizer=RandomSearchWithPriors.benchmark=Ex_Functional_Bench.TrialBudget=1000.seed=1859786276\n",
      "INFO:hposuite.run:Results dumped at /home/soham/repos/hposuite/examples/example-outputs/hposuite_rs_comp/optimizer=RandomSearchWithPriors.benchmark=Ex_Functional_Bench.TrialBudget=1000.seed=1859786276/optimizer=RandomSearchWithPriors.benchmark=Ex_Functional_Bench.TrialBudget=1000.seed=1859786276.parquet\n",
      "INFO:hposuite.study:Running experiment 6/10\n",
      "INFO:hposuite.run:Overwriting optimizer=RandomSearch.benchmark=Ex_Functional_Bench.TrialBudget=1000.seed=383329928 in `state=<State.PENDING: 'PENDING'>` at /home/soham/repos/hposuite/examples/example-outputs/hposuite_rs_comp/optimizer=RandomSearch.benchmark=Ex_Functional_Bench.TrialBudget=1000.seed=383329928.\n",
      "WARNING:hposuite.run:Continuations are not supported for the optimizer: <class 'lib.optimizers.random_search.RandomSearch'>. Ignoring continuations=True.\n",
      "INFO:hpoglue._run:COMPLETED running optimizer=RandomSearch.benchmark=Ex_Functional_Bench.TrialBudget=1000.seed=383329928\n",
      "INFO:hposuite.run:Results dumped at /home/soham/repos/hposuite/examples/example-outputs/hposuite_rs_comp/optimizer=RandomSearch.benchmark=Ex_Functional_Bench.TrialBudget=1000.seed=383329928/optimizer=RandomSearch.benchmark=Ex_Functional_Bench.TrialBudget=1000.seed=383329928.parquet\n",
      "INFO:hposuite.study:Running experiment 7/10\n",
      "INFO:hposuite.run:Overwriting optimizer=RandomSearch.benchmark=Ex_Functional_Bench.TrialBudget=1000.seed=3324115917 in `state=<State.PENDING: 'PENDING'>` at /home/soham/repos/hposuite/examples/example-outputs/hposuite_rs_comp/optimizer=RandomSearch.benchmark=Ex_Functional_Bench.TrialBudget=1000.seed=3324115917.\n",
      "WARNING:hposuite.run:Continuations are not supported for the optimizer: <class 'lib.optimizers.random_search.RandomSearch'>. Ignoring continuations=True.\n",
      "INFO:hpoglue._run:COMPLETED running optimizer=RandomSearch.benchmark=Ex_Functional_Bench.TrialBudget=1000.seed=3324115917\n",
      "INFO:hposuite.run:Results dumped at /home/soham/repos/hposuite/examples/example-outputs/hposuite_rs_comp/optimizer=RandomSearch.benchmark=Ex_Functional_Bench.TrialBudget=1000.seed=3324115917/optimizer=RandomSearch.benchmark=Ex_Functional_Bench.TrialBudget=1000.seed=3324115917.parquet\n",
      "INFO:hposuite.study:Running experiment 8/10\n",
      "INFO:hposuite.run:Overwriting optimizer=RandomSearch.benchmark=Ex_Functional_Bench.TrialBudget=1000.seed=2811363265 in `state=<State.PENDING: 'PENDING'>` at /home/soham/repos/hposuite/examples/example-outputs/hposuite_rs_comp/optimizer=RandomSearch.benchmark=Ex_Functional_Bench.TrialBudget=1000.seed=2811363265.\n",
      "WARNING:hposuite.run:Continuations are not supported for the optimizer: <class 'lib.optimizers.random_search.RandomSearch'>. Ignoring continuations=True.\n",
      "INFO:hpoglue._run:COMPLETED running optimizer=RandomSearch.benchmark=Ex_Functional_Bench.TrialBudget=1000.seed=2811363265\n",
      "INFO:hposuite.run:Results dumped at /home/soham/repos/hposuite/examples/example-outputs/hposuite_rs_comp/optimizer=RandomSearch.benchmark=Ex_Functional_Bench.TrialBudget=1000.seed=2811363265/optimizer=RandomSearch.benchmark=Ex_Functional_Bench.TrialBudget=1000.seed=2811363265.parquet\n",
      "INFO:hposuite.study:Running experiment 9/10\n",
      "INFO:hposuite.run:Overwriting optimizer=RandomSearch.benchmark=Ex_Functional_Bench.TrialBudget=1000.seed=1884968545 in `state=<State.PENDING: 'PENDING'>` at /home/soham/repos/hposuite/examples/example-outputs/hposuite_rs_comp/optimizer=RandomSearch.benchmark=Ex_Functional_Bench.TrialBudget=1000.seed=1884968545.\n",
      "WARNING:hposuite.run:Continuations are not supported for the optimizer: <class 'lib.optimizers.random_search.RandomSearch'>. Ignoring continuations=True.\n",
      "INFO:hpoglue._run:COMPLETED running optimizer=RandomSearch.benchmark=Ex_Functional_Bench.TrialBudget=1000.seed=1884968545\n",
      "INFO:hposuite.run:Results dumped at /home/soham/repos/hposuite/examples/example-outputs/hposuite_rs_comp/optimizer=RandomSearch.benchmark=Ex_Functional_Bench.TrialBudget=1000.seed=1884968545/optimizer=RandomSearch.benchmark=Ex_Functional_Bench.TrialBudget=1000.seed=1884968545.parquet\n",
      "INFO:hposuite.study:Running experiment 10/10\n",
      "INFO:hposuite.run:Overwriting optimizer=RandomSearch.benchmark=Ex_Functional_Bench.TrialBudget=1000.seed=1859786276 in `state=<State.PENDING: 'PENDING'>` at /home/soham/repos/hposuite/examples/example-outputs/hposuite_rs_comp/optimizer=RandomSearch.benchmark=Ex_Functional_Bench.TrialBudget=1000.seed=1859786276.\n",
      "WARNING:hposuite.run:Continuations are not supported for the optimizer: <class 'lib.optimizers.random_search.RandomSearch'>. Ignoring continuations=True.\n",
      "INFO:hpoglue._run:COMPLETED running optimizer=RandomSearch.benchmark=Ex_Functional_Bench.TrialBudget=1000.seed=1859786276\n",
      "INFO:hposuite.run:Results dumped at /home/soham/repos/hposuite/examples/example-outputs/hposuite_rs_comp/optimizer=RandomSearch.benchmark=Ex_Functional_Bench.TrialBudget=1000.seed=1859786276/optimizer=RandomSearch.benchmark=Ex_Functional_Bench.TrialBudget=1000.seed=1859786276.parquet\n"
     ]
    }
   ],
   "source": [
    "from hposuite import create_study\n",
    "\n",
    "study = create_study(\n",
    "    name=\"hposuite_rs_comp\",\n",
    "    output_dir=\"example-outputs\",\n",
    "    optimizers=[\n",
    "        rs_with_priors,\n",
    "        rs\n",
    "    ],\n",
    "    benchmarks=(\n",
    "        func_benchmark,\n",
    "        {\n",
    "            \"priors\": {\n",
    "                \"y\": func_benchmark.desc.predefined_points[\"min\"]\n",
    "            }\n",
    "        }\n",
    "    ),\n",
    "    num_seeds=5,\n",
    "    budget=1000,\n",
    ")\n",
    "\n",
    "study.optimize(overwrite=True)"
   ]
  },
  {
   "cell_type": "markdown",
   "metadata": {},
   "source": [
    "### Plotting the results"
   ]
  },
  {
   "cell_type": "code",
   "execution_count": 33,
   "metadata": {},
   "outputs": [],
   "source": [
    "%%capture\n",
    "!python -m hposuite.plotting.utils --study_dir hposuite_rs_comp --output_dir example-outputs\n"
   ]
  },
  {
   "cell_type": "markdown",
   "metadata": {},
   "source": [
    "### Displaying the plots"
   ]
  },
  {
   "cell_type": "code",
   "execution_count": 34,
   "metadata": {},
   "outputs": [
    {
     "data": {
      "image/png": "[encoded data removed]",
      "text/plain": [
       "<IPython.core.display.Image object>"
      ]
     },
     "execution_count": 34,
     "metadata": {},
     "output_type": "execute_result"
    }
   ],
   "source": [
    "from IPython.display import Image\n",
    "\n",
    "Image(filename=\"./example-outputs/hposuite_rs_comp/plots/Ex_Functional_Bench_performance.png\")"
   ]
  }
 ],
 "metadata": {
  "kernelspec": {
   "display_name": "hposuite_env",
   "language": "python",
   "name": "python3"
  },
  "language_info": {
   "codemirror_mode": {
    "name": "ipython",
    "version": 3
   },
   "file_extension": ".py",
   "mimetype": "text/x-python",
   "name": "python",
   "nbconvert_exporter": "python",
   "pygments_lexer": "ipython3",
   "version": "3.10.12"
  }
 },
 "nbformat": 4,
 "nbformat_minor": 2
}
