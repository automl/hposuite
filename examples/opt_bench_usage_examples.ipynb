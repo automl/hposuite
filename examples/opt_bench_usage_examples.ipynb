{
 "cells": [
  {
   "cell_type": "markdown",
   "metadata": {},
   "source": [
    "# hposuite additional usage examples"
   ]
  },
  {
   "cell_type": "code",
   "execution_count": 2,
   "metadata": {},
   "outputs": [
    {
     "name": "stdout",
     "output_type": "stream",
     "text": [
      "dict_keys(['ackley', 'branin', 'mfh3_bad', 'mfh6_bad', 'mfh3_good', 'mfh6_good', 'mfh3_moderate', 'mfh6_moderate', 'mfh3_terrible', 'mfh6_terrible', 'pd1-cifar100-wide_resnet-2048', 'pd1-imagenet-resnet-512', 'pd1-lm1b-transformer-2048', 'pd1-translate_wmt-xformer_translate-64', 'lcbench_tabular-adult', 'lcbench_tabular-airlines', 'lcbench_tabular-albert', 'lcbench_tabular-Amazon_employee_access', 'lcbench_tabular-APSFailure', 'lcbench_tabular-Australian', 'lcbench_tabular-bank-marketing', 'lcbench_tabular-blood-transfusion-service-center', 'lcbench_tabular-car', 'lcbench_tabular-christine', 'lcbench_tabular-cnae-9', 'lcbench_tabular-connect-4', 'lcbench_tabular-covertype', 'lcbench_tabular-credit-g', 'lcbench_tabular-dionis', 'lcbench_tabular-fabert', 'lcbench_tabular-Fashion-MNIST', 'lcbench_tabular-helena', 'lcbench_tabular-higgs', 'lcbench_tabular-jannis', 'lcbench_tabular-jasmine', 'lcbench_tabular-jungle_chess_2pcs_raw_endgame_complete', 'lcbench_tabular-kc1', 'lcbench_tabular-KDDCup09_appetency', 'lcbench_tabular-kr-vs-kp', 'lcbench_tabular-mfeat-factors', 'lcbench_tabular-MiniBooNE', 'lcbench_tabular-nomao', 'lcbench_tabular-numerai28.6', 'lcbench_tabular-phoneme', 'lcbench_tabular-segment', 'lcbench_tabular-shuttle', 'lcbench_tabular-sylvine', 'lcbench_tabular-vehicle', 'lcbench_tabular-volkert', 'pymoo-ackley', 'pymoo-griewank', 'pymoo-himmelblau', 'pymoo-rastrigin', 'pymoo-rosenbrock', 'pymoo-schwefel', 'pymoo-sphere', 'pymoo-zakharov', 'pymoo-kursawe', 'pymoo-zdt1', 'pymoo-zdt2', 'pymoo-zdt3', 'pymoo-zdt4', 'pymoo-zdt5', 'pymoo-zdt6', 'pymoo-omnitest', 'pymoo-sympart', 'pymoo-sympart_rotated', 'pymoo-dtlz1', 'pymoo-dtlz2', 'pymoo-dtlz3', 'pymoo-dtlz4', 'pymoo-dtlz5', 'pymoo-dtlz6', 'pymoo-dtlz7', 'bbob-f1-2-0', 'bbob-f1-2-1', 'bbob-f1-2-2', 'bbob-f1-3-0', 'bbob-f1-3-1', 'bbob-f1-3-2', 'bbob-f1-5-0', 'bbob-f1-5-1', 'bbob-f1-5-2', 'bbob-f1-10-0', 'bbob-f1-10-1', 'bbob-f1-10-2', 'bbob-f1-20-0', 'bbob-f1-20-1', 'bbob-f1-20-2', 'bbob-f1-40-0', 'bbob-f1-40-1', 'bbob-f1-40-2', 'bbob-f2-2-0', 'bbob-f2-2-1', 'bbob-f2-2-2', 'bbob-f2-3-0', 'bbob-f2-3-1', 'bbob-f2-3-2', 'bbob-f2-5-0', 'bbob-f2-5-1', 'bbob-f2-5-2', 'bbob-f2-10-0', 'bbob-f2-10-1', 'bbob-f2-10-2', 'bbob-f2-20-0', 'bbob-f2-20-1', 'bbob-f2-20-2', 'bbob-f2-40-0', 'bbob-f2-40-1', 'bbob-f2-40-2', 'bbob-f3-2-0', 'bbob-f3-2-1', 'bbob-f3-2-2', 'bbob-f3-3-0', 'bbob-f3-3-1', 'bbob-f3-3-2', 'bbob-f3-5-0', 'bbob-f3-5-1', 'bbob-f3-5-2', 'bbob-f3-10-0', 'bbob-f3-10-1', 'bbob-f3-10-2', 'bbob-f3-20-0', 'bbob-f3-20-1', 'bbob-f3-20-2', 'bbob-f3-40-0', 'bbob-f3-40-1', 'bbob-f3-40-2', 'bbob-f4-2-0', 'bbob-f4-2-1', 'bbob-f4-2-2', 'bbob-f4-3-0', 'bbob-f4-3-1', 'bbob-f4-3-2', 'bbob-f4-5-0', 'bbob-f4-5-1', 'bbob-f4-5-2', 'bbob-f4-10-0', 'bbob-f4-10-1', 'bbob-f4-10-2', 'bbob-f4-20-0', 'bbob-f4-20-1', 'bbob-f4-20-2', 'bbob-f4-40-0', 'bbob-f4-40-1', 'bbob-f4-40-2', 'bbob-f5-2-0', 'bbob-f5-2-1', 'bbob-f5-2-2', 'bbob-f5-3-0', 'bbob-f5-3-1', 'bbob-f5-3-2', 'bbob-f5-5-0', 'bbob-f5-5-1', 'bbob-f5-5-2', 'bbob-f5-10-0', 'bbob-f5-10-1', 'bbob-f5-10-2', 'bbob-f5-20-0', 'bbob-f5-20-1', 'bbob-f5-20-2', 'bbob-f5-40-0', 'bbob-f5-40-1', 'bbob-f5-40-2', 'bbob-f6-2-0', 'bbob-f6-2-1', 'bbob-f6-2-2', 'bbob-f6-3-0', 'bbob-f6-3-1', 'bbob-f6-3-2', 'bbob-f6-5-0', 'bbob-f6-5-1', 'bbob-f6-5-2', 'bbob-f6-10-0', 'bbob-f6-10-1', 'bbob-f6-10-2', 'bbob-f6-20-0', 'bbob-f6-20-1', 'bbob-f6-20-2', 'bbob-f6-40-0', 'bbob-f6-40-1', 'bbob-f6-40-2', 'bbob-f7-2-0', 'bbob-f7-2-1', 'bbob-f7-2-2', 'bbob-f7-3-0', 'bbob-f7-3-1', 'bbob-f7-3-2', 'bbob-f7-5-0', 'bbob-f7-5-1', 'bbob-f7-5-2', 'bbob-f7-10-0', 'bbob-f7-10-1', 'bbob-f7-10-2', 'bbob-f7-20-0', 'bbob-f7-20-1', 'bbob-f7-20-2', 'bbob-f7-40-0', 'bbob-f7-40-1', 'bbob-f7-40-2', 'bbob-f8-2-0', 'bbob-f8-2-1', 'bbob-f8-2-2', 'bbob-f8-3-0', 'bbob-f8-3-1', 'bbob-f8-3-2', 'bbob-f8-5-0', 'bbob-f8-5-1', 'bbob-f8-5-2', 'bbob-f8-10-0', 'bbob-f8-10-1', 'bbob-f8-10-2', 'bbob-f8-20-0', 'bbob-f8-20-1', 'bbob-f8-20-2', 'bbob-f8-40-0', 'bbob-f8-40-1', 'bbob-f8-40-2', 'bbob-f9-2-0', 'bbob-f9-2-1', 'bbob-f9-2-2', 'bbob-f9-3-0', 'bbob-f9-3-1', 'bbob-f9-3-2', 'bbob-f9-5-0', 'bbob-f9-5-1', 'bbob-f9-5-2', 'bbob-f9-10-0', 'bbob-f9-10-1', 'bbob-f9-10-2', 'bbob-f9-20-0', 'bbob-f9-20-1', 'bbob-f9-20-2', 'bbob-f9-40-0', 'bbob-f9-40-1', 'bbob-f9-40-2', 'bbob-f10-2-0', 'bbob-f10-2-1', 'bbob-f10-2-2', 'bbob-f10-3-0', 'bbob-f10-3-1', 'bbob-f10-3-2', 'bbob-f10-5-0', 'bbob-f10-5-1', 'bbob-f10-5-2', 'bbob-f10-10-0', 'bbob-f10-10-1', 'bbob-f10-10-2', 'bbob-f10-20-0', 'bbob-f10-20-1', 'bbob-f10-20-2', 'bbob-f10-40-0', 'bbob-f10-40-1', 'bbob-f10-40-2', 'bbob-f11-2-0', 'bbob-f11-2-1', 'bbob-f11-2-2', 'bbob-f11-3-0', 'bbob-f11-3-1', 'bbob-f11-3-2', 'bbob-f11-5-0', 'bbob-f11-5-1', 'bbob-f11-5-2', 'bbob-f11-10-0', 'bbob-f11-10-1', 'bbob-f11-10-2', 'bbob-f11-20-0', 'bbob-f11-20-1', 'bbob-f11-20-2', 'bbob-f11-40-0', 'bbob-f11-40-1', 'bbob-f11-40-2', 'bbob-f12-2-0', 'bbob-f12-2-1', 'bbob-f12-2-2', 'bbob-f12-3-0', 'bbob-f12-3-1', 'bbob-f12-3-2', 'bbob-f12-5-0', 'bbob-f12-5-1', 'bbob-f12-5-2', 'bbob-f12-10-0', 'bbob-f12-10-1', 'bbob-f12-10-2', 'bbob-f12-20-0', 'bbob-f12-20-1', 'bbob-f12-20-2', 'bbob-f12-40-0', 'bbob-f12-40-1', 'bbob-f12-40-2', 'bbob-f13-2-0', 'bbob-f13-2-1', 'bbob-f13-2-2', 'bbob-f13-3-0', 'bbob-f13-3-1', 'bbob-f13-3-2', 'bbob-f13-5-0', 'bbob-f13-5-1', 'bbob-f13-5-2', 'bbob-f13-10-0', 'bbob-f13-10-1', 'bbob-f13-10-2', 'bbob-f13-20-0', 'bbob-f13-20-1', 'bbob-f13-20-2', 'bbob-f13-40-0', 'bbob-f13-40-1', 'bbob-f13-40-2', 'bbob-f14-2-0', 'bbob-f14-2-1', 'bbob-f14-2-2', 'bbob-f14-3-0', 'bbob-f14-3-1', 'bbob-f14-3-2', 'bbob-f14-5-0', 'bbob-f14-5-1', 'bbob-f14-5-2', 'bbob-f14-10-0', 'bbob-f14-10-1', 'bbob-f14-10-2', 'bbob-f14-20-0', 'bbob-f14-20-1', 'bbob-f14-20-2', 'bbob-f14-40-0', 'bbob-f14-40-1', 'bbob-f14-40-2', 'bbob-f15-2-0', 'bbob-f15-2-1', 'bbob-f15-2-2', 'bbob-f15-3-0', 'bbob-f15-3-1', 'bbob-f15-3-2', 'bbob-f15-5-0', 'bbob-f15-5-1', 'bbob-f15-5-2', 'bbob-f15-10-0', 'bbob-f15-10-1', 'bbob-f15-10-2', 'bbob-f15-20-0', 'bbob-f15-20-1', 'bbob-f15-20-2', 'bbob-f15-40-0', 'bbob-f15-40-1', 'bbob-f15-40-2', 'bbob-f16-2-0', 'bbob-f16-2-1', 'bbob-f16-2-2', 'bbob-f16-3-0', 'bbob-f16-3-1', 'bbob-f16-3-2', 'bbob-f16-5-0', 'bbob-f16-5-1', 'bbob-f16-5-2', 'bbob-f16-10-0', 'bbob-f16-10-1', 'bbob-f16-10-2', 'bbob-f16-20-0', 'bbob-f16-20-1', 'bbob-f16-20-2', 'bbob-f16-40-0', 'bbob-f16-40-1', 'bbob-f16-40-2', 'bbob-f17-2-0', 'bbob-f17-2-1', 'bbob-f17-2-2', 'bbob-f17-3-0', 'bbob-f17-3-1', 'bbob-f17-3-2', 'bbob-f17-5-0', 'bbob-f17-5-1', 'bbob-f17-5-2', 'bbob-f17-10-0', 'bbob-f17-10-1', 'bbob-f17-10-2', 'bbob-f17-20-0', 'bbob-f17-20-1', 'bbob-f17-20-2', 'bbob-f17-40-0', 'bbob-f17-40-1', 'bbob-f17-40-2', 'bbob-f18-2-0', 'bbob-f18-2-1', 'bbob-f18-2-2', 'bbob-f18-3-0', 'bbob-f18-3-1', 'bbob-f18-3-2', 'bbob-f18-5-0', 'bbob-f18-5-1', 'bbob-f18-5-2', 'bbob-f18-10-0', 'bbob-f18-10-1', 'bbob-f18-10-2', 'bbob-f18-20-0', 'bbob-f18-20-1', 'bbob-f18-20-2', 'bbob-f18-40-0', 'bbob-f18-40-1', 'bbob-f18-40-2', 'bbob-f19-2-0', 'bbob-f19-2-1', 'bbob-f19-2-2', 'bbob-f19-3-0', 'bbob-f19-3-1', 'bbob-f19-3-2', 'bbob-f19-5-0', 'bbob-f19-5-1', 'bbob-f19-5-2', 'bbob-f19-10-0', 'bbob-f19-10-1', 'bbob-f19-10-2', 'bbob-f19-20-0', 'bbob-f19-20-1', 'bbob-f19-20-2', 'bbob-f19-40-0', 'bbob-f19-40-1', 'bbob-f19-40-2', 'bbob-f20-2-0', 'bbob-f20-2-1', 'bbob-f20-2-2', 'bbob-f20-3-0', 'bbob-f20-3-1', 'bbob-f20-3-2', 'bbob-f20-5-0', 'bbob-f20-5-1', 'bbob-f20-5-2', 'bbob-f20-10-0', 'bbob-f20-10-1', 'bbob-f20-10-2', 'bbob-f20-20-0', 'bbob-f20-20-1', 'bbob-f20-20-2', 'bbob-f20-40-0', 'bbob-f20-40-1', 'bbob-f20-40-2', 'bbob-f21-2-0', 'bbob-f21-2-1', 'bbob-f21-2-2', 'bbob-f21-3-0', 'bbob-f21-3-1', 'bbob-f21-3-2', 'bbob-f21-5-0', 'bbob-f21-5-1', 'bbob-f21-5-2', 'bbob-f21-10-0', 'bbob-f21-10-1', 'bbob-f21-10-2', 'bbob-f21-20-0', 'bbob-f21-20-1', 'bbob-f21-20-2', 'bbob-f21-40-0', 'bbob-f21-40-1', 'bbob-f21-40-2', 'bbob-f22-2-0', 'bbob-f22-2-1', 'bbob-f22-2-2', 'bbob-f22-3-0', 'bbob-f22-3-1', 'bbob-f22-3-2', 'bbob-f22-5-0', 'bbob-f22-5-1', 'bbob-f22-5-2', 'bbob-f22-10-0', 'bbob-f22-10-1', 'bbob-f22-10-2', 'bbob-f22-20-0', 'bbob-f22-20-1', 'bbob-f22-20-2', 'bbob-f22-40-0', 'bbob-f22-40-1', 'bbob-f22-40-2', 'bbob-f23-2-0', 'bbob-f23-2-1', 'bbob-f23-2-2', 'bbob-f23-3-0', 'bbob-f23-3-1', 'bbob-f23-3-2', 'bbob-f23-5-0', 'bbob-f23-5-1', 'bbob-f23-5-2', 'bbob-f23-10-0', 'bbob-f23-10-1', 'bbob-f23-10-2', 'bbob-f23-20-0', 'bbob-f23-20-1', 'bbob-f23-20-2', 'bbob-f23-40-0', 'bbob-f23-40-1', 'bbob-f23-40-2', 'bbob-f24-2-0', 'bbob-f24-2-1', 'bbob-f24-2-2', 'bbob-f24-3-0', 'bbob-f24-3-1', 'bbob-f24-3-2', 'bbob-f24-5-0', 'bbob-f24-5-1', 'bbob-f24-5-2', 'bbob-f24-10-0', 'bbob-f24-10-1', 'bbob-f24-10-2', 'bbob-f24-20-0', 'bbob-f24-20-1', 'bbob-f24-20-2', 'bbob-f24-40-0', 'bbob-f24-40-1', 'bbob-f24-40-2'])\n",
      "dict_keys(['DEHB', 'HEBO', 'Nevergrad', 'Optuna', 'RandomSearch', 'RandomSearchWithPriors', 'Scikit_Optimize', 'SMAC_BO', 'SMAC_Hyperband'])\n"
     ]
    }
   ],
   "source": [
    "# It is assumed that the datadir is hposuite/data\n",
    "\n",
    "from hposuite.benchmarks import BENCHMARKS\n",
    "from hposuite.optimizers import OPTIMIZERS\n",
    "\n",
    "print(BENCHMARKS.keys())\n",
    "print(OPTIMIZERS.keys())"
   ]
  },
  {
   "cell_type": "markdown",
   "metadata": {},
   "source": [
    "## Running multiple different optimizers on multiple different benchmarks"
   ]
  },
  {
   "cell_type": "markdown",
   "metadata": {},
   "source": [
    "The following example runs RandomSearch and SMAC Blackbox Facade on Ackley Functional Benchmark and MF Hartmann 3D Synthetic Benchmark"
   ]
  },
  {
   "cell_type": "code",
   "execution_count": 3,
   "metadata": {},
   "outputs": [
    {
     "name": "stderr",
     "output_type": "stream",
     "text": [
      "INFO:hposuite.study:Generated 12 runs\n",
      "INFO:hposuite.study:Created study at /home/soham/repos/hposuite/examples/example-outputs/hposuite-2opts-2benchs\n",
      "INFO:hposuite.study:Dumped experiments to /home/soham/repos/hposuite/examples/example-outputs/hposuite-2opts-2benchs/dump_all.txt\n",
      "INFO:hposuite.study:Overwrite flag is set to True. Existing results will be overwritten!\n",
      "INFO:hposuite.study:Running 12 experiments sequentially\n",
      "INFO:hposuite.study:Running experiment 1/12\n",
      "INFO:hposuite.run:Overwriting optimizer=RandomSearch.benchmark=ackley.objectives=y.TrialBudget=10.seed=383329928 in `state=<State.PENDING: 'PENDING'>` at /home/soham/repos/hposuite/examples/example-outputs/hposuite-2opts-2benchs/optimizer=RandomSearch.benchmark=ackley.objectives=y.TrialBudget=10.seed=383329928.\n",
      "WARNING:hposuite.run:Continuations are not supported for the optimizer: <class 'hposuite.optimizers.random_search.RandomSearch'>. Ignoring continuations=True.\n",
      "INFO:hpoglue._run:COMPLETED running optimizer=RandomSearch.benchmark=ackley.objectives=y.TrialBudget=10.seed=383329928\n",
      "INFO:hposuite.run:Results dumped at /home/soham/repos/hposuite/examples/example-outputs/hposuite-2opts-2benchs/optimizer=RandomSearch.benchmark=ackley.objectives=y.TrialBudget=10.seed=383329928/optimizer=RandomSearch.benchmark=ackley.objectives=y.TrialBudget=10.seed=383329928.parquet\n",
      "INFO:hposuite.study:Running experiment 2/12\n",
      "INFO:hposuite.run:Overwriting optimizer=RandomSearch.benchmark=ackley.objectives=y.TrialBudget=10.seed=3324115917 in `state=<State.PENDING: 'PENDING'>` at /home/soham/repos/hposuite/examples/example-outputs/hposuite-2opts-2benchs/optimizer=RandomSearch.benchmark=ackley.objectives=y.TrialBudget=10.seed=3324115917.\n",
      "WARNING:hposuite.run:Continuations are not supported for the optimizer: <class 'hposuite.optimizers.random_search.RandomSearch'>. Ignoring continuations=True.\n",
      "INFO:hpoglue._run:COMPLETED running optimizer=RandomSearch.benchmark=ackley.objectives=y.TrialBudget=10.seed=3324115917\n",
      "INFO:hposuite.run:Results dumped at /home/soham/repos/hposuite/examples/example-outputs/hposuite-2opts-2benchs/optimizer=RandomSearch.benchmark=ackley.objectives=y.TrialBudget=10.seed=3324115917/optimizer=RandomSearch.benchmark=ackley.objectives=y.TrialBudget=10.seed=3324115917.parquet\n",
      "INFO:hposuite.study:Running experiment 3/12\n",
      "INFO:hposuite.run:Overwriting optimizer=RandomSearch.benchmark=ackley.objectives=y.TrialBudget=10.seed=2811363265 in `state=<State.PENDING: 'PENDING'>` at /home/soham/repos/hposuite/examples/example-outputs/hposuite-2opts-2benchs/optimizer=RandomSearch.benchmark=ackley.objectives=y.TrialBudget=10.seed=2811363265.\n",
      "WARNING:hposuite.run:Continuations are not supported for the optimizer: <class 'hposuite.optimizers.random_search.RandomSearch'>. Ignoring continuations=True.\n",
      "INFO:hpoglue._run:COMPLETED running optimizer=RandomSearch.benchmark=ackley.objectives=y.TrialBudget=10.seed=2811363265\n",
      "INFO:hposuite.run:Results dumped at /home/soham/repos/hposuite/examples/example-outputs/hposuite-2opts-2benchs/optimizer=RandomSearch.benchmark=ackley.objectives=y.TrialBudget=10.seed=2811363265/optimizer=RandomSearch.benchmark=ackley.objectives=y.TrialBudget=10.seed=2811363265.parquet\n",
      "INFO:hposuite.study:Running experiment 4/12\n",
      "INFO:hposuite.run:Overwriting optimizer=RandomSearch.benchmark=mfh3_good.objectives=value.TrialBudget=10.seed=383329928 in `state=<State.PENDING: 'PENDING'>` at /home/soham/repos/hposuite/examples/example-outputs/hposuite-2opts-2benchs/optimizer=RandomSearch.benchmark=mfh3_good.objectives=value.TrialBudget=10.seed=383329928.\n",
      "WARNING:hposuite.run:Continuations are not supported for the optimizer: <class 'hposuite.optimizers.random_search.RandomSearch'>. Ignoring continuations=True.\n",
      "INFO:hpoglue._run:COMPLETED running optimizer=RandomSearch.benchmark=mfh3_good.objectives=value.TrialBudget=10.seed=383329928\n",
      "INFO:hposuite.run:Results dumped at /home/soham/repos/hposuite/examples/example-outputs/hposuite-2opts-2benchs/optimizer=RandomSearch.benchmark=mfh3_good.objectives=value.TrialBudget=10.seed=383329928/optimizer=RandomSearch.benchmark=mfh3_good.objectives=value.TrialBudget=10.seed=383329928.parquet\n",
      "INFO:hposuite.study:Running experiment 5/12\n",
      "INFO:hposuite.run:Overwriting optimizer=RandomSearch.benchmark=mfh3_good.objectives=value.TrialBudget=10.seed=3324115917 in `state=<State.PENDING: 'PENDING'>` at /home/soham/repos/hposuite/examples/example-outputs/hposuite-2opts-2benchs/optimizer=RandomSearch.benchmark=mfh3_good.objectives=value.TrialBudget=10.seed=3324115917.\n",
      "WARNING:hposuite.run:Continuations are not supported for the optimizer: <class 'hposuite.optimizers.random_search.RandomSearch'>. Ignoring continuations=True.\n",
      "INFO:hpoglue._run:COMPLETED running optimizer=RandomSearch.benchmark=mfh3_good.objectives=value.TrialBudget=10.seed=3324115917\n",
      "INFO:hposuite.run:Results dumped at /home/soham/repos/hposuite/examples/example-outputs/hposuite-2opts-2benchs/optimizer=RandomSearch.benchmark=mfh3_good.objectives=value.TrialBudget=10.seed=3324115917/optimizer=RandomSearch.benchmark=mfh3_good.objectives=value.TrialBudget=10.seed=3324115917.parquet\n",
      "INFO:hposuite.study:Running experiment 6/12\n",
      "INFO:hposuite.run:Overwriting optimizer=RandomSearch.benchmark=mfh3_good.objectives=value.TrialBudget=10.seed=2811363265 in `state=<State.PENDING: 'PENDING'>` at /home/soham/repos/hposuite/examples/example-outputs/hposuite-2opts-2benchs/optimizer=RandomSearch.benchmark=mfh3_good.objectives=value.TrialBudget=10.seed=2811363265.\n",
      "WARNING:hposuite.run:Continuations are not supported for the optimizer: <class 'hposuite.optimizers.random_search.RandomSearch'>. Ignoring continuations=True.\n",
      "INFO:hpoglue._run:COMPLETED running optimizer=RandomSearch.benchmark=mfh3_good.objectives=value.TrialBudget=10.seed=2811363265\n",
      "INFO:hposuite.run:Results dumped at /home/soham/repos/hposuite/examples/example-outputs/hposuite-2opts-2benchs/optimizer=RandomSearch.benchmark=mfh3_good.objectives=value.TrialBudget=10.seed=2811363265/optimizer=RandomSearch.benchmark=mfh3_good.objectives=value.TrialBudget=10.seed=2811363265.parquet\n",
      "INFO:hposuite.study:Running experiment 7/12\n",
      "INFO:hposuite.run:Overwriting optimizer=SMAC_BO.benchmark=ackley.objectives=y.TrialBudget=10.seed=383329928 in `state=<State.PENDING: 'PENDING'>` at /home/soham/repos/hposuite/examples/example-outputs/hposuite-2opts-2benchs/optimizer=SMAC_BO.benchmark=ackley.objectives=y.TrialBudget=10.seed=383329928.\n",
      "WARNING:hposuite.run:Continuations are not supported for the optimizer: <class 'hposuite.optimizers.smac.SMAC_BO'>. Ignoring continuations=True.\n",
      "INFO:hpoglue._run:COMPLETED running optimizer=SMAC_BO.benchmark=ackley.objectives=y.TrialBudget=10.seed=383329928\n",
      "INFO:hposuite.run:Results dumped at /home/soham/repos/hposuite/examples/example-outputs/hposuite-2opts-2benchs/optimizer=SMAC_BO.benchmark=ackley.objectives=y.TrialBudget=10.seed=383329928/optimizer=SMAC_BO.benchmark=ackley.objectives=y.TrialBudget=10.seed=383329928.parquet\n",
      "INFO:hposuite.study:Running experiment 8/12\n",
      "INFO:hposuite.run:Overwriting optimizer=SMAC_BO.benchmark=ackley.objectives=y.TrialBudget=10.seed=3324115917 in `state=<State.PENDING: 'PENDING'>` at /home/soham/repos/hposuite/examples/example-outputs/hposuite-2opts-2benchs/optimizer=SMAC_BO.benchmark=ackley.objectives=y.TrialBudget=10.seed=3324115917.\n",
      "WARNING:hposuite.run:Continuations are not supported for the optimizer: <class 'hposuite.optimizers.smac.SMAC_BO'>. Ignoring continuations=True.\n",
      "INFO:hpoglue._run:COMPLETED running optimizer=SMAC_BO.benchmark=ackley.objectives=y.TrialBudget=10.seed=3324115917\n",
      "INFO:hposuite.run:Results dumped at /home/soham/repos/hposuite/examples/example-outputs/hposuite-2opts-2benchs/optimizer=SMAC_BO.benchmark=ackley.objectives=y.TrialBudget=10.seed=3324115917/optimizer=SMAC_BO.benchmark=ackley.objectives=y.TrialBudget=10.seed=3324115917.parquet\n",
      "INFO:hposuite.study:Running experiment 9/12\n",
      "INFO:hposuite.run:Overwriting optimizer=SMAC_BO.benchmark=ackley.objectives=y.TrialBudget=10.seed=2811363265 in `state=<State.PENDING: 'PENDING'>` at /home/soham/repos/hposuite/examples/example-outputs/hposuite-2opts-2benchs/optimizer=SMAC_BO.benchmark=ackley.objectives=y.TrialBudget=10.seed=2811363265.\n",
      "WARNING:hposuite.run:Continuations are not supported for the optimizer: <class 'hposuite.optimizers.smac.SMAC_BO'>. Ignoring continuations=True.\n",
      "INFO:hpoglue._run:COMPLETED running optimizer=SMAC_BO.benchmark=ackley.objectives=y.TrialBudget=10.seed=2811363265\n",
      "INFO:hposuite.run:Results dumped at /home/soham/repos/hposuite/examples/example-outputs/hposuite-2opts-2benchs/optimizer=SMAC_BO.benchmark=ackley.objectives=y.TrialBudget=10.seed=2811363265/optimizer=SMAC_BO.benchmark=ackley.objectives=y.TrialBudget=10.seed=2811363265.parquet\n",
      "INFO:hposuite.study:Running experiment 10/12\n",
      "INFO:hposuite.run:Overwriting optimizer=SMAC_BO.benchmark=mfh3_good.objectives=value.TrialBudget=10.seed=383329928 in `state=<State.PENDING: 'PENDING'>` at /home/soham/repos/hposuite/examples/example-outputs/hposuite-2opts-2benchs/optimizer=SMAC_BO.benchmark=mfh3_good.objectives=value.TrialBudget=10.seed=383329928.\n",
      "WARNING:hposuite.run:Continuations are not supported for the optimizer: <class 'hposuite.optimizers.smac.SMAC_BO'>. Ignoring continuations=True.\n",
      "INFO:hpoglue._run:COMPLETED running optimizer=SMAC_BO.benchmark=mfh3_good.objectives=value.TrialBudget=10.seed=383329928\n",
      "INFO:hposuite.run:Results dumped at /home/soham/repos/hposuite/examples/example-outputs/hposuite-2opts-2benchs/optimizer=SMAC_BO.benchmark=mfh3_good.objectives=value.TrialBudget=10.seed=383329928/optimizer=SMAC_BO.benchmark=mfh3_good.objectives=value.TrialBudget=10.seed=383329928.parquet\n",
      "INFO:hposuite.study:Running experiment 11/12\n",
      "INFO:hposuite.run:Overwriting optimizer=SMAC_BO.benchmark=mfh3_good.objectives=value.TrialBudget=10.seed=3324115917 in `state=<State.PENDING: 'PENDING'>` at /home/soham/repos/hposuite/examples/example-outputs/hposuite-2opts-2benchs/optimizer=SMAC_BO.benchmark=mfh3_good.objectives=value.TrialBudget=10.seed=3324115917.\n",
      "WARNING:hposuite.run:Continuations are not supported for the optimizer: <class 'hposuite.optimizers.smac.SMAC_BO'>. Ignoring continuations=True.\n",
      "INFO:hpoglue._run:COMPLETED running optimizer=SMAC_BO.benchmark=mfh3_good.objectives=value.TrialBudget=10.seed=3324115917\n",
      "INFO:hposuite.run:Results dumped at /home/soham/repos/hposuite/examples/example-outputs/hposuite-2opts-2benchs/optimizer=SMAC_BO.benchmark=mfh3_good.objectives=value.TrialBudget=10.seed=3324115917/optimizer=SMAC_BO.benchmark=mfh3_good.objectives=value.TrialBudget=10.seed=3324115917.parquet\n",
      "INFO:hposuite.study:Running experiment 12/12\n",
      "INFO:hposuite.run:Overwriting optimizer=SMAC_BO.benchmark=mfh3_good.objectives=value.TrialBudget=10.seed=2811363265 in `state=<State.PENDING: 'PENDING'>` at /home/soham/repos/hposuite/examples/example-outputs/hposuite-2opts-2benchs/optimizer=SMAC_BO.benchmark=mfh3_good.objectives=value.TrialBudget=10.seed=2811363265.\n",
      "WARNING:hposuite.run:Continuations are not supported for the optimizer: <class 'hposuite.optimizers.smac.SMAC_BO'>. Ignoring continuations=True.\n",
      "INFO:hpoglue._run:COMPLETED running optimizer=SMAC_BO.benchmark=mfh3_good.objectives=value.TrialBudget=10.seed=2811363265\n",
      "INFO:hposuite.run:Results dumped at /home/soham/repos/hposuite/examples/example-outputs/hposuite-2opts-2benchs/optimizer=SMAC_BO.benchmark=mfh3_good.objectives=value.TrialBudget=10.seed=2811363265/optimizer=SMAC_BO.benchmark=mfh3_good.objectives=value.TrialBudget=10.seed=2811363265.parquet\n",
      "INFO:hposuite.study:Completed study with 12 runs\n"
     ]
    }
   ],
   "source": [
    "rs = OPTIMIZERS[\"RandomSearch\"]\n",
    "bb = OPTIMIZERS[\"SMAC_BO\"]\n",
    "\n",
    "ackley = BENCHMARKS[\"ackley\"]\n",
    "mfh3g = BENCHMARKS[\"mfh3_good\"]\n",
    "\n",
    "from hposuite import create_study\n",
    "\n",
    "study = create_study(\n",
    "    name=\"hposuite-2opts-2benchs\",\n",
    "    output_dir=\"example-outputs\",\n",
    "    optimizers=[rs, bb],\n",
    "    benchmarks=[ackley, mfh3g],\n",
    "    num_seeds=3,\n",
    "    budget=10,\n",
    ")\n",
    "\n",
    "study.optimize(overwrite=True)"
   ]
  },
  {
   "cell_type": "markdown",
   "metadata": {},
   "source": [
    "## Running the same optimizer with different hyperparameters"
   ]
  },
  {
   "cell_type": "markdown",
   "metadata": {},
   "source": [
    "In this example we use SMAC_Hyperband with eta=2 and eta=3 and run it on MF Hartmann 6D Benchmark"
   ]
  },
  {
   "cell_type": "code",
   "execution_count": 4,
   "metadata": {},
   "outputs": [
    {
     "name": "stderr",
     "output_type": "stream",
     "text": [
      "INFO:hposuite.study:Generated 6 runs\n",
      "INFO:hposuite.study:Created study at /home/soham/repos/hposuite/examples/example-outputs/hposuite-1opt-2hps\n",
      "INFO:hposuite.study:Dumped experiments to /home/soham/repos/hposuite/examples/example-outputs/hposuite-1opt-2hps/dump_all.txt\n",
      "INFO:hposuite.study:Overwrite flag is set to True. Existing results will be overwritten!\n",
      "INFO:hposuite.study:Running 6 experiments sequentially\n",
      "INFO:hposuite.study:Running experiment 1/6\n",
      "INFO:hposuite.run:Overwriting optimizer=SMAC_Hyperband.eta=2.benchmark=mfh6_bad.objectives=value.fidelities=z.TrialBudget=10.seed=383329928 in `state=<State.PENDING: 'PENDING'>` at /home/soham/repos/hposuite/examples/example-outputs/hposuite-1opt-2hps/optimizer=SMAC_Hyperband.eta=2.benchmark=mfh6_bad.objectives=value.fidelities=z.TrialBudget=10.seed=383329928.\n",
      "INFO:hpoglue._run:COMPLETED running optimizer=SMAC_Hyperband.eta=2.benchmark=mfh6_bad.objectives=value.fidelities=z.TrialBudget=10.seed=383329928\n",
      "INFO:hposuite.run:Results dumped at /home/soham/repos/hposuite/examples/example-outputs/hposuite-1opt-2hps/optimizer=SMAC_Hyperband.eta=2.benchmark=mfh6_bad.objectives=value.fidelities=z.TrialBudget=10.seed=383329928/optimizer=SMAC_Hyperband.eta=2.benchmark=mfh6_bad.objectives=value.fidelities=z.TrialBudget=10.seed=383329928.parquet\n",
      "INFO:hposuite.study:Running experiment 2/6\n",
      "INFO:hposuite.run:Overwriting optimizer=SMAC_Hyperband.eta=2.benchmark=mfh6_bad.objectives=value.fidelities=z.TrialBudget=10.seed=3324115917 in `state=<State.PENDING: 'PENDING'>` at /home/soham/repos/hposuite/examples/example-outputs/hposuite-1opt-2hps/optimizer=SMAC_Hyperband.eta=2.benchmark=mfh6_bad.objectives=value.fidelities=z.TrialBudget=10.seed=3324115917.\n",
      "INFO:hpoglue._run:COMPLETED running optimizer=SMAC_Hyperband.eta=2.benchmark=mfh6_bad.objectives=value.fidelities=z.TrialBudget=10.seed=3324115917\n",
      "INFO:hposuite.run:Results dumped at /home/soham/repos/hposuite/examples/example-outputs/hposuite-1opt-2hps/optimizer=SMAC_Hyperband.eta=2.benchmark=mfh6_bad.objectives=value.fidelities=z.TrialBudget=10.seed=3324115917/optimizer=SMAC_Hyperband.eta=2.benchmark=mfh6_bad.objectives=value.fidelities=z.TrialBudget=10.seed=3324115917.parquet\n",
      "INFO:hposuite.study:Running experiment 3/6\n",
      "INFO:hposuite.run:Overwriting optimizer=SMAC_Hyperband.eta=2.benchmark=mfh6_bad.objectives=value.fidelities=z.TrialBudget=10.seed=2811363265 in `state=<State.PENDING: 'PENDING'>` at /home/soham/repos/hposuite/examples/example-outputs/hposuite-1opt-2hps/optimizer=SMAC_Hyperband.eta=2.benchmark=mfh6_bad.objectives=value.fidelities=z.TrialBudget=10.seed=2811363265.\n",
      "INFO:hpoglue._run:COMPLETED running optimizer=SMAC_Hyperband.eta=2.benchmark=mfh6_bad.objectives=value.fidelities=z.TrialBudget=10.seed=2811363265\n",
      "INFO:hposuite.run:Results dumped at /home/soham/repos/hposuite/examples/example-outputs/hposuite-1opt-2hps/optimizer=SMAC_Hyperband.eta=2.benchmark=mfh6_bad.objectives=value.fidelities=z.TrialBudget=10.seed=2811363265/optimizer=SMAC_Hyperband.eta=2.benchmark=mfh6_bad.objectives=value.fidelities=z.TrialBudget=10.seed=2811363265.parquet\n",
      "INFO:hposuite.study:Running experiment 4/6\n",
      "INFO:hposuite.run:Overwriting optimizer=SMAC_Hyperband.eta=3.benchmark=mfh6_bad.objectives=value.fidelities=z.TrialBudget=10.seed=383329928 in `state=<State.PENDING: 'PENDING'>` at /home/soham/repos/hposuite/examples/example-outputs/hposuite-1opt-2hps/optimizer=SMAC_Hyperband.eta=3.benchmark=mfh6_bad.objectives=value.fidelities=z.TrialBudget=10.seed=383329928.\n",
      "INFO:hpoglue._run:COMPLETED running optimizer=SMAC_Hyperband.eta=3.benchmark=mfh6_bad.objectives=value.fidelities=z.TrialBudget=10.seed=383329928\n",
      "INFO:hposuite.run:Results dumped at /home/soham/repos/hposuite/examples/example-outputs/hposuite-1opt-2hps/optimizer=SMAC_Hyperband.eta=3.benchmark=mfh6_bad.objectives=value.fidelities=z.TrialBudget=10.seed=383329928/optimizer=SMAC_Hyperband.eta=3.benchmark=mfh6_bad.objectives=value.fidelities=z.TrialBudget=10.seed=383329928.parquet\n",
      "INFO:hposuite.study:Running experiment 5/6\n",
      "INFO:hposuite.run:Overwriting optimizer=SMAC_Hyperband.eta=3.benchmark=mfh6_bad.objectives=value.fidelities=z.TrialBudget=10.seed=3324115917 in `state=<State.PENDING: 'PENDING'>` at /home/soham/repos/hposuite/examples/example-outputs/hposuite-1opt-2hps/optimizer=SMAC_Hyperband.eta=3.benchmark=mfh6_bad.objectives=value.fidelities=z.TrialBudget=10.seed=3324115917.\n",
      "INFO:hpoglue._run:COMPLETED running optimizer=SMAC_Hyperband.eta=3.benchmark=mfh6_bad.objectives=value.fidelities=z.TrialBudget=10.seed=3324115917\n",
      "INFO:hposuite.run:Results dumped at /home/soham/repos/hposuite/examples/example-outputs/hposuite-1opt-2hps/optimizer=SMAC_Hyperband.eta=3.benchmark=mfh6_bad.objectives=value.fidelities=z.TrialBudget=10.seed=3324115917/optimizer=SMAC_Hyperband.eta=3.benchmark=mfh6_bad.objectives=value.fidelities=z.TrialBudget=10.seed=3324115917.parquet\n",
      "INFO:hposuite.study:Running experiment 6/6\n",
      "INFO:hposuite.run:Overwriting optimizer=SMAC_Hyperband.eta=3.benchmark=mfh6_bad.objectives=value.fidelities=z.TrialBudget=10.seed=2811363265 in `state=<State.PENDING: 'PENDING'>` at /home/soham/repos/hposuite/examples/example-outputs/hposuite-1opt-2hps/optimizer=SMAC_Hyperband.eta=3.benchmark=mfh6_bad.objectives=value.fidelities=z.TrialBudget=10.seed=2811363265.\n",
      "INFO:hpoglue._run:COMPLETED running optimizer=SMAC_Hyperband.eta=3.benchmark=mfh6_bad.objectives=value.fidelities=z.TrialBudget=10.seed=2811363265\n",
      "INFO:hposuite.run:Results dumped at /home/soham/repos/hposuite/examples/example-outputs/hposuite-1opt-2hps/optimizer=SMAC_Hyperband.eta=3.benchmark=mfh6_bad.objectives=value.fidelities=z.TrialBudget=10.seed=2811363265/optimizer=SMAC_Hyperband.eta=3.benchmark=mfh6_bad.objectives=value.fidelities=z.TrialBudget=10.seed=2811363265.parquet\n",
      "INFO:hposuite.study:Completed study with 6 runs\n"
     ]
    }
   ],
   "source": [
    "mf_hb_2 = (\n",
    "    OPTIMIZERS[\"SMAC_Hyperband\"],\n",
    "    {\"eta\": 2}\n",
    ")\n",
    "mf_hb_3 = (\n",
    "    OPTIMIZERS[\"SMAC_Hyperband\"],\n",
    "    {\"eta\": 3}\n",
    ")\n",
    "\n",
    "from hposuite import create_study\n",
    "\n",
    "study = create_study(\n",
    "    name=\"hposuite-1opt-2hps\",\n",
    "    output_dir=\"example-outputs\",\n",
    "    optimizers=[mf_hb_2, mf_hb_3],\n",
    "    benchmarks=\"mfh6_bad\",  # Benchmarks can also be specified as string names\n",
    "    num_seeds=3,\n",
    "    budget=10,\n",
    ")\n",
    "\n",
    "study.optimize(overwrite=True)"
   ]
  },
  {
   "cell_type": "markdown",
   "metadata": {},
   "source": [
    "## Running a single-objective Optimizer on the same Benchmark for different objectives in the same study"
   ]
  },
  {
   "cell_type": "markdown",
   "metadata": {},
   "source": [
    "For this example we select the Pymoo Kursawe Benchmark. \\\n",
    "Listing below the objectives (metrics and costs) available in the benchmark"
   ]
  },
  {
   "cell_type": "code",
   "execution_count": 5,
   "metadata": {},
   "outputs": [
    {
     "name": "stdout",
     "output_type": "stream",
     "text": [
      "dict_keys(['value1', 'value2'])\n"
     ]
    }
   ],
   "source": [
    "kursawe = BENCHMARKS[\"pymoo-kursawe\"]\n",
    "print(kursawe.metrics.keys())"
   ]
  },
  {
   "cell_type": "markdown",
   "metadata": {},
   "source": [
    "Running RandomSearch on the Benchmark with one objective at a time in a single study"
   ]
  },
  {
   "cell_type": "code",
   "execution_count": 6,
   "metadata": {},
   "outputs": [
    {
     "name": "stderr",
     "output_type": "stream",
     "text": [
      "INFO:hposuite.study:Generated 6 runs\n",
      "INFO:hposuite.study:Created study at /home/soham/repos/hposuite/examples/example-outputs/hposuite-1opt-1bench-2objs\n",
      "INFO:hposuite.study:Dumped experiments to /home/soham/repos/hposuite/examples/example-outputs/hposuite-1opt-1bench-2objs/dump_all.txt\n",
      "INFO:hposuite.study:Overwrite flag is set to True. Existing results will be overwritten!\n",
      "INFO:hposuite.study:Running 6 experiments sequentially\n",
      "INFO:hposuite.study:Running experiment 1/6\n",
      "INFO:hposuite.run:Overwriting optimizer=RandomSearch.benchmark=pymoo-kursawe.objectives=value1.TrialBudget=10.seed=383329928 in `state=<State.PENDING: 'PENDING'>` at /home/soham/repos/hposuite/examples/example-outputs/hposuite-1opt-1bench-2objs/optimizer=RandomSearch.benchmark=pymoo-kursawe.objectives=value1.TrialBudget=10.seed=383329928.\n",
      "WARNING:hposuite.run:Continuations are not supported for the optimizer: <class 'hposuite.optimizers.random_search.RandomSearch'>. Ignoring continuations=True.\n",
      "INFO:hpoglue._run:COMPLETED running optimizer=RandomSearch.benchmark=pymoo-kursawe.objectives=value1.TrialBudget=10.seed=383329928\n",
      "INFO:hposuite.run:Results dumped at /home/soham/repos/hposuite/examples/example-outputs/hposuite-1opt-1bench-2objs/optimizer=RandomSearch.benchmark=pymoo-kursawe.objectives=value1.TrialBudget=10.seed=383329928/optimizer=RandomSearch.benchmark=pymoo-kursawe.objectives=value1.TrialBudget=10.seed=383329928.parquet\n",
      "INFO:hposuite.study:Running experiment 2/6\n",
      "INFO:hposuite.run:Overwriting optimizer=RandomSearch.benchmark=pymoo-kursawe.objectives=value1.TrialBudget=10.seed=3324115917 in `state=<State.PENDING: 'PENDING'>` at /home/soham/repos/hposuite/examples/example-outputs/hposuite-1opt-1bench-2objs/optimizer=RandomSearch.benchmark=pymoo-kursawe.objectives=value1.TrialBudget=10.seed=3324115917.\n",
      "WARNING:hposuite.run:Continuations are not supported for the optimizer: <class 'hposuite.optimizers.random_search.RandomSearch'>. Ignoring continuations=True.\n",
      "INFO:hpoglue._run:COMPLETED running optimizer=RandomSearch.benchmark=pymoo-kursawe.objectives=value1.TrialBudget=10.seed=3324115917\n",
      "INFO:hposuite.run:Results dumped at /home/soham/repos/hposuite/examples/example-outputs/hposuite-1opt-1bench-2objs/optimizer=RandomSearch.benchmark=pymoo-kursawe.objectives=value1.TrialBudget=10.seed=3324115917/optimizer=RandomSearch.benchmark=pymoo-kursawe.objectives=value1.TrialBudget=10.seed=3324115917.parquet\n",
      "INFO:hposuite.study:Running experiment 3/6\n",
      "INFO:hposuite.run:Overwriting optimizer=RandomSearch.benchmark=pymoo-kursawe.objectives=value1.TrialBudget=10.seed=2811363265 in `state=<State.PENDING: 'PENDING'>` at /home/soham/repos/hposuite/examples/example-outputs/hposuite-1opt-1bench-2objs/optimizer=RandomSearch.benchmark=pymoo-kursawe.objectives=value1.TrialBudget=10.seed=2811363265.\n",
      "WARNING:hposuite.run:Continuations are not supported for the optimizer: <class 'hposuite.optimizers.random_search.RandomSearch'>. Ignoring continuations=True.\n",
      "INFO:hpoglue._run:COMPLETED running optimizer=RandomSearch.benchmark=pymoo-kursawe.objectives=value1.TrialBudget=10.seed=2811363265\n",
      "INFO:hposuite.run:Results dumped at /home/soham/repos/hposuite/examples/example-outputs/hposuite-1opt-1bench-2objs/optimizer=RandomSearch.benchmark=pymoo-kursawe.objectives=value1.TrialBudget=10.seed=2811363265/optimizer=RandomSearch.benchmark=pymoo-kursawe.objectives=value1.TrialBudget=10.seed=2811363265.parquet\n",
      "INFO:hposuite.study:Running experiment 4/6\n",
      "INFO:hposuite.run:Overwriting optimizer=RandomSearch.benchmark=pymoo-kursawe.objectives=value2.TrialBudget=10.seed=383329928 in `state=<State.PENDING: 'PENDING'>` at /home/soham/repos/hposuite/examples/example-outputs/hposuite-1opt-1bench-2objs/optimizer=RandomSearch.benchmark=pymoo-kursawe.objectives=value2.TrialBudget=10.seed=383329928.\n",
      "WARNING:hposuite.run:Continuations are not supported for the optimizer: <class 'hposuite.optimizers.random_search.RandomSearch'>. Ignoring continuations=True.\n",
      "INFO:hpoglue._run:COMPLETED running optimizer=RandomSearch.benchmark=pymoo-kursawe.objectives=value2.TrialBudget=10.seed=383329928\n",
      "INFO:hposuite.run:Results dumped at /home/soham/repos/hposuite/examples/example-outputs/hposuite-1opt-1bench-2objs/optimizer=RandomSearch.benchmark=pymoo-kursawe.objectives=value2.TrialBudget=10.seed=383329928/optimizer=RandomSearch.benchmark=pymoo-kursawe.objectives=value2.TrialBudget=10.seed=383329928.parquet\n",
      "INFO:hposuite.study:Running experiment 5/6\n",
      "INFO:hposuite.run:Overwriting optimizer=RandomSearch.benchmark=pymoo-kursawe.objectives=value2.TrialBudget=10.seed=3324115917 in `state=<State.PENDING: 'PENDING'>` at /home/soham/repos/hposuite/examples/example-outputs/hposuite-1opt-1bench-2objs/optimizer=RandomSearch.benchmark=pymoo-kursawe.objectives=value2.TrialBudget=10.seed=3324115917.\n",
      "WARNING:hposuite.run:Continuations are not supported for the optimizer: <class 'hposuite.optimizers.random_search.RandomSearch'>. Ignoring continuations=True.\n",
      "INFO:hpoglue._run:COMPLETED running optimizer=RandomSearch.benchmark=pymoo-kursawe.objectives=value2.TrialBudget=10.seed=3324115917\n",
      "INFO:hposuite.run:Results dumped at /home/soham/repos/hposuite/examples/example-outputs/hposuite-1opt-1bench-2objs/optimizer=RandomSearch.benchmark=pymoo-kursawe.objectives=value2.TrialBudget=10.seed=3324115917/optimizer=RandomSearch.benchmark=pymoo-kursawe.objectives=value2.TrialBudget=10.seed=3324115917.parquet\n",
      "INFO:hposuite.study:Running experiment 6/6\n",
      "INFO:hposuite.run:Overwriting optimizer=RandomSearch.benchmark=pymoo-kursawe.objectives=value2.TrialBudget=10.seed=2811363265 in `state=<State.PENDING: 'PENDING'>` at /home/soham/repos/hposuite/examples/example-outputs/hposuite-1opt-1bench-2objs/optimizer=RandomSearch.benchmark=pymoo-kursawe.objectives=value2.TrialBudget=10.seed=2811363265.\n",
      "WARNING:hposuite.run:Continuations are not supported for the optimizer: <class 'hposuite.optimizers.random_search.RandomSearch'>. Ignoring continuations=True.\n",
      "INFO:hpoglue._run:COMPLETED running optimizer=RandomSearch.benchmark=pymoo-kursawe.objectives=value2.TrialBudget=10.seed=2811363265\n",
      "INFO:hposuite.run:Results dumped at /home/soham/repos/hposuite/examples/example-outputs/hposuite-1opt-1bench-2objs/optimizer=RandomSearch.benchmark=pymoo-kursawe.objectives=value2.TrialBudget=10.seed=2811363265/optimizer=RandomSearch.benchmark=pymoo-kursawe.objectives=value2.TrialBudget=10.seed=2811363265.parquet\n",
      "INFO:hposuite.study:Completed study with 6 runs\n"
     ]
    }
   ],
   "source": [
    "from hposuite import create_study\n",
    "\n",
    "study = create_study(\n",
    "    name=\"hposuite-1opt-1bench-2objs\",\n",
    "    output_dir=\"example-outputs\",\n",
    "    optimizers=\"RandomSearch\",\n",
    "    benchmarks=[\n",
    "        (kursawe, {\"objectives\": \"value1\"}),\n",
    "        (kursawe, {\"objectives\": \"value2\"}),\n",
    "    ],\n",
    "    num_seeds=3,\n",
    "    budget=10,\n",
    ")\n",
    "\n",
    "study.optimize(overwrite=True)"
   ]
  },
  {
   "cell_type": "markdown",
   "metadata": {},
   "source": [
    "## Running a Multi-objective Optimizer on the same benchmark multiple times with different pairs of objectives"
   ]
  },
  {
   "cell_type": "markdown",
   "metadata": {},
   "source": [
    "It is possible to run an MO Optimizer, say Optuna-NSGA2 on an MO benchmark like Pymoo DTLZ1 taking different combinations of its objectives at a time, within the same study. \\\n",
    "Listing the available objectives for the Pymoo DTLZ1 benchmark below"
   ]
  },
  {
   "cell_type": "code",
   "execution_count": 7,
   "metadata": {},
   "outputs": [
    {
     "name": "stdout",
     "output_type": "stream",
     "text": [
      "dict_keys(['value1', 'value2', 'value3'])\n"
     ]
    }
   ],
   "source": [
    "dtlz1 = BENCHMARKS[\"pymoo-dtlz1\"]\n",
    "print(dtlz1.metrics.keys())"
   ]
  },
  {
   "cell_type": "code",
   "execution_count": 8,
   "metadata": {},
   "outputs": [
    {
     "name": "stderr",
     "output_type": "stream",
     "text": [
      "INFO:hposuite.study:Generated 6 runs\n",
      "INFO:hposuite.study:Created study at /home/soham/repos/hposuite/examples/example-outputs/hposuite-1opt-1bench-mo-mix\n",
      "INFO:hposuite.study:Dumped experiments to /home/soham/repos/hposuite/examples/example-outputs/hposuite-1opt-1bench-mo-mix/dump_all.txt\n",
      "INFO:hposuite.study:Overwrite flag is set to True. Existing results will be overwritten!\n",
      "INFO:hposuite.study:Running 6 experiments sequentially\n",
      "INFO:hposuite.study:Running experiment 1/6\n",
      "INFO:hposuite.run:Overwriting optimizer=Optuna.benchmark=pymoo-dtlz1.objectives=value1,value2.TrialBudget=10.seed=383329928 in `state=<State.PENDING: 'PENDING'>` at /home/soham/repos/hposuite/examples/example-outputs/hposuite-1opt-1bench-mo-mix/optimizer=Optuna.benchmark=pymoo-dtlz1.objectives=value1,value2.TrialBudget=10.seed=383329928.\n",
      "WARNING:hposuite.run:Continuations are not supported for the optimizer: <class 'hposuite.optimizers.optuna.OptunaOptimizer'>. Ignoring continuations=True.\n",
      "[I 2025-03-17 15:09:11,571] A new study created in memory with name: optimizer=Optuna.benchmark=pymoo-dtlz1.objectives=value1,value2.TrialBudget=10-383329928\n",
      "INFO:hpoglue._run:COMPLETED running optimizer=Optuna.benchmark=pymoo-dtlz1.objectives=value1,value2.TrialBudget=10.seed=383329928\n",
      "INFO:hposuite.run:Results dumped at /home/soham/repos/hposuite/examples/example-outputs/hposuite-1opt-1bench-mo-mix/optimizer=Optuna.benchmark=pymoo-dtlz1.objectives=value1,value2.TrialBudget=10.seed=383329928/optimizer=Optuna.benchmark=pymoo-dtlz1.objectives=value1,value2.TrialBudget=10.seed=383329928.parquet\n",
      "INFO:hposuite.study:Running experiment 2/6\n",
      "INFO:hposuite.run:Overwriting optimizer=Optuna.benchmark=pymoo-dtlz1.objectives=value1,value2.TrialBudget=10.seed=3324115917 in `state=<State.PENDING: 'PENDING'>` at /home/soham/repos/hposuite/examples/example-outputs/hposuite-1opt-1bench-mo-mix/optimizer=Optuna.benchmark=pymoo-dtlz1.objectives=value1,value2.TrialBudget=10.seed=3324115917.\n",
      "WARNING:hposuite.run:Continuations are not supported for the optimizer: <class 'hposuite.optimizers.optuna.OptunaOptimizer'>. Ignoring continuations=True.\n",
      "[I 2025-03-17 15:09:11,758] A new study created in memory with name: optimizer=Optuna.benchmark=pymoo-dtlz1.objectives=value1,value2.TrialBudget=10-3324115917\n",
      "INFO:hpoglue._run:COMPLETED running optimizer=Optuna.benchmark=pymoo-dtlz1.objectives=value1,value2.TrialBudget=10.seed=3324115917\n",
      "INFO:hposuite.run:Results dumped at /home/soham/repos/hposuite/examples/example-outputs/hposuite-1opt-1bench-mo-mix/optimizer=Optuna.benchmark=pymoo-dtlz1.objectives=value1,value2.TrialBudget=10.seed=3324115917/optimizer=Optuna.benchmark=pymoo-dtlz1.objectives=value1,value2.TrialBudget=10.seed=3324115917.parquet\n",
      "INFO:hposuite.study:Running experiment 3/6\n",
      "INFO:hposuite.run:Overwriting optimizer=Optuna.benchmark=pymoo-dtlz1.objectives=value1,value2.TrialBudget=10.seed=2811363265 in `state=<State.PENDING: 'PENDING'>` at /home/soham/repos/hposuite/examples/example-outputs/hposuite-1opt-1bench-mo-mix/optimizer=Optuna.benchmark=pymoo-dtlz1.objectives=value1,value2.TrialBudget=10.seed=2811363265.\n",
      "WARNING:hposuite.run:Continuations are not supported for the optimizer: <class 'hposuite.optimizers.optuna.OptunaOptimizer'>. Ignoring continuations=True.\n",
      "[I 2025-03-17 15:09:11,936] A new study created in memory with name: optimizer=Optuna.benchmark=pymoo-dtlz1.objectives=value1,value2.TrialBudget=10-2811363265\n",
      "INFO:hpoglue._run:COMPLETED running optimizer=Optuna.benchmark=pymoo-dtlz1.objectives=value1,value2.TrialBudget=10.seed=2811363265\n",
      "INFO:hposuite.run:Results dumped at /home/soham/repos/hposuite/examples/example-outputs/hposuite-1opt-1bench-mo-mix/optimizer=Optuna.benchmark=pymoo-dtlz1.objectives=value1,value2.TrialBudget=10.seed=2811363265/optimizer=Optuna.benchmark=pymoo-dtlz1.objectives=value1,value2.TrialBudget=10.seed=2811363265.parquet\n",
      "INFO:hposuite.study:Running experiment 4/6\n",
      "INFO:hposuite.run:Overwriting optimizer=Optuna.benchmark=pymoo-dtlz1.objectives=value3,value1.TrialBudget=10.seed=383329928 in `state=<State.PENDING: 'PENDING'>` at /home/soham/repos/hposuite/examples/example-outputs/hposuite-1opt-1bench-mo-mix/optimizer=Optuna.benchmark=pymoo-dtlz1.objectives=value3,value1.TrialBudget=10.seed=383329928.\n",
      "WARNING:hposuite.run:Continuations are not supported for the optimizer: <class 'hposuite.optimizers.optuna.OptunaOptimizer'>. Ignoring continuations=True.\n",
      "[I 2025-03-17 15:09:12,106] A new study created in memory with name: optimizer=Optuna.benchmark=pymoo-dtlz1.objectives=value3,value1.TrialBudget=10-383329928\n",
      "INFO:hpoglue._run:COMPLETED running optimizer=Optuna.benchmark=pymoo-dtlz1.objectives=value3,value1.TrialBudget=10.seed=383329928\n",
      "INFO:hposuite.run:Results dumped at /home/soham/repos/hposuite/examples/example-outputs/hposuite-1opt-1bench-mo-mix/optimizer=Optuna.benchmark=pymoo-dtlz1.objectives=value3,value1.TrialBudget=10.seed=383329928/optimizer=Optuna.benchmark=pymoo-dtlz1.objectives=value3,value1.TrialBudget=10.seed=383329928.parquet\n",
      "INFO:hposuite.study:Running experiment 5/6\n",
      "INFO:hposuite.run:Overwriting optimizer=Optuna.benchmark=pymoo-dtlz1.objectives=value3,value1.TrialBudget=10.seed=3324115917 in `state=<State.PENDING: 'PENDING'>` at /home/soham/repos/hposuite/examples/example-outputs/hposuite-1opt-1bench-mo-mix/optimizer=Optuna.benchmark=pymoo-dtlz1.objectives=value3,value1.TrialBudget=10.seed=3324115917.\n",
      "WARNING:hposuite.run:Continuations are not supported for the optimizer: <class 'hposuite.optimizers.optuna.OptunaOptimizer'>. Ignoring continuations=True.\n",
      "[I 2025-03-17 15:09:12,280] A new study created in memory with name: optimizer=Optuna.benchmark=pymoo-dtlz1.objectives=value3,value1.TrialBudget=10-3324115917\n",
      "INFO:hpoglue._run:COMPLETED running optimizer=Optuna.benchmark=pymoo-dtlz1.objectives=value3,value1.TrialBudget=10.seed=3324115917\n",
      "INFO:hposuite.run:Results dumped at /home/soham/repos/hposuite/examples/example-outputs/hposuite-1opt-1bench-mo-mix/optimizer=Optuna.benchmark=pymoo-dtlz1.objectives=value3,value1.TrialBudget=10.seed=3324115917/optimizer=Optuna.benchmark=pymoo-dtlz1.objectives=value3,value1.TrialBudget=10.seed=3324115917.parquet\n",
      "INFO:hposuite.study:Running experiment 6/6\n",
      "INFO:hposuite.run:Overwriting optimizer=Optuna.benchmark=pymoo-dtlz1.objectives=value3,value1.TrialBudget=10.seed=2811363265 in `state=<State.PENDING: 'PENDING'>` at /home/soham/repos/hposuite/examples/example-outputs/hposuite-1opt-1bench-mo-mix/optimizer=Optuna.benchmark=pymoo-dtlz1.objectives=value3,value1.TrialBudget=10.seed=2811363265.\n",
      "WARNING:hposuite.run:Continuations are not supported for the optimizer: <class 'hposuite.optimizers.optuna.OptunaOptimizer'>. Ignoring continuations=True.\n",
      "[I 2025-03-17 15:09:12,463] A new study created in memory with name: optimizer=Optuna.benchmark=pymoo-dtlz1.objectives=value3,value1.TrialBudget=10-2811363265\n",
      "INFO:hpoglue._run:COMPLETED running optimizer=Optuna.benchmark=pymoo-dtlz1.objectives=value3,value1.TrialBudget=10.seed=2811363265\n",
      "INFO:hposuite.run:Results dumped at /home/soham/repos/hposuite/examples/example-outputs/hposuite-1opt-1bench-mo-mix/optimizer=Optuna.benchmark=pymoo-dtlz1.objectives=value3,value1.TrialBudget=10.seed=2811363265/optimizer=Optuna.benchmark=pymoo-dtlz1.objectives=value3,value1.TrialBudget=10.seed=2811363265.parquet\n",
      "INFO:hposuite.study:Completed study with 6 runs\n"
     ]
    }
   ],
   "source": [
    "from hposuite import create_study\n",
    "\n",
    "study = create_study(\n",
    "    name=\"hposuite-1opt-1bench-mo-mix\",\n",
    "    output_dir=\"example-outputs\",\n",
    "    optimizers=\"Optuna\",    # Automatically selects NSGA-II for multi-objective problems\n",
    "    benchmarks=[\n",
    "        (dtlz1, {\"objectives\": [\"value1\", \"value2\"]}),\n",
    "        (dtlz1, {\"objectives\": [\"value3\", \"value1\"]}),\n",
    "    ],\n",
    "    num_seeds=3,\n",
    "    budget=10,\n",
    ")\n",
    "\n",
    "study.optimize(overwrite=True)"
   ]
  },
  {
   "cell_type": "markdown",
   "metadata": {},
   "source": [
    "## Running a Prior-based Optimizer on a Benchmark with multiple objectives, with priors on different objectives at a time."
   ]
  },
  {
   "cell_type": "markdown",
   "metadata": {},
   "source": [
    "For this example, we use RandomSearch With Priors as the Optimizer and PYMOO SymPart Problem as the benchmark. \\\n",
    "The example below demonstrates how to optimize on a benchmark with priors over one of its multiple objectives at a time, in a single study"
   ]
  },
  {
   "cell_type": "code",
   "execution_count": 9,
   "metadata": {},
   "outputs": [],
   "source": [
    "rsp = OPTIMIZERS[\"RandomSearchWithPriors\"]\n",
    "sympart = BENCHMARKS[\"pymoo-sympart\"]"
   ]
  },
  {
   "cell_type": "markdown",
   "metadata": {},
   "source": [
    "Printing the Benchmark Description of the Pymoo ZDT1 Benchmark"
   ]
  },
  {
   "cell_type": "code",
   "execution_count": 10,
   "metadata": {},
   "outputs": [
    {
     "data": {
      "text/plain": [
       "BenchmarkDescription(name='pymoo-sympart', config_space=Configuration space object:\n",
       "  Hyperparameters:\n",
       "    x0, Type: UniformFloat, Range: [-100.0, 100.0], Default: 0.0\n",
       "    x1, Type: UniformFloat, Range: [-100.0, 100.0], Default: 0.0\n",
       ", load=functools.partial(<function _pymoo_surrogate_bench at 0x72c047ffc550>, pymoo_prob=<pymoo.problems.multi.sympart.SYMPART object at 0x72c02ffd7310>), metrics={'value1': Measure(minimize=True, kind=<Kind.METRIC: 'metric'>, bounds=(-inf, inf)), 'value2': Measure(minimize=True, kind=<Kind.METRIC: 'metric'>, bounds=(-inf, inf))}, test_metrics=None, costs=None, fidelities=None, has_conditionals=False, is_tabular=False, env=Env(name='py310-pymoo-0.6.1.3'), mem_req_mb=1024, predefined_points=None, extra={})"
      ]
     },
     "execution_count": 10,
     "metadata": {},
     "output_type": "execute_result"
    }
   ],
   "source": [
    "sympart"
   ]
  },
  {
   "cell_type": "markdown",
   "metadata": {},
   "source": [
    "Running RandomSearchWithPriors on Pymoo Sympart with prior over one objective at a time"
   ]
  },
  {
   "cell_type": "code",
   "execution_count": 12,
   "metadata": {},
   "outputs": [
    {
     "name": "stderr",
     "output_type": "stream",
     "text": [
      "INFO:hposuite.study:Generated 6 runs\n",
      "INFO:hposuite.study:Created study at /home/soham/repos/hposuite/examples/example-outputs/hposuite-ex-multiprior-so\n",
      "INFO:hposuite.study:Dumped experiments to /home/soham/repos/hposuite/examples/example-outputs/hposuite-ex-multiprior-so/dump_all.txt\n",
      "INFO:hposuite.study:Overwrite flag is set to True. Existing results will be overwritten!\n",
      "INFO:hposuite.study:Running 6 experiments sequentially\n",
      "INFO:hposuite.study:Running experiment 1/6\n",
      "INFO:hposuite.run:Overwriting optimizer=RandomSearchWithPriors.benchmark=pymoo-sympart.objectives=value1.TrialBudget=10.priors=value1_random1.seed=383329928 in `state=<State.PENDING: 'PENDING'>` at /home/soham/repos/hposuite/examples/example-outputs/hposuite-ex-multiprior-so/optimizer=RandomSearchWithPriors.benchmark=pymoo-sympart.objectives=value1.TrialBudget=10.priors=value1_random1.seed=383329928.\n",
      "WARNING:hposuite.run:Continuations are not supported for the optimizer: <class 'hposuite.optimizers.random_search.RandomSearchWithPriors'>. Ignoring continuations=True.\n",
      "INFO:hpoglue._run:COMPLETED running optimizer=RandomSearchWithPriors.benchmark=pymoo-sympart.objectives=value1.TrialBudget=10.priors=value1_random1.seed=383329928\n",
      "INFO:hposuite.run:Results dumped at /home/soham/repos/hposuite/examples/example-outputs/hposuite-ex-multiprior-so/optimizer=RandomSearchWithPriors.benchmark=pymoo-sympart.objectives=value1.TrialBudget=10.priors=value1_random1.seed=383329928/optimizer=RandomSearchWithPriors.benchmark=pymoo-sympart.objectives=value1.TrialBudget=10.priors=value1_random1.seed=383329928.parquet\n",
      "INFO:hposuite.study:Running experiment 2/6\n",
      "INFO:hposuite.run:Overwriting optimizer=RandomSearchWithPriors.benchmark=pymoo-sympart.objectives=value1.TrialBudget=10.priors=value1_random1.seed=3324115917 in `state=<State.PENDING: 'PENDING'>` at /home/soham/repos/hposuite/examples/example-outputs/hposuite-ex-multiprior-so/optimizer=RandomSearchWithPriors.benchmark=pymoo-sympart.objectives=value1.TrialBudget=10.priors=value1_random1.seed=3324115917.\n",
      "WARNING:hposuite.run:Continuations are not supported for the optimizer: <class 'hposuite.optimizers.random_search.RandomSearchWithPriors'>. Ignoring continuations=True.\n",
      "INFO:hpoglue._run:COMPLETED running optimizer=RandomSearchWithPriors.benchmark=pymoo-sympart.objectives=value1.TrialBudget=10.priors=value1_random1.seed=3324115917\n",
      "INFO:hposuite.run:Results dumped at /home/soham/repos/hposuite/examples/example-outputs/hposuite-ex-multiprior-so/optimizer=RandomSearchWithPriors.benchmark=pymoo-sympart.objectives=value1.TrialBudget=10.priors=value1_random1.seed=3324115917/optimizer=RandomSearchWithPriors.benchmark=pymoo-sympart.objectives=value1.TrialBudget=10.priors=value1_random1.seed=3324115917.parquet\n",
      "INFO:hposuite.study:Running experiment 3/6\n",
      "INFO:hposuite.run:Overwriting optimizer=RandomSearchWithPriors.benchmark=pymoo-sympart.objectives=value1.TrialBudget=10.priors=value1_random1.seed=2811363265 in `state=<State.PENDING: 'PENDING'>` at /home/soham/repos/hposuite/examples/example-outputs/hposuite-ex-multiprior-so/optimizer=RandomSearchWithPriors.benchmark=pymoo-sympart.objectives=value1.TrialBudget=10.priors=value1_random1.seed=2811363265.\n",
      "WARNING:hposuite.run:Continuations are not supported for the optimizer: <class 'hposuite.optimizers.random_search.RandomSearchWithPriors'>. Ignoring continuations=True.\n",
      "INFO:hpoglue._run:COMPLETED running optimizer=RandomSearchWithPriors.benchmark=pymoo-sympart.objectives=value1.TrialBudget=10.priors=value1_random1.seed=2811363265\n",
      "INFO:hposuite.run:Results dumped at /home/soham/repos/hposuite/examples/example-outputs/hposuite-ex-multiprior-so/optimizer=RandomSearchWithPriors.benchmark=pymoo-sympart.objectives=value1.TrialBudget=10.priors=value1_random1.seed=2811363265/optimizer=RandomSearchWithPriors.benchmark=pymoo-sympart.objectives=value1.TrialBudget=10.priors=value1_random1.seed=2811363265.parquet\n",
      "INFO:hposuite.study:Running experiment 4/6\n",
      "INFO:hposuite.run:Overwriting optimizer=RandomSearchWithPriors.benchmark=pymoo-sympart.objectives=value2.TrialBudget=10.priors=value2_random1.seed=383329928 in `state=<State.PENDING: 'PENDING'>` at /home/soham/repos/hposuite/examples/example-outputs/hposuite-ex-multiprior-so/optimizer=RandomSearchWithPriors.benchmark=pymoo-sympart.objectives=value2.TrialBudget=10.priors=value2_random1.seed=383329928.\n",
      "WARNING:hposuite.run:Continuations are not supported for the optimizer: <class 'hposuite.optimizers.random_search.RandomSearchWithPriors'>. Ignoring continuations=True.\n",
      "INFO:hpoglue._run:COMPLETED running optimizer=RandomSearchWithPriors.benchmark=pymoo-sympart.objectives=value2.TrialBudget=10.priors=value2_random1.seed=383329928\n",
      "INFO:hposuite.run:Results dumped at /home/soham/repos/hposuite/examples/example-outputs/hposuite-ex-multiprior-so/optimizer=RandomSearchWithPriors.benchmark=pymoo-sympart.objectives=value2.TrialBudget=10.priors=value2_random1.seed=383329928/optimizer=RandomSearchWithPriors.benchmark=pymoo-sympart.objectives=value2.TrialBudget=10.priors=value2_random1.seed=383329928.parquet\n",
      "INFO:hposuite.study:Running experiment 5/6\n",
      "INFO:hposuite.run:Overwriting optimizer=RandomSearchWithPriors.benchmark=pymoo-sympart.objectives=value2.TrialBudget=10.priors=value2_random1.seed=3324115917 in `state=<State.PENDING: 'PENDING'>` at /home/soham/repos/hposuite/examples/example-outputs/hposuite-ex-multiprior-so/optimizer=RandomSearchWithPriors.benchmark=pymoo-sympart.objectives=value2.TrialBudget=10.priors=value2_random1.seed=3324115917.\n",
      "WARNING:hposuite.run:Continuations are not supported for the optimizer: <class 'hposuite.optimizers.random_search.RandomSearchWithPriors'>. Ignoring continuations=True.\n",
      "INFO:hpoglue._run:COMPLETED running optimizer=RandomSearchWithPriors.benchmark=pymoo-sympart.objectives=value2.TrialBudget=10.priors=value2_random1.seed=3324115917\n",
      "INFO:hposuite.run:Results dumped at /home/soham/repos/hposuite/examples/example-outputs/hposuite-ex-multiprior-so/optimizer=RandomSearchWithPriors.benchmark=pymoo-sympart.objectives=value2.TrialBudget=10.priors=value2_random1.seed=3324115917/optimizer=RandomSearchWithPriors.benchmark=pymoo-sympart.objectives=value2.TrialBudget=10.priors=value2_random1.seed=3324115917.parquet\n",
      "INFO:hposuite.study:Running experiment 6/6\n",
      "INFO:hposuite.run:Overwriting optimizer=RandomSearchWithPriors.benchmark=pymoo-sympart.objectives=value2.TrialBudget=10.priors=value2_random1.seed=2811363265 in `state=<State.PENDING: 'PENDING'>` at /home/soham/repos/hposuite/examples/example-outputs/hposuite-ex-multiprior-so/optimizer=RandomSearchWithPriors.benchmark=pymoo-sympart.objectives=value2.TrialBudget=10.priors=value2_random1.seed=2811363265.\n",
      "WARNING:hposuite.run:Continuations are not supported for the optimizer: <class 'hposuite.optimizers.random_search.RandomSearchWithPriors'>. Ignoring continuations=True.\n",
      "INFO:hpoglue._run:COMPLETED running optimizer=RandomSearchWithPriors.benchmark=pymoo-sympart.objectives=value2.TrialBudget=10.priors=value2_random1.seed=2811363265\n",
      "INFO:hposuite.run:Results dumped at /home/soham/repos/hposuite/examples/example-outputs/hposuite-ex-multiprior-so/optimizer=RandomSearchWithPriors.benchmark=pymoo-sympart.objectives=value2.TrialBudget=10.priors=value2_random1.seed=2811363265/optimizer=RandomSearchWithPriors.benchmark=pymoo-sympart.objectives=value2.TrialBudget=10.priors=value2_random1.seed=2811363265.parquet\n",
      "INFO:hposuite.study:Completed study with 6 runs\n"
     ]
    }
   ],
   "source": [
    "from hposuite import create_study\n",
    "\n",
    "study = create_study(\n",
    "    name=\"hposuite-ex-multiprior-so\",\n",
    "    output_dir=\"example-outputs\",\n",
    "    optimizers=rsp,\n",
    "    benchmarks=[\n",
    "        (sympart, {\n",
    "            \"objectives\": [\"value1\"],\n",
    "            \"priors\": (\n",
    "                \"value1_random1\",\n",
    "                {\n",
    "                    \"value1\": {\n",
    "                        \"x0\": 50.0,\n",
    "                        \"x1\": 50.0,\n",
    "                    }\n",
    "                }\n",
    "            )\n",
    "        }),\n",
    "        (sympart, {\n",
    "            \"objectives\": [\"value2\"],\n",
    "            \"priors\": (\n",
    "                \"value2_random1\",\n",
    "                {\n",
    "                    \"value2\": {\n",
    "                        \"x0\": 20.0,\n",
    "                        \"x1\": 30.0,\n",
    "                    }\n",
    "                }\n",
    "            )\n",
    "        }),\n",
    "    ],\n",
    "    num_seeds=3,\n",
    "    budget=10,\n",
    "    on_error=\"raise\",\n",
    ")\n",
    "\n",
    "study.optimize(overwrite=True)"
   ]
  },
  {
   "cell_type": "markdown",
   "metadata": {},
   "source": [
    "## Running a Prior-based Multi-objective Optimizer on a Multi-objective benchmark with priors over different objectives at a time"
   ]
  },
  {
   "cell_type": "markdown",
   "metadata": {},
   "source": [
    "For this example, we again use RandomSearch With Priors as the Optimizer, with the hyperparameter mo-prior-sampling set to random, which picks which objective's prior to use at every iteration randomly. \\\n",
    "The PYMOO DTLZ1 Many Objective Problem is selected as the benchmark. \\\n",
    "The example below demonstrates how to optimize for Multiple Objectives on a benchmark with priors over one of a pair of its multiple objectives at a time, in a single study"
   ]
  },
  {
   "cell_type": "code",
   "execution_count": 13,
   "metadata": {},
   "outputs": [],
   "source": [
    "rsp = OPTIMIZERS[\"RandomSearchWithPriors\"]\n",
    "dtlz1 = BENCHMARKS[\"pymoo-dtlz1\"]"
   ]
  },
  {
   "cell_type": "markdown",
   "metadata": {},
   "source": [
    "Let's display, pymoo-dtlz1's description"
   ]
  },
  {
   "cell_type": "code",
   "execution_count": 14,
   "metadata": {},
   "outputs": [
    {
     "data": {
      "text/plain": [
       "BenchmarkDescription(name='pymoo-dtlz1', config_space=Configuration space object:\n",
       "  Hyperparameters:\n",
       "    x0, Type: UniformFloat, Range: [0.0, 1.0], Default: 0.5\n",
       "    x1, Type: UniformFloat, Range: [0.0, 1.0], Default: 0.5\n",
       "    x2, Type: UniformFloat, Range: [0.0, 1.0], Default: 0.5\n",
       "    x3, Type: UniformFloat, Range: [0.0, 1.0], Default: 0.5\n",
       "    x4, Type: UniformFloat, Range: [0.0, 1.0], Default: 0.5\n",
       "    x5, Type: UniformFloat, Range: [0.0, 1.0], Default: 0.5\n",
       "    x6, Type: UniformFloat, Range: [0.0, 1.0], Default: 0.5\n",
       ", load=functools.partial(<function _pymoo_surrogate_bench at 0x72c047ffc550>, pymoo_prob=<pymoo.problems.many.dtlz.DTLZ1 object at 0x72c09cd082e0>), metrics={'value1': Measure(minimize=True, kind=<Kind.METRIC: 'metric'>, bounds=(-inf, inf)), 'value2': Measure(minimize=True, kind=<Kind.METRIC: 'metric'>, bounds=(-inf, inf)), 'value3': Measure(minimize=True, kind=<Kind.METRIC: 'metric'>, bounds=(-inf, inf))}, test_metrics=None, costs=None, fidelities=None, has_conditionals=False, is_tabular=False, env=Env(name='py310-pymoo-0.6.1.3'), mem_req_mb=1024, predefined_points=None, extra={})"
      ]
     },
     "execution_count": 14,
     "metadata": {},
     "output_type": "execute_result"
    }
   ],
   "source": [
    "dtlz1"
   ]
  },
  {
   "cell_type": "markdown",
   "metadata": {},
   "source": [
    "Generating a random prior for the pymoo-dtlz1 benchmark"
   ]
  },
  {
   "cell_type": "code",
   "execution_count": 15,
   "metadata": {},
   "outputs": [
    {
     "name": "stdout",
     "output_type": "stream",
     "text": [
      "{'value1': {'x0': 0.8424337832264777,\n",
      "            'x1': 0.9787706854647251,\n",
      "            'x2': 0.11725081993339337,\n",
      "            'x3': 0.4192885631932868,\n",
      "            'x4': 0.20879366986227144,\n",
      "            'x5': 0.5323742407337212,\n",
      "            'x6': 0.6880019980913143},\n",
      " 'value2': {'x0': 0.7281925713773444,\n",
      "            'x1': 0.8161984493730249,\n",
      "            'x2': 0.9213637128968848,\n",
      "            'x3': 0.801578621829872,\n",
      "            'x4': 0.05411417167517152,\n",
      "            'x5': 0.4870742238658142,\n",
      "            'x6': 0.48279494356874064},\n",
      " 'value3': {'x0': 0.6065282392315544,\n",
      "            'x1': 0.6722833265052437,\n",
      "            'x2': 0.7852248133935296,\n",
      "            'x3': 0.15918584810085024,\n",
      "            'x4': 0.5411981030420434,\n",
      "            'x5': 0.8972121336821698,\n",
      "            'x6': 0.08718322095502529}}\n"
     ]
    }
   ],
   "source": [
    "import numpy as np\n",
    "\n",
    "dtlz1_priors = {\n",
    "    f\"value{i}\": {\n",
    "        var.name: np.random.uniform(var.lower, var.upper) for var in list(dtlz1.config_space.values())  # noqa: NPY002\n",
    "    }\n",
    "    for i in range(1, 4)\n",
    "}\n",
    "\n",
    "from pprint import pprint\n",
    "\n",
    "pprint(dtlz1_priors)"
   ]
  },
  {
   "cell_type": "markdown",
   "metadata": {},
   "source": [
    "Running RandomSearch With Priors on DTLZ1 optimizing for two objectives and taking priors over one of the objectives at a time"
   ]
  },
  {
   "cell_type": "code",
   "execution_count": 16,
   "metadata": {},
   "outputs": [
    {
     "name": "stderr",
     "output_type": "stream",
     "text": [
      "INFO:hposuite.study:Generated 9 runs\n",
      "INFO:hposuite.study:Created study at /home/soham/repos/hposuite/examples/example-outputs/hposuite-ex-multiprior-priors\n",
      "INFO:hposuite.study:Dumped experiments to /home/soham/repos/hposuite/examples/example-outputs/hposuite-ex-multiprior-priors/dump_all.txt\n",
      "INFO:hposuite.study:Overwrite flag is set to True. Existing results will be overwritten!\n",
      "INFO:hposuite.study:Running 9 experiments sequentially\n",
      "INFO:hposuite.study:Running experiment 1/9\n",
      "INFO:hposuite.run:Overwriting optimizer=RandomSearchWithPriors.benchmark=pymoo-dtlz1.objectives=value1,value2.TrialBudget=10.priors=value1_random.seed=383329928 in `state=<State.PENDING: 'PENDING'>` at /home/soham/repos/hposuite/examples/example-outputs/hposuite-ex-multiprior-priors/optimizer=RandomSearchWithPriors.benchmark=pymoo-dtlz1.objectives=value1,value2.TrialBudget=10.priors=value1_random.seed=383329928.\n",
      "WARNING:hposuite.run:Continuations are not supported for the optimizer: <class 'hposuite.optimizers.random_search.RandomSearchWithPriors'>. Ignoring continuations=True.\n",
      "INFO:hpoglue._run:COMPLETED running optimizer=RandomSearchWithPriors.benchmark=pymoo-dtlz1.objectives=value1,value2.TrialBudget=10.priors=value1_random.seed=383329928\n",
      "INFO:hposuite.run:Results dumped at /home/soham/repos/hposuite/examples/example-outputs/hposuite-ex-multiprior-priors/optimizer=RandomSearchWithPriors.benchmark=pymoo-dtlz1.objectives=value1,value2.TrialBudget=10.priors=value1_random.seed=383329928/optimizer=RandomSearchWithPriors.benchmark=pymoo-dtlz1.objectives=value1,value2.TrialBudget=10.priors=value1_random.seed=383329928.parquet\n",
      "INFO:hposuite.study:Running experiment 2/9\n",
      "INFO:hposuite.run:Overwriting optimizer=RandomSearchWithPriors.benchmark=pymoo-dtlz1.objectives=value1,value2.TrialBudget=10.priors=value1_random.seed=3324115917 in `state=<State.PENDING: 'PENDING'>` at /home/soham/repos/hposuite/examples/example-outputs/hposuite-ex-multiprior-priors/optimizer=RandomSearchWithPriors.benchmark=pymoo-dtlz1.objectives=value1,value2.TrialBudget=10.priors=value1_random.seed=3324115917.\n",
      "WARNING:hposuite.run:Continuations are not supported for the optimizer: <class 'hposuite.optimizers.random_search.RandomSearchWithPriors'>. Ignoring continuations=True.\n",
      "INFO:hpoglue._run:COMPLETED running optimizer=RandomSearchWithPriors.benchmark=pymoo-dtlz1.objectives=value1,value2.TrialBudget=10.priors=value1_random.seed=3324115917\n",
      "INFO:hposuite.run:Results dumped at /home/soham/repos/hposuite/examples/example-outputs/hposuite-ex-multiprior-priors/optimizer=RandomSearchWithPriors.benchmark=pymoo-dtlz1.objectives=value1,value2.TrialBudget=10.priors=value1_random.seed=3324115917/optimizer=RandomSearchWithPriors.benchmark=pymoo-dtlz1.objectives=value1,value2.TrialBudget=10.priors=value1_random.seed=3324115917.parquet\n",
      "INFO:hposuite.study:Running experiment 3/9\n",
      "INFO:hposuite.run:Overwriting optimizer=RandomSearchWithPriors.benchmark=pymoo-dtlz1.objectives=value1,value2.TrialBudget=10.priors=value1_random.seed=2811363265 in `state=<State.PENDING: 'PENDING'>` at /home/soham/repos/hposuite/examples/example-outputs/hposuite-ex-multiprior-priors/optimizer=RandomSearchWithPriors.benchmark=pymoo-dtlz1.objectives=value1,value2.TrialBudget=10.priors=value1_random.seed=2811363265.\n",
      "WARNING:hposuite.run:Continuations are not supported for the optimizer: <class 'hposuite.optimizers.random_search.RandomSearchWithPriors'>. Ignoring continuations=True.\n",
      "INFO:hpoglue._run:COMPLETED running optimizer=RandomSearchWithPriors.benchmark=pymoo-dtlz1.objectives=value1,value2.TrialBudget=10.priors=value1_random.seed=2811363265\n",
      "INFO:hposuite.run:Results dumped at /home/soham/repos/hposuite/examples/example-outputs/hposuite-ex-multiprior-priors/optimizer=RandomSearchWithPriors.benchmark=pymoo-dtlz1.objectives=value1,value2.TrialBudget=10.priors=value1_random.seed=2811363265/optimizer=RandomSearchWithPriors.benchmark=pymoo-dtlz1.objectives=value1,value2.TrialBudget=10.priors=value1_random.seed=2811363265.parquet\n",
      "INFO:hposuite.study:Running experiment 4/9\n",
      "INFO:hposuite.run:Overwriting optimizer=RandomSearchWithPriors.benchmark=pymoo-dtlz1.objectives=value2,value3.TrialBudget=10.priors=value2_random.seed=383329928 in `state=<State.PENDING: 'PENDING'>` at /home/soham/repos/hposuite/examples/example-outputs/hposuite-ex-multiprior-priors/optimizer=RandomSearchWithPriors.benchmark=pymoo-dtlz1.objectives=value2,value3.TrialBudget=10.priors=value2_random.seed=383329928.\n",
      "WARNING:hposuite.run:Continuations are not supported for the optimizer: <class 'hposuite.optimizers.random_search.RandomSearchWithPriors'>. Ignoring continuations=True.\n",
      "INFO:hpoglue._run:COMPLETED running optimizer=RandomSearchWithPriors.benchmark=pymoo-dtlz1.objectives=value2,value3.TrialBudget=10.priors=value2_random.seed=383329928\n",
      "INFO:hposuite.run:Results dumped at /home/soham/repos/hposuite/examples/example-outputs/hposuite-ex-multiprior-priors/optimizer=RandomSearchWithPriors.benchmark=pymoo-dtlz1.objectives=value2,value3.TrialBudget=10.priors=value2_random.seed=383329928/optimizer=RandomSearchWithPriors.benchmark=pymoo-dtlz1.objectives=value2,value3.TrialBudget=10.priors=value2_random.seed=383329928.parquet\n",
      "INFO:hposuite.study:Running experiment 5/9\n",
      "INFO:hposuite.run:Overwriting optimizer=RandomSearchWithPriors.benchmark=pymoo-dtlz1.objectives=value2,value3.TrialBudget=10.priors=value2_random.seed=3324115917 in `state=<State.PENDING: 'PENDING'>` at /home/soham/repos/hposuite/examples/example-outputs/hposuite-ex-multiprior-priors/optimizer=RandomSearchWithPriors.benchmark=pymoo-dtlz1.objectives=value2,value3.TrialBudget=10.priors=value2_random.seed=3324115917.\n",
      "WARNING:hposuite.run:Continuations are not supported for the optimizer: <class 'hposuite.optimizers.random_search.RandomSearchWithPriors'>. Ignoring continuations=True.\n",
      "INFO:hpoglue._run:COMPLETED running optimizer=RandomSearchWithPriors.benchmark=pymoo-dtlz1.objectives=value2,value3.TrialBudget=10.priors=value2_random.seed=3324115917\n",
      "INFO:hposuite.run:Results dumped at /home/soham/repos/hposuite/examples/example-outputs/hposuite-ex-multiprior-priors/optimizer=RandomSearchWithPriors.benchmark=pymoo-dtlz1.objectives=value2,value3.TrialBudget=10.priors=value2_random.seed=3324115917/optimizer=RandomSearchWithPriors.benchmark=pymoo-dtlz1.objectives=value2,value3.TrialBudget=10.priors=value2_random.seed=3324115917.parquet\n",
      "INFO:hposuite.study:Running experiment 6/9\n",
      "INFO:hposuite.run:Overwriting optimizer=RandomSearchWithPriors.benchmark=pymoo-dtlz1.objectives=value2,value3.TrialBudget=10.priors=value2_random.seed=2811363265 in `state=<State.PENDING: 'PENDING'>` at /home/soham/repos/hposuite/examples/example-outputs/hposuite-ex-multiprior-priors/optimizer=RandomSearchWithPriors.benchmark=pymoo-dtlz1.objectives=value2,value3.TrialBudget=10.priors=value2_random.seed=2811363265.\n",
      "WARNING:hposuite.run:Continuations are not supported for the optimizer: <class 'hposuite.optimizers.random_search.RandomSearchWithPriors'>. Ignoring continuations=True.\n",
      "INFO:hpoglue._run:COMPLETED running optimizer=RandomSearchWithPriors.benchmark=pymoo-dtlz1.objectives=value2,value3.TrialBudget=10.priors=value2_random.seed=2811363265\n",
      "INFO:hposuite.run:Results dumped at /home/soham/repos/hposuite/examples/example-outputs/hposuite-ex-multiprior-priors/optimizer=RandomSearchWithPriors.benchmark=pymoo-dtlz1.objectives=value2,value3.TrialBudget=10.priors=value2_random.seed=2811363265/optimizer=RandomSearchWithPriors.benchmark=pymoo-dtlz1.objectives=value2,value3.TrialBudget=10.priors=value2_random.seed=2811363265.parquet\n",
      "INFO:hposuite.study:Running experiment 7/9\n",
      "INFO:hposuite.run:Overwriting optimizer=RandomSearchWithPriors.benchmark=pymoo-dtlz1.objectives=value3,value1.TrialBudget=10.priors=value3_random.seed=383329928 in `state=<State.PENDING: 'PENDING'>` at /home/soham/repos/hposuite/examples/example-outputs/hposuite-ex-multiprior-priors/optimizer=RandomSearchWithPriors.benchmark=pymoo-dtlz1.objectives=value3,value1.TrialBudget=10.priors=value3_random.seed=383329928.\n",
      "WARNING:hposuite.run:Continuations are not supported for the optimizer: <class 'hposuite.optimizers.random_search.RandomSearchWithPriors'>. Ignoring continuations=True.\n",
      "INFO:hpoglue._run:COMPLETED running optimizer=RandomSearchWithPriors.benchmark=pymoo-dtlz1.objectives=value3,value1.TrialBudget=10.priors=value3_random.seed=383329928\n",
      "INFO:hposuite.run:Results dumped at /home/soham/repos/hposuite/examples/example-outputs/hposuite-ex-multiprior-priors/optimizer=RandomSearchWithPriors.benchmark=pymoo-dtlz1.objectives=value3,value1.TrialBudget=10.priors=value3_random.seed=383329928/optimizer=RandomSearchWithPriors.benchmark=pymoo-dtlz1.objectives=value3,value1.TrialBudget=10.priors=value3_random.seed=383329928.parquet\n",
      "INFO:hposuite.study:Running experiment 8/9\n",
      "INFO:hposuite.run:Overwriting optimizer=RandomSearchWithPriors.benchmark=pymoo-dtlz1.objectives=value3,value1.TrialBudget=10.priors=value3_random.seed=3324115917 in `state=<State.PENDING: 'PENDING'>` at /home/soham/repos/hposuite/examples/example-outputs/hposuite-ex-multiprior-priors/optimizer=RandomSearchWithPriors.benchmark=pymoo-dtlz1.objectives=value3,value1.TrialBudget=10.priors=value3_random.seed=3324115917.\n",
      "WARNING:hposuite.run:Continuations are not supported for the optimizer: <class 'hposuite.optimizers.random_search.RandomSearchWithPriors'>. Ignoring continuations=True.\n",
      "INFO:hpoglue._run:COMPLETED running optimizer=RandomSearchWithPriors.benchmark=pymoo-dtlz1.objectives=value3,value1.TrialBudget=10.priors=value3_random.seed=3324115917\n",
      "INFO:hposuite.run:Results dumped at /home/soham/repos/hposuite/examples/example-outputs/hposuite-ex-multiprior-priors/optimizer=RandomSearchWithPriors.benchmark=pymoo-dtlz1.objectives=value3,value1.TrialBudget=10.priors=value3_random.seed=3324115917/optimizer=RandomSearchWithPriors.benchmark=pymoo-dtlz1.objectives=value3,value1.TrialBudget=10.priors=value3_random.seed=3324115917.parquet\n",
      "INFO:hposuite.study:Running experiment 9/9\n",
      "INFO:hposuite.run:Overwriting optimizer=RandomSearchWithPriors.benchmark=pymoo-dtlz1.objectives=value3,value1.TrialBudget=10.priors=value3_random.seed=2811363265 in `state=<State.PENDING: 'PENDING'>` at /home/soham/repos/hposuite/examples/example-outputs/hposuite-ex-multiprior-priors/optimizer=RandomSearchWithPriors.benchmark=pymoo-dtlz1.objectives=value3,value1.TrialBudget=10.priors=value3_random.seed=2811363265.\n",
      "WARNING:hposuite.run:Continuations are not supported for the optimizer: <class 'hposuite.optimizers.random_search.RandomSearchWithPriors'>. Ignoring continuations=True.\n",
      "INFO:hpoglue._run:COMPLETED running optimizer=RandomSearchWithPriors.benchmark=pymoo-dtlz1.objectives=value3,value1.TrialBudget=10.priors=value3_random.seed=2811363265\n",
      "INFO:hposuite.run:Results dumped at /home/soham/repos/hposuite/examples/example-outputs/hposuite-ex-multiprior-priors/optimizer=RandomSearchWithPriors.benchmark=pymoo-dtlz1.objectives=value3,value1.TrialBudget=10.priors=value3_random.seed=2811363265/optimizer=RandomSearchWithPriors.benchmark=pymoo-dtlz1.objectives=value3,value1.TrialBudget=10.priors=value3_random.seed=2811363265.parquet\n",
      "INFO:hposuite.study:Completed study with 9 runs\n"
     ]
    }
   ],
   "source": [
    "from hposuite import create_study\n",
    "\n",
    "study = create_study(\n",
    "    name=\"hposuite-ex-multiprior-priors\",\n",
    "    output_dir=\"example-outputs\",\n",
    "    optimizers=rsp,\n",
    "    benchmarks=[\n",
    "        (\n",
    "            dtlz1, {\n",
    "                \"objectives\": [\"value1\", \"value2\"],\n",
    "                \"priors\": (\n",
    "                    \"value1_random\",\n",
    "                    {\n",
    "                        \"value1\": dtlz1_priors[\"value1\"]\n",
    "                    }\n",
    "                )\n",
    "            }\n",
    "        ),\n",
    "        (\n",
    "            dtlz1, {\n",
    "                \"objectives\": [\"value2\", \"value3\"],\n",
    "                \"priors\": (\n",
    "                    \"value2_random\",\n",
    "                    {\n",
    "                        \"value2\": dtlz1_priors[\"value2\"]\n",
    "                    }\n",
    "                )\n",
    "            }\n",
    "        ),\n",
    "        (\n",
    "            dtlz1, {\n",
    "                \"objectives\": [\"value3\", \"value1\"],\n",
    "                \"priors\": (\n",
    "                    \"value3_random\",\n",
    "                    {\n",
    "                        \"value3\": dtlz1_priors[\"value3\"]\n",
    "                    }\n",
    "                )\n",
    "            }\n",
    "        ),\n",
    "    ],\n",
    "    num_seeds=3,\n",
    "    budget=10,\n",
    "    on_error=\"raise\",\n",
    ")\n",
    "\n",
    "study.optimize(overwrite=True)"
   ]
  }
 ],
 "metadata": {
  "kernelspec": {
   "display_name": "hposuite_env",
   "language": "python",
   "name": "hposuite_env"
  },
  "language_info": {
   "codemirror_mode": {
    "name": "ipython",
    "version": 3
   },
   "file_extension": ".py",
   "mimetype": "text/x-python",
   "name": "python",
   "nbconvert_exporter": "python",
   "pygments_lexer": "ipython3",
   "version": "3.10.12"
  }
 },
 "nbformat": 4,
 "nbformat_minor": 2
}
