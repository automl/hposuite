{
 "cells": [
  {
   "cell_type": "markdown",
   "metadata": {},
   "source": [
    "# hposuite additional usage examples"
   ]
  },
  {
   "cell_type": "code",
   "execution_count": 2,
   "metadata": {},
   "outputs": [
    {
     "name": "stdout",
     "output_type": "stream",
     "text": [
      "dict_keys(['yahpo-lcbench-3945', 'yahpo-lcbench-7593', 'yahpo-lcbench-34539', 'yahpo-lcbench-126025', 'yahpo-lcbench-126026', 'yahpo-lcbench-126029', 'yahpo-lcbench-146212', 'yahpo-lcbench-167104', 'yahpo-lcbench-167149', 'yahpo-lcbench-167152', 'yahpo-lcbench-167161', 'yahpo-lcbench-167168', 'yahpo-lcbench-167181', 'yahpo-lcbench-167184', 'yahpo-lcbench-167185', 'yahpo-lcbench-167190', 'yahpo-lcbench-167200', 'yahpo-lcbench-167201', 'yahpo-lcbench-168329', 'yahpo-lcbench-168330', 'yahpo-lcbench-168331', 'yahpo-lcbench-168335', 'yahpo-lcbench-168868', 'yahpo-lcbench-168908', 'yahpo-lcbench-168910', 'yahpo-lcbench-189354', 'yahpo-lcbench-189862', 'yahpo-lcbench-189865', 'yahpo-lcbench-189866', 'yahpo-lcbench-189873', 'yahpo-lcbench-189905', 'yahpo-lcbench-189906', 'yahpo-lcbench-189908', 'yahpo-lcbench-189909', 'mfh3_bad', 'mfh6_bad', 'mfh3_good', 'mfh6_good', 'mfh3_moderate', 'mfh6_moderate', 'mfh3_terrible', 'mfh6_terrible', 'pd1-cifar100-wide_resnet-2048', 'pd1-imagenet-resnet-512', 'pd1-lm1b-transformer-2048', 'pd1-translate_wmt-xformer_translate-64', 'pymoo-ackley', 'pymoo-griewank', 'pymoo-himmelblau', 'pymoo-rastrigin', 'pymoo-rosenbrock', 'pymoo-schwefel', 'pymoo-sphere', 'pymoo-zakharov', 'pymoo-kursawe', 'pymoo-zdt1', 'pymoo-zdt2', 'pymoo-zdt3', 'pymoo-zdt4', 'pymoo-zdt5', 'pymoo-zdt6', 'pymoo-omnitest', 'pymoo-sympart', 'pymoo-sympart_rotated', 'pymoo-dtlz1', 'pymoo-dtlz2', 'pymoo-dtlz3', 'pymoo-dtlz4', 'pymoo-dtlz5', 'pymoo-dtlz6', 'pymoo-dtlz7', 'ackley', 'branin'])\n",
      "dict_keys(['RandomSearch', 'RandomSearchWithPriors', 'DEHB', 'Nevergrad', 'SMAC_BO', 'SMAC_Hyperband', 'SyneTune_BO', 'SyneTune_BOHB', 'Scikit_Optimize', 'Optuna'])\n"
     ]
    }
   ],
   "source": [
    "# It is assumed that the datadir is hposuite/data\n",
    "\n",
    "from hposuite.benchmarks import BENCHMARKS\n",
    "from hposuite.optimizers import OPTIMIZERS\n",
    "\n",
    "print(BENCHMARKS.keys())\n",
    "print(OPTIMIZERS.keys())"
   ]
  },
  {
   "cell_type": "markdown",
   "metadata": {},
   "source": [
    "## Running multiple different optimizers on multiple different benchmarks"
   ]
  },
  {
   "cell_type": "markdown",
   "metadata": {},
   "source": [
    "The following example runs RandomSearch and SMAC Blackbox Facade on Ackley Functional Benchmark and MF Hartmann 3D Synthetic Benchmark"
   ]
  },
  {
   "cell_type": "code",
   "execution_count": 3,
   "metadata": {},
   "outputs": [
    {
     "name": "stderr",
     "output_type": "stream",
     "text": [
      "INFO:hposuite.study:Generated 12 runs\n",
      "INFO:hposuite.study:Created study at /home/soham/repos/hposuite/examples/example-outputs/hposuite-2opts-2benchs\n",
      "INFO:hposuite.study:Dumped experiments to /home/soham/repos/hposuite/examples/example-outputs/hposuite-2opts-2benchs/dump_all.txt\n",
      "INFO:hposuite.study:Overwrite flag is set to True. Existing results will be overwritten!\n",
      "INFO:hposuite.study:Running 12 experiments sequentially\n",
      "INFO:hposuite.study:Running experiment 1/12\n",
      "INFO:hposuite.run:Overwriting optimizer=RandomSearch.benchmark=ackley.objectives=y.TrialBudget=10.seed=383329928 in `state=<State.PENDING: 'PENDING'>` at /home/soham/repos/hposuite/examples/example-outputs/hposuite-2opts-2benchs/optimizer=RandomSearch.benchmark=ackley.objectives=y.TrialBudget=10.seed=383329928.\n",
      "WARNING:hposuite.run:Continuations are not supported for the optimizer: <class 'hposuite.optimizers.random_search.RandomSearch'>. Ignoring continuations=True.\n",
      "INFO:hpoglue._run:COMPLETED running optimizer=RandomSearch.benchmark=ackley.objectives=y.TrialBudget=10.seed=383329928\n",
      "INFO:hposuite.run:Results dumped at /home/soham/repos/hposuite/examples/example-outputs/hposuite-2opts-2benchs/optimizer=RandomSearch.benchmark=ackley.objectives=y.TrialBudget=10.seed=383329928/optimizer=RandomSearch.benchmark=ackley.objectives=y.TrialBudget=10.seed=383329928.parquet\n",
      "INFO:hposuite.study:Running experiment 2/12\n",
      "INFO:hposuite.run:Overwriting optimizer=RandomSearch.benchmark=ackley.objectives=y.TrialBudget=10.seed=3324115917 in `state=<State.PENDING: 'PENDING'>` at /home/soham/repos/hposuite/examples/example-outputs/hposuite-2opts-2benchs/optimizer=RandomSearch.benchmark=ackley.objectives=y.TrialBudget=10.seed=3324115917.\n",
      "WARNING:hposuite.run:Continuations are not supported for the optimizer: <class 'hposuite.optimizers.random_search.RandomSearch'>. Ignoring continuations=True.\n",
      "INFO:hpoglue._run:COMPLETED running optimizer=RandomSearch.benchmark=ackley.objectives=y.TrialBudget=10.seed=3324115917\n",
      "INFO:hposuite.run:Results dumped at /home/soham/repos/hposuite/examples/example-outputs/hposuite-2opts-2benchs/optimizer=RandomSearch.benchmark=ackley.objectives=y.TrialBudget=10.seed=3324115917/optimizer=RandomSearch.benchmark=ackley.objectives=y.TrialBudget=10.seed=3324115917.parquet\n",
      "INFO:hposuite.study:Running experiment 3/12\n",
      "INFO:hposuite.run:Overwriting optimizer=RandomSearch.benchmark=ackley.objectives=y.TrialBudget=10.seed=2811363265 in `state=<State.PENDING: 'PENDING'>` at /home/soham/repos/hposuite/examples/example-outputs/hposuite-2opts-2benchs/optimizer=RandomSearch.benchmark=ackley.objectives=y.TrialBudget=10.seed=2811363265.\n",
      "WARNING:hposuite.run:Continuations are not supported for the optimizer: <class 'hposuite.optimizers.random_search.RandomSearch'>. Ignoring continuations=True.\n",
      "INFO:hpoglue._run:COMPLETED running optimizer=RandomSearch.benchmark=ackley.objectives=y.TrialBudget=10.seed=2811363265\n",
      "INFO:hposuite.run:Results dumped at /home/soham/repos/hposuite/examples/example-outputs/hposuite-2opts-2benchs/optimizer=RandomSearch.benchmark=ackley.objectives=y.TrialBudget=10.seed=2811363265/optimizer=RandomSearch.benchmark=ackley.objectives=y.TrialBudget=10.seed=2811363265.parquet\n",
      "INFO:hposuite.study:Running experiment 4/12\n",
      "INFO:hposuite.run:Overwriting optimizer=RandomSearch.benchmark=mfh3_good.objectives=value.TrialBudget=10.seed=383329928 in `state=<State.PENDING: 'PENDING'>` at /home/soham/repos/hposuite/examples/example-outputs/hposuite-2opts-2benchs/optimizer=RandomSearch.benchmark=mfh3_good.objectives=value.TrialBudget=10.seed=383329928.\n",
      "WARNING:hposuite.run:Continuations are not supported for the optimizer: <class 'hposuite.optimizers.random_search.RandomSearch'>. Ignoring continuations=True.\n",
      "INFO:hpoglue._run:COMPLETED running optimizer=RandomSearch.benchmark=mfh3_good.objectives=value.TrialBudget=10.seed=383329928\n",
      "INFO:hposuite.run:Results dumped at /home/soham/repos/hposuite/examples/example-outputs/hposuite-2opts-2benchs/optimizer=RandomSearch.benchmark=mfh3_good.objectives=value.TrialBudget=10.seed=383329928/optimizer=RandomSearch.benchmark=mfh3_good.objectives=value.TrialBudget=10.seed=383329928.parquet\n",
      "INFO:hposuite.study:Running experiment 5/12\n",
      "INFO:hposuite.run:Overwriting optimizer=RandomSearch.benchmark=mfh3_good.objectives=value.TrialBudget=10.seed=3324115917 in `state=<State.PENDING: 'PENDING'>` at /home/soham/repos/hposuite/examples/example-outputs/hposuite-2opts-2benchs/optimizer=RandomSearch.benchmark=mfh3_good.objectives=value.TrialBudget=10.seed=3324115917.\n",
      "WARNING:hposuite.run:Continuations are not supported for the optimizer: <class 'hposuite.optimizers.random_search.RandomSearch'>. Ignoring continuations=True.\n",
      "INFO:hpoglue._run:COMPLETED running optimizer=RandomSearch.benchmark=mfh3_good.objectives=value.TrialBudget=10.seed=3324115917\n",
      "INFO:hposuite.run:Results dumped at /home/soham/repos/hposuite/examples/example-outputs/hposuite-2opts-2benchs/optimizer=RandomSearch.benchmark=mfh3_good.objectives=value.TrialBudget=10.seed=3324115917/optimizer=RandomSearch.benchmark=mfh3_good.objectives=value.TrialBudget=10.seed=3324115917.parquet\n",
      "INFO:hposuite.study:Running experiment 6/12\n",
      "INFO:hposuite.run:Overwriting optimizer=RandomSearch.benchmark=mfh3_good.objectives=value.TrialBudget=10.seed=2811363265 in `state=<State.PENDING: 'PENDING'>` at /home/soham/repos/hposuite/examples/example-outputs/hposuite-2opts-2benchs/optimizer=RandomSearch.benchmark=mfh3_good.objectives=value.TrialBudget=10.seed=2811363265.\n",
      "WARNING:hposuite.run:Continuations are not supported for the optimizer: <class 'hposuite.optimizers.random_search.RandomSearch'>. Ignoring continuations=True.\n",
      "INFO:hpoglue._run:COMPLETED running optimizer=RandomSearch.benchmark=mfh3_good.objectives=value.TrialBudget=10.seed=2811363265\n",
      "INFO:hposuite.run:Results dumped at /home/soham/repos/hposuite/examples/example-outputs/hposuite-2opts-2benchs/optimizer=RandomSearch.benchmark=mfh3_good.objectives=value.TrialBudget=10.seed=2811363265/optimizer=RandomSearch.benchmark=mfh3_good.objectives=value.TrialBudget=10.seed=2811363265.parquet\n",
      "INFO:hposuite.study:Running experiment 7/12\n",
      "INFO:hposuite.run:Overwriting optimizer=SMAC_BO.benchmark=ackley.objectives=y.TrialBudget=10.seed=383329928 in `state=<State.PENDING: 'PENDING'>` at /home/soham/repos/hposuite/examples/example-outputs/hposuite-2opts-2benchs/optimizer=SMAC_BO.benchmark=ackley.objectives=y.TrialBudget=10.seed=383329928.\n",
      "WARNING:hposuite.run:Continuations are not supported for the optimizer: <class 'hposuite.optimizers.smac.SMAC_BO'>. Ignoring continuations=True.\n",
      "INFO:hpoglue._run:COMPLETED running optimizer=SMAC_BO.benchmark=ackley.objectives=y.TrialBudget=10.seed=383329928\n",
      "INFO:hposuite.run:Results dumped at /home/soham/repos/hposuite/examples/example-outputs/hposuite-2opts-2benchs/optimizer=SMAC_BO.benchmark=ackley.objectives=y.TrialBudget=10.seed=383329928/optimizer=SMAC_BO.benchmark=ackley.objectives=y.TrialBudget=10.seed=383329928.parquet\n",
      "INFO:hposuite.study:Running experiment 8/12\n",
      "INFO:hposuite.run:Overwriting optimizer=SMAC_BO.benchmark=ackley.objectives=y.TrialBudget=10.seed=3324115917 in `state=<State.PENDING: 'PENDING'>` at /home/soham/repos/hposuite/examples/example-outputs/hposuite-2opts-2benchs/optimizer=SMAC_BO.benchmark=ackley.objectives=y.TrialBudget=10.seed=3324115917.\n",
      "WARNING:hposuite.run:Continuations are not supported for the optimizer: <class 'hposuite.optimizers.smac.SMAC_BO'>. Ignoring continuations=True.\n",
      "INFO:hpoglue._run:COMPLETED running optimizer=SMAC_BO.benchmark=ackley.objectives=y.TrialBudget=10.seed=3324115917\n",
      "INFO:hposuite.run:Results dumped at /home/soham/repos/hposuite/examples/example-outputs/hposuite-2opts-2benchs/optimizer=SMAC_BO.benchmark=ackley.objectives=y.TrialBudget=10.seed=3324115917/optimizer=SMAC_BO.benchmark=ackley.objectives=y.TrialBudget=10.seed=3324115917.parquet\n",
      "INFO:hposuite.study:Running experiment 9/12\n",
      "INFO:hposuite.run:Overwriting optimizer=SMAC_BO.benchmark=ackley.objectives=y.TrialBudget=10.seed=2811363265 in `state=<State.PENDING: 'PENDING'>` at /home/soham/repos/hposuite/examples/example-outputs/hposuite-2opts-2benchs/optimizer=SMAC_BO.benchmark=ackley.objectives=y.TrialBudget=10.seed=2811363265.\n",
      "WARNING:hposuite.run:Continuations are not supported for the optimizer: <class 'hposuite.optimizers.smac.SMAC_BO'>. Ignoring continuations=True.\n",
      "INFO:hpoglue._run:COMPLETED running optimizer=SMAC_BO.benchmark=ackley.objectives=y.TrialBudget=10.seed=2811363265\n",
      "INFO:hposuite.run:Results dumped at /home/soham/repos/hposuite/examples/example-outputs/hposuite-2opts-2benchs/optimizer=SMAC_BO.benchmark=ackley.objectives=y.TrialBudget=10.seed=2811363265/optimizer=SMAC_BO.benchmark=ackley.objectives=y.TrialBudget=10.seed=2811363265.parquet\n",
      "INFO:hposuite.study:Running experiment 10/12\n",
      "INFO:hposuite.run:Overwriting optimizer=SMAC_BO.benchmark=mfh3_good.objectives=value.TrialBudget=10.seed=383329928 in `state=<State.PENDING: 'PENDING'>` at /home/soham/repos/hposuite/examples/example-outputs/hposuite-2opts-2benchs/optimizer=SMAC_BO.benchmark=mfh3_good.objectives=value.TrialBudget=10.seed=383329928.\n",
      "WARNING:hposuite.run:Continuations are not supported for the optimizer: <class 'hposuite.optimizers.smac.SMAC_BO'>. Ignoring continuations=True.\n",
      "INFO:hpoglue._run:COMPLETED running optimizer=SMAC_BO.benchmark=mfh3_good.objectives=value.TrialBudget=10.seed=383329928\n",
      "INFO:hposuite.run:Results dumped at /home/soham/repos/hposuite/examples/example-outputs/hposuite-2opts-2benchs/optimizer=SMAC_BO.benchmark=mfh3_good.objectives=value.TrialBudget=10.seed=383329928/optimizer=SMAC_BO.benchmark=mfh3_good.objectives=value.TrialBudget=10.seed=383329928.parquet\n",
      "INFO:hposuite.study:Running experiment 11/12\n",
      "INFO:hposuite.run:Overwriting optimizer=SMAC_BO.benchmark=mfh3_good.objectives=value.TrialBudget=10.seed=3324115917 in `state=<State.PENDING: 'PENDING'>` at /home/soham/repos/hposuite/examples/example-outputs/hposuite-2opts-2benchs/optimizer=SMAC_BO.benchmark=mfh3_good.objectives=value.TrialBudget=10.seed=3324115917.\n",
      "WARNING:hposuite.run:Continuations are not supported for the optimizer: <class 'hposuite.optimizers.smac.SMAC_BO'>. Ignoring continuations=True.\n",
      "INFO:hpoglue._run:COMPLETED running optimizer=SMAC_BO.benchmark=mfh3_good.objectives=value.TrialBudget=10.seed=3324115917\n",
      "INFO:hposuite.run:Results dumped at /home/soham/repos/hposuite/examples/example-outputs/hposuite-2opts-2benchs/optimizer=SMAC_BO.benchmark=mfh3_good.objectives=value.TrialBudget=10.seed=3324115917/optimizer=SMAC_BO.benchmark=mfh3_good.objectives=value.TrialBudget=10.seed=3324115917.parquet\n",
      "INFO:hposuite.study:Running experiment 12/12\n",
      "INFO:hposuite.run:Overwriting optimizer=SMAC_BO.benchmark=mfh3_good.objectives=value.TrialBudget=10.seed=2811363265 in `state=<State.PENDING: 'PENDING'>` at /home/soham/repos/hposuite/examples/example-outputs/hposuite-2opts-2benchs/optimizer=SMAC_BO.benchmark=mfh3_good.objectives=value.TrialBudget=10.seed=2811363265.\n",
      "WARNING:hposuite.run:Continuations are not supported for the optimizer: <class 'hposuite.optimizers.smac.SMAC_BO'>. Ignoring continuations=True.\n",
      "INFO:hpoglue._run:COMPLETED running optimizer=SMAC_BO.benchmark=mfh3_good.objectives=value.TrialBudget=10.seed=2811363265\n",
      "INFO:hposuite.run:Results dumped at /home/soham/repos/hposuite/examples/example-outputs/hposuite-2opts-2benchs/optimizer=SMAC_BO.benchmark=mfh3_good.objectives=value.TrialBudget=10.seed=2811363265/optimizer=SMAC_BO.benchmark=mfh3_good.objectives=value.TrialBudget=10.seed=2811363265.parquet\n",
      "INFO:hposuite.study:Completed study with 12 runs\n"
     ]
    }
   ],
   "source": [
    "rs = OPTIMIZERS[\"RandomSearch\"]\n",
    "bb = OPTIMIZERS[\"SMAC_BO\"]\n",
    "\n",
    "ackley = BENCHMARKS[\"ackley\"]\n",
    "mfh3g = BENCHMARKS[\"mfh3_good\"]\n",
    "\n",
    "from hposuite import create_study\n",
    "\n",
    "study = create_study(\n",
    "    name=\"hposuite-2opts-2benchs\",\n",
    "    output_dir=\"example-outputs\",\n",
    "    optimizers=[rs, bb],\n",
    "    benchmarks=[ackley, mfh3g],\n",
    "    num_seeds=3,\n",
    "    budget=10,\n",
    ")\n",
    "\n",
    "study.optimize(overwrite=True)"
   ]
  },
  {
   "cell_type": "markdown",
   "metadata": {},
   "source": [
    "## Running the same optimizer with different hyperparameters"
   ]
  },
  {
   "cell_type": "markdown",
   "metadata": {},
   "source": [
    "In this example we use SMAC_Hyperband with eta=2 and eta=3 and run it on MF Hartmann 6D Benchmark"
   ]
  },
  {
   "cell_type": "code",
   "execution_count": 4,
   "metadata": {},
   "outputs": [
    {
     "name": "stderr",
     "output_type": "stream",
     "text": [
      "INFO:hposuite.study:Generated 6 runs\n",
      "INFO:hposuite.study:Created study at /home/soham/repos/hposuite/examples/example-outputs/hposuite-1opt-2hps\n",
      "INFO:hposuite.study:Dumped experiments to /home/soham/repos/hposuite/examples/example-outputs/hposuite-1opt-2hps/dump_all.txt\n",
      "INFO:hposuite.study:Overwrite flag is set to True. Existing results will be overwritten!\n",
      "INFO:hposuite.study:Running 6 experiments sequentially\n",
      "INFO:hposuite.study:Running experiment 1/6\n",
      "INFO:hposuite.run:Overwriting optimizer=SMAC_Hyperband.eta=2.benchmark=mfh6_bad.objectives=value.TrialBudget=10.seed=383329928 in `state=<State.PENDING: 'PENDING'>` at /home/soham/repos/hposuite/examples/example-outputs/hposuite-1opt-2hps/optimizer=SMAC_Hyperband.eta=2.benchmark=mfh6_bad.objectives=value.TrialBudget=10.seed=383329928.\n",
      "INFO:hpoglue._run:COMPLETED running optimizer=SMAC_Hyperband.eta=2.benchmark=mfh6_bad.objectives=value.TrialBudget=10.seed=383329928\n",
      "INFO:hposuite.run:Results dumped at /home/soham/repos/hposuite/examples/example-outputs/hposuite-1opt-2hps/optimizer=SMAC_Hyperband.eta=2.benchmark=mfh6_bad.objectives=value.TrialBudget=10.seed=383329928/optimizer=SMAC_Hyperband.eta=2.benchmark=mfh6_bad.objectives=value.TrialBudget=10.seed=383329928.parquet\n",
      "INFO:hposuite.study:Running experiment 2/6\n",
      "INFO:hposuite.run:Overwriting optimizer=SMAC_Hyperband.eta=2.benchmark=mfh6_bad.objectives=value.TrialBudget=10.seed=3324115917 in `state=<State.PENDING: 'PENDING'>` at /home/soham/repos/hposuite/examples/example-outputs/hposuite-1opt-2hps/optimizer=SMAC_Hyperband.eta=2.benchmark=mfh6_bad.objectives=value.TrialBudget=10.seed=3324115917.\n",
      "INFO:hpoglue._run:COMPLETED running optimizer=SMAC_Hyperband.eta=2.benchmark=mfh6_bad.objectives=value.TrialBudget=10.seed=3324115917\n",
      "INFO:hposuite.run:Results dumped at /home/soham/repos/hposuite/examples/example-outputs/hposuite-1opt-2hps/optimizer=SMAC_Hyperband.eta=2.benchmark=mfh6_bad.objectives=value.TrialBudget=10.seed=3324115917/optimizer=SMAC_Hyperband.eta=2.benchmark=mfh6_bad.objectives=value.TrialBudget=10.seed=3324115917.parquet\n",
      "INFO:hposuite.study:Running experiment 3/6\n",
      "INFO:hposuite.run:Overwriting optimizer=SMAC_Hyperband.eta=2.benchmark=mfh6_bad.objectives=value.TrialBudget=10.seed=2811363265 in `state=<State.PENDING: 'PENDING'>` at /home/soham/repos/hposuite/examples/example-outputs/hposuite-1opt-2hps/optimizer=SMAC_Hyperband.eta=2.benchmark=mfh6_bad.objectives=value.TrialBudget=10.seed=2811363265.\n",
      "INFO:hpoglue._run:COMPLETED running optimizer=SMAC_Hyperband.eta=2.benchmark=mfh6_bad.objectives=value.TrialBudget=10.seed=2811363265\n",
      "INFO:hposuite.run:Results dumped at /home/soham/repos/hposuite/examples/example-outputs/hposuite-1opt-2hps/optimizer=SMAC_Hyperband.eta=2.benchmark=mfh6_bad.objectives=value.TrialBudget=10.seed=2811363265/optimizer=SMAC_Hyperband.eta=2.benchmark=mfh6_bad.objectives=value.TrialBudget=10.seed=2811363265.parquet\n",
      "INFO:hposuite.study:Running experiment 4/6\n",
      "INFO:hposuite.run:Overwriting optimizer=SMAC_Hyperband.eta=3.benchmark=mfh6_bad.objectives=value.TrialBudget=10.seed=383329928 in `state=<State.PENDING: 'PENDING'>` at /home/soham/repos/hposuite/examples/example-outputs/hposuite-1opt-2hps/optimizer=SMAC_Hyperband.eta=3.benchmark=mfh6_bad.objectives=value.TrialBudget=10.seed=383329928.\n",
      "INFO:hpoglue._run:COMPLETED running optimizer=SMAC_Hyperband.eta=3.benchmark=mfh6_bad.objectives=value.TrialBudget=10.seed=383329928\n",
      "INFO:hposuite.run:Results dumped at /home/soham/repos/hposuite/examples/example-outputs/hposuite-1opt-2hps/optimizer=SMAC_Hyperband.eta=3.benchmark=mfh6_bad.objectives=value.TrialBudget=10.seed=383329928/optimizer=SMAC_Hyperband.eta=3.benchmark=mfh6_bad.objectives=value.TrialBudget=10.seed=383329928.parquet\n",
      "INFO:hposuite.study:Running experiment 5/6\n",
      "INFO:hposuite.run:Overwriting optimizer=SMAC_Hyperband.eta=3.benchmark=mfh6_bad.objectives=value.TrialBudget=10.seed=3324115917 in `state=<State.PENDING: 'PENDING'>` at /home/soham/repos/hposuite/examples/example-outputs/hposuite-1opt-2hps/optimizer=SMAC_Hyperband.eta=3.benchmark=mfh6_bad.objectives=value.TrialBudget=10.seed=3324115917.\n",
      "INFO:hpoglue._run:COMPLETED running optimizer=SMAC_Hyperband.eta=3.benchmark=mfh6_bad.objectives=value.TrialBudget=10.seed=3324115917\n",
      "INFO:hposuite.run:Results dumped at /home/soham/repos/hposuite/examples/example-outputs/hposuite-1opt-2hps/optimizer=SMAC_Hyperband.eta=3.benchmark=mfh6_bad.objectives=value.TrialBudget=10.seed=3324115917/optimizer=SMAC_Hyperband.eta=3.benchmark=mfh6_bad.objectives=value.TrialBudget=10.seed=3324115917.parquet\n",
      "INFO:hposuite.study:Running experiment 6/6\n",
      "INFO:hposuite.run:Overwriting optimizer=SMAC_Hyperband.eta=3.benchmark=mfh6_bad.objectives=value.TrialBudget=10.seed=2811363265 in `state=<State.PENDING: 'PENDING'>` at /home/soham/repos/hposuite/examples/example-outputs/hposuite-1opt-2hps/optimizer=SMAC_Hyperband.eta=3.benchmark=mfh6_bad.objectives=value.TrialBudget=10.seed=2811363265.\n",
      "INFO:hpoglue._run:COMPLETED running optimizer=SMAC_Hyperband.eta=3.benchmark=mfh6_bad.objectives=value.TrialBudget=10.seed=2811363265\n",
      "INFO:hposuite.run:Results dumped at /home/soham/repos/hposuite/examples/example-outputs/hposuite-1opt-2hps/optimizer=SMAC_Hyperband.eta=3.benchmark=mfh6_bad.objectives=value.TrialBudget=10.seed=2811363265/optimizer=SMAC_Hyperband.eta=3.benchmark=mfh6_bad.objectives=value.TrialBudget=10.seed=2811363265.parquet\n",
      "INFO:hposuite.study:Completed study with 6 runs\n"
     ]
    }
   ],
   "source": [
    "mf_hb_2 = (\n",
    "    OPTIMIZERS[\"SMAC_Hyperband\"],\n",
    "    {\"eta\": 2}\n",
    ")\n",
    "mf_hb_3 = (\n",
    "    OPTIMIZERS[\"SMAC_Hyperband\"],\n",
    "    {\"eta\": 3}\n",
    ")\n",
    "\n",
    "from hposuite import create_study\n",
    "\n",
    "study = create_study(\n",
    "    name=\"hposuite-1opt-2hps\",\n",
    "    output_dir=\"example-outputs\",\n",
    "    optimizers=[mf_hb_2, mf_hb_3],\n",
    "    benchmarks=\"mfh6_bad\",  # Benchmarks can also be specified as string names\n",
    "    num_seeds=3,\n",
    "    budget=10,\n",
    ")\n",
    "\n",
    "study.optimize(overwrite=True)"
   ]
  },
  {
   "cell_type": "markdown",
   "metadata": {},
   "source": [
    "## Running a single-objective Optimizer on the same Benchmark for different objectives in the same study"
   ]
  },
  {
   "cell_type": "markdown",
   "metadata": {},
   "source": [
    "For this example we select the Pymoo Kursawe Benchmark. \\\n",
    "Listing below the objectives (metrics and costs) available in the benchmark"
   ]
  },
  {
   "cell_type": "code",
   "execution_count": 5,
   "metadata": {},
   "outputs": [
    {
     "name": "stdout",
     "output_type": "stream",
     "text": [
      "dict_keys(['value1', 'value2'])\n"
     ]
    }
   ],
   "source": [
    "kursawe = BENCHMARKS[\"pymoo-kursawe\"]\n",
    "print(kursawe.metrics.keys())"
   ]
  },
  {
   "cell_type": "markdown",
   "metadata": {},
   "source": [
    "Running RandomSearch on the Benchmark with one objective at a time in a single study"
   ]
  },
  {
   "cell_type": "code",
   "execution_count": 6,
   "metadata": {},
   "outputs": [
    {
     "name": "stderr",
     "output_type": "stream",
     "text": [
      "INFO:hposuite.study:Generated 6 runs\n",
      "INFO:hposuite.study:Created study at /home/soham/repos/hposuite/examples/example-outputs/hposuite-1opt-1bench-2objs\n",
      "INFO:hposuite.study:Dumped experiments to /home/soham/repos/hposuite/examples/example-outputs/hposuite-1opt-1bench-2objs/dump_all.txt\n",
      "INFO:hposuite.study:Overwrite flag is set to True. Existing results will be overwritten!\n",
      "INFO:hposuite.study:Running 6 experiments sequentially\n",
      "INFO:hposuite.study:Running experiment 1/6\n",
      "INFO:hposuite.run:Overwriting optimizer=RandomSearch.benchmark=pymoo-kursawe.objectives=value1.TrialBudget=10.seed=383329928 in `state=<State.PENDING: 'PENDING'>` at /home/soham/repos/hposuite/examples/example-outputs/hposuite-1opt-1bench-2objs/optimizer=RandomSearch.benchmark=pymoo-kursawe.objectives=value1.TrialBudget=10.seed=383329928.\n",
      "WARNING:hposuite.run:Continuations are not supported for the optimizer: <class 'hposuite.optimizers.random_search.RandomSearch'>. Ignoring continuations=True.\n",
      "INFO:hpoglue._run:COMPLETED running optimizer=RandomSearch.benchmark=pymoo-kursawe.objectives=value1.TrialBudget=10.seed=383329928\n",
      "INFO:hposuite.run:Results dumped at /home/soham/repos/hposuite/examples/example-outputs/hposuite-1opt-1bench-2objs/optimizer=RandomSearch.benchmark=pymoo-kursawe.objectives=value1.TrialBudget=10.seed=383329928/optimizer=RandomSearch.benchmark=pymoo-kursawe.objectives=value1.TrialBudget=10.seed=383329928.parquet\n",
      "INFO:hposuite.study:Running experiment 2/6\n",
      "INFO:hposuite.run:Overwriting optimizer=RandomSearch.benchmark=pymoo-kursawe.objectives=value1.TrialBudget=10.seed=3324115917 in `state=<State.PENDING: 'PENDING'>` at /home/soham/repos/hposuite/examples/example-outputs/hposuite-1opt-1bench-2objs/optimizer=RandomSearch.benchmark=pymoo-kursawe.objectives=value1.TrialBudget=10.seed=3324115917.\n",
      "WARNING:hposuite.run:Continuations are not supported for the optimizer: <class 'hposuite.optimizers.random_search.RandomSearch'>. Ignoring continuations=True.\n",
      "INFO:hpoglue._run:COMPLETED running optimizer=RandomSearch.benchmark=pymoo-kursawe.objectives=value1.TrialBudget=10.seed=3324115917\n",
      "INFO:hposuite.run:Results dumped at /home/soham/repos/hposuite/examples/example-outputs/hposuite-1opt-1bench-2objs/optimizer=RandomSearch.benchmark=pymoo-kursawe.objectives=value1.TrialBudget=10.seed=3324115917/optimizer=RandomSearch.benchmark=pymoo-kursawe.objectives=value1.TrialBudget=10.seed=3324115917.parquet\n",
      "INFO:hposuite.study:Running experiment 3/6\n",
      "INFO:hposuite.run:Overwriting optimizer=RandomSearch.benchmark=pymoo-kursawe.objectives=value1.TrialBudget=10.seed=2811363265 in `state=<State.PENDING: 'PENDING'>` at /home/soham/repos/hposuite/examples/example-outputs/hposuite-1opt-1bench-2objs/optimizer=RandomSearch.benchmark=pymoo-kursawe.objectives=value1.TrialBudget=10.seed=2811363265.\n",
      "WARNING:hposuite.run:Continuations are not supported for the optimizer: <class 'hposuite.optimizers.random_search.RandomSearch'>. Ignoring continuations=True.\n",
      "INFO:hpoglue._run:COMPLETED running optimizer=RandomSearch.benchmark=pymoo-kursawe.objectives=value1.TrialBudget=10.seed=2811363265\n",
      "INFO:hposuite.run:Results dumped at /home/soham/repos/hposuite/examples/example-outputs/hposuite-1opt-1bench-2objs/optimizer=RandomSearch.benchmark=pymoo-kursawe.objectives=value1.TrialBudget=10.seed=2811363265/optimizer=RandomSearch.benchmark=pymoo-kursawe.objectives=value1.TrialBudget=10.seed=2811363265.parquet\n",
      "INFO:hposuite.study:Running experiment 4/6\n",
      "INFO:hposuite.run:Overwriting optimizer=RandomSearch.benchmark=pymoo-kursawe.objectives=value2.TrialBudget=10.seed=383329928 in `state=<State.PENDING: 'PENDING'>` at /home/soham/repos/hposuite/examples/example-outputs/hposuite-1opt-1bench-2objs/optimizer=RandomSearch.benchmark=pymoo-kursawe.objectives=value2.TrialBudget=10.seed=383329928.\n",
      "WARNING:hposuite.run:Continuations are not supported for the optimizer: <class 'hposuite.optimizers.random_search.RandomSearch'>. Ignoring continuations=True.\n",
      "INFO:hpoglue._run:COMPLETED running optimizer=RandomSearch.benchmark=pymoo-kursawe.objectives=value2.TrialBudget=10.seed=383329928\n",
      "INFO:hposuite.run:Results dumped at /home/soham/repos/hposuite/examples/example-outputs/hposuite-1opt-1bench-2objs/optimizer=RandomSearch.benchmark=pymoo-kursawe.objectives=value2.TrialBudget=10.seed=383329928/optimizer=RandomSearch.benchmark=pymoo-kursawe.objectives=value2.TrialBudget=10.seed=383329928.parquet\n",
      "INFO:hposuite.study:Running experiment 5/6\n",
      "INFO:hposuite.run:Overwriting optimizer=RandomSearch.benchmark=pymoo-kursawe.objectives=value2.TrialBudget=10.seed=3324115917 in `state=<State.PENDING: 'PENDING'>` at /home/soham/repos/hposuite/examples/example-outputs/hposuite-1opt-1bench-2objs/optimizer=RandomSearch.benchmark=pymoo-kursawe.objectives=value2.TrialBudget=10.seed=3324115917.\n",
      "WARNING:hposuite.run:Continuations are not supported for the optimizer: <class 'hposuite.optimizers.random_search.RandomSearch'>. Ignoring continuations=True.\n",
      "INFO:hpoglue._run:COMPLETED running optimizer=RandomSearch.benchmark=pymoo-kursawe.objectives=value2.TrialBudget=10.seed=3324115917\n",
      "INFO:hposuite.run:Results dumped at /home/soham/repos/hposuite/examples/example-outputs/hposuite-1opt-1bench-2objs/optimizer=RandomSearch.benchmark=pymoo-kursawe.objectives=value2.TrialBudget=10.seed=3324115917/optimizer=RandomSearch.benchmark=pymoo-kursawe.objectives=value2.TrialBudget=10.seed=3324115917.parquet\n",
      "INFO:hposuite.study:Running experiment 6/6\n",
      "INFO:hposuite.run:Overwriting optimizer=RandomSearch.benchmark=pymoo-kursawe.objectives=value2.TrialBudget=10.seed=2811363265 in `state=<State.PENDING: 'PENDING'>` at /home/soham/repos/hposuite/examples/example-outputs/hposuite-1opt-1bench-2objs/optimizer=RandomSearch.benchmark=pymoo-kursawe.objectives=value2.TrialBudget=10.seed=2811363265.\n",
      "WARNING:hposuite.run:Continuations are not supported for the optimizer: <class 'hposuite.optimizers.random_search.RandomSearch'>. Ignoring continuations=True.\n",
      "INFO:hpoglue._run:COMPLETED running optimizer=RandomSearch.benchmark=pymoo-kursawe.objectives=value2.TrialBudget=10.seed=2811363265\n",
      "INFO:hposuite.run:Results dumped at /home/soham/repos/hposuite/examples/example-outputs/hposuite-1opt-1bench-2objs/optimizer=RandomSearch.benchmark=pymoo-kursawe.objectives=value2.TrialBudget=10.seed=2811363265/optimizer=RandomSearch.benchmark=pymoo-kursawe.objectives=value2.TrialBudget=10.seed=2811363265.parquet\n",
      "INFO:hposuite.study:Completed study with 6 runs\n"
     ]
    }
   ],
   "source": [
    "from hposuite import create_study\n",
    "\n",
    "study = create_study(\n",
    "    name=\"hposuite-1opt-1bench-2objs\",\n",
    "    output_dir=\"example-outputs\",\n",
    "    optimizers=\"RandomSearch\",\n",
    "    benchmarks=[\n",
    "        (kursawe, {\"objectives\": \"value1\"}),\n",
    "        (kursawe, {\"objectives\": \"value2\"}),\n",
    "    ],\n",
    "    num_seeds=3,\n",
    "    budget=10,\n",
    ")\n",
    "\n",
    "study.optimize(overwrite=True)"
   ]
  },
  {
   "cell_type": "markdown",
   "metadata": {},
   "source": [
    "## Running a Multi-objective Optimizer on the same benchmark multiple times with different pairs of objectives"
   ]
  },
  {
   "cell_type": "markdown",
   "metadata": {},
   "source": [
    "It is possible to run an MO Optimizer, say Optuna-NSGA2 on an MO benchmark like Pymoo DTLZ1 taking different combinations of its objectives at a time, within the same study. \\\n",
    "Listing the available objectives for the Pymoo DTLZ1 benchmark below"
   ]
  },
  {
   "cell_type": "code",
   "execution_count": 7,
   "metadata": {},
   "outputs": [
    {
     "name": "stdout",
     "output_type": "stream",
     "text": [
      "dict_keys(['value1', 'value2', 'value3'])\n"
     ]
    }
   ],
   "source": [
    "dtlz1 = BENCHMARKS[\"pymoo-dtlz1\"]\n",
    "print(dtlz1.metrics.keys())"
   ]
  },
  {
   "cell_type": "code",
   "execution_count": 8,
   "metadata": {},
   "outputs": [
    {
     "name": "stderr",
     "output_type": "stream",
     "text": [
      "INFO:hposuite.study:Generated 6 runs\n",
      "INFO:hposuite.study:Created study at /home/soham/repos/hposuite/examples/example-outputs/hposuite-1opt-1bench-mo-mix\n",
      "INFO:hposuite.study:Dumped experiments to /home/soham/repos/hposuite/examples/example-outputs/hposuite-1opt-1bench-mo-mix/dump_all.txt\n",
      "INFO:hposuite.study:Overwrite flag is set to True. Existing results will be overwritten!\n",
      "INFO:hposuite.study:Running 6 experiments sequentially\n",
      "INFO:hposuite.study:Running experiment 1/6\n",
      "INFO:hposuite.run:Overwriting optimizer=Optuna.benchmark=pymoo-dtlz1.objectives=value1,value2.TrialBudget=10.seed=383329928 in `state=<State.PENDING: 'PENDING'>` at /home/soham/repos/hposuite/examples/example-outputs/hposuite-1opt-1bench-mo-mix/optimizer=Optuna.benchmark=pymoo-dtlz1.objectives=value1,value2.TrialBudget=10.seed=383329928.\n",
      "WARNING:hposuite.run:Continuations are not supported for the optimizer: <class 'hposuite.optimizers.optuna.OptunaOptimizer'>. Ignoring continuations=True.\n",
      "[I 2025-02-11 12:49:28,423] A new study created in memory with name: optimizer=Optuna.benchmark=pymoo-dtlz1.objectives=value1,value2.TrialBudget=10-383329928\n",
      "INFO:hpoglue._run:COMPLETED running optimizer=Optuna.benchmark=pymoo-dtlz1.objectives=value1,value2.TrialBudget=10.seed=383329928\n",
      "INFO:hposuite.run:Results dumped at /home/soham/repos/hposuite/examples/example-outputs/hposuite-1opt-1bench-mo-mix/optimizer=Optuna.benchmark=pymoo-dtlz1.objectives=value1,value2.TrialBudget=10.seed=383329928/optimizer=Optuna.benchmark=pymoo-dtlz1.objectives=value1,value2.TrialBudget=10.seed=383329928.parquet\n",
      "INFO:hposuite.study:Running experiment 2/6\n",
      "INFO:hposuite.run:Overwriting optimizer=Optuna.benchmark=pymoo-dtlz1.objectives=value1,value2.TrialBudget=10.seed=3324115917 in `state=<State.PENDING: 'PENDING'>` at /home/soham/repos/hposuite/examples/example-outputs/hposuite-1opt-1bench-mo-mix/optimizer=Optuna.benchmark=pymoo-dtlz1.objectives=value1,value2.TrialBudget=10.seed=3324115917.\n",
      "WARNING:hposuite.run:Continuations are not supported for the optimizer: <class 'hposuite.optimizers.optuna.OptunaOptimizer'>. Ignoring continuations=True.\n",
      "[I 2025-02-11 12:49:28,448] A new study created in memory with name: optimizer=Optuna.benchmark=pymoo-dtlz1.objectives=value1,value2.TrialBudget=10-3324115917\n",
      "INFO:hpoglue._run:COMPLETED running optimizer=Optuna.benchmark=pymoo-dtlz1.objectives=value1,value2.TrialBudget=10.seed=3324115917\n",
      "INFO:hposuite.run:Results dumped at /home/soham/repos/hposuite/examples/example-outputs/hposuite-1opt-1bench-mo-mix/optimizer=Optuna.benchmark=pymoo-dtlz1.objectives=value1,value2.TrialBudget=10.seed=3324115917/optimizer=Optuna.benchmark=pymoo-dtlz1.objectives=value1,value2.TrialBudget=10.seed=3324115917.parquet\n",
      "INFO:hposuite.study:Running experiment 3/6\n",
      "INFO:hposuite.run:Overwriting optimizer=Optuna.benchmark=pymoo-dtlz1.objectives=value1,value2.TrialBudget=10.seed=2811363265 in `state=<State.PENDING: 'PENDING'>` at /home/soham/repos/hposuite/examples/example-outputs/hposuite-1opt-1bench-mo-mix/optimizer=Optuna.benchmark=pymoo-dtlz1.objectives=value1,value2.TrialBudget=10.seed=2811363265.\n",
      "WARNING:hposuite.run:Continuations are not supported for the optimizer: <class 'hposuite.optimizers.optuna.OptunaOptimizer'>. Ignoring continuations=True.\n",
      "[I 2025-02-11 12:49:28,470] A new study created in memory with name: optimizer=Optuna.benchmark=pymoo-dtlz1.objectives=value1,value2.TrialBudget=10-2811363265\n",
      "INFO:hpoglue._run:COMPLETED running optimizer=Optuna.benchmark=pymoo-dtlz1.objectives=value1,value2.TrialBudget=10.seed=2811363265\n",
      "INFO:hposuite.run:Results dumped at /home/soham/repos/hposuite/examples/example-outputs/hposuite-1opt-1bench-mo-mix/optimizer=Optuna.benchmark=pymoo-dtlz1.objectives=value1,value2.TrialBudget=10.seed=2811363265/optimizer=Optuna.benchmark=pymoo-dtlz1.objectives=value1,value2.TrialBudget=10.seed=2811363265.parquet\n",
      "INFO:hposuite.study:Running experiment 4/6\n",
      "INFO:hposuite.run:Overwriting optimizer=Optuna.benchmark=pymoo-dtlz1.objectives=value3,value1.TrialBudget=10.seed=383329928 in `state=<State.PENDING: 'PENDING'>` at /home/soham/repos/hposuite/examples/example-outputs/hposuite-1opt-1bench-mo-mix/optimizer=Optuna.benchmark=pymoo-dtlz1.objectives=value3,value1.TrialBudget=10.seed=383329928.\n",
      "WARNING:hposuite.run:Continuations are not supported for the optimizer: <class 'hposuite.optimizers.optuna.OptunaOptimizer'>. Ignoring continuations=True.\n",
      "[I 2025-02-11 12:49:28,509] A new study created in memory with name: optimizer=Optuna.benchmark=pymoo-dtlz1.objectives=value3,value1.TrialBudget=10-383329928\n",
      "INFO:hpoglue._run:COMPLETED running optimizer=Optuna.benchmark=pymoo-dtlz1.objectives=value3,value1.TrialBudget=10.seed=383329928\n",
      "INFO:hposuite.run:Results dumped at /home/soham/repos/hposuite/examples/example-outputs/hposuite-1opt-1bench-mo-mix/optimizer=Optuna.benchmark=pymoo-dtlz1.objectives=value3,value1.TrialBudget=10.seed=383329928/optimizer=Optuna.benchmark=pymoo-dtlz1.objectives=value3,value1.TrialBudget=10.seed=383329928.parquet\n",
      "INFO:hposuite.study:Running experiment 5/6\n",
      "INFO:hposuite.run:Overwriting optimizer=Optuna.benchmark=pymoo-dtlz1.objectives=value3,value1.TrialBudget=10.seed=3324115917 in `state=<State.PENDING: 'PENDING'>` at /home/soham/repos/hposuite/examples/example-outputs/hposuite-1opt-1bench-mo-mix/optimizer=Optuna.benchmark=pymoo-dtlz1.objectives=value3,value1.TrialBudget=10.seed=3324115917.\n",
      "WARNING:hposuite.run:Continuations are not supported for the optimizer: <class 'hposuite.optimizers.optuna.OptunaOptimizer'>. Ignoring continuations=True.\n",
      "[I 2025-02-11 12:49:28,550] A new study created in memory with name: optimizer=Optuna.benchmark=pymoo-dtlz1.objectives=value3,value1.TrialBudget=10-3324115917\n",
      "INFO:hpoglue._run:COMPLETED running optimizer=Optuna.benchmark=pymoo-dtlz1.objectives=value3,value1.TrialBudget=10.seed=3324115917\n",
      "INFO:hposuite.run:Results dumped at /home/soham/repos/hposuite/examples/example-outputs/hposuite-1opt-1bench-mo-mix/optimizer=Optuna.benchmark=pymoo-dtlz1.objectives=value3,value1.TrialBudget=10.seed=3324115917/optimizer=Optuna.benchmark=pymoo-dtlz1.objectives=value3,value1.TrialBudget=10.seed=3324115917.parquet\n",
      "INFO:hposuite.study:Running experiment 6/6\n",
      "INFO:hposuite.run:Overwriting optimizer=Optuna.benchmark=pymoo-dtlz1.objectives=value3,value1.TrialBudget=10.seed=2811363265 in `state=<State.PENDING: 'PENDING'>` at /home/soham/repos/hposuite/examples/example-outputs/hposuite-1opt-1bench-mo-mix/optimizer=Optuna.benchmark=pymoo-dtlz1.objectives=value3,value1.TrialBudget=10.seed=2811363265.\n",
      "WARNING:hposuite.run:Continuations are not supported for the optimizer: <class 'hposuite.optimizers.optuna.OptunaOptimizer'>. Ignoring continuations=True.\n",
      "[I 2025-02-11 12:49:28,588] A new study created in memory with name: optimizer=Optuna.benchmark=pymoo-dtlz1.objectives=value3,value1.TrialBudget=10-2811363265\n",
      "INFO:hpoglue._run:COMPLETED running optimizer=Optuna.benchmark=pymoo-dtlz1.objectives=value3,value1.TrialBudget=10.seed=2811363265\n",
      "INFO:hposuite.run:Results dumped at /home/soham/repos/hposuite/examples/example-outputs/hposuite-1opt-1bench-mo-mix/optimizer=Optuna.benchmark=pymoo-dtlz1.objectives=value3,value1.TrialBudget=10.seed=2811363265/optimizer=Optuna.benchmark=pymoo-dtlz1.objectives=value3,value1.TrialBudget=10.seed=2811363265.parquet\n",
      "INFO:hposuite.study:Completed study with 6 runs\n"
     ]
    }
   ],
   "source": [
    "from hposuite import create_study\n",
    "\n",
    "study = create_study(\n",
    "    name=\"hposuite-1opt-1bench-mo-mix\",\n",
    "    output_dir=\"example-outputs\",\n",
    "    optimizers=\"Optuna\",    # Automatically selects NSGA-II for multi-objective problems\n",
    "    benchmarks=[\n",
    "        (dtlz1, {\"objectives\": [\"value1\", \"value2\"]}),\n",
    "        (dtlz1, {\"objectives\": [\"value3\", \"value1\"]}),\n",
    "    ],\n",
    "    num_seeds=3,\n",
    "    budget=10,\n",
    ")\n",
    "\n",
    "study.optimize(overwrite=True)"
   ]
  },
  {
   "cell_type": "markdown",
   "metadata": {},
   "source": [
    "## Running a Prior-based Optimizer on a Benchmark with multiple objectives, with priors on different objectives at a time."
   ]
  },
  {
   "cell_type": "markdown",
   "metadata": {},
   "source": [
    "For this example, we use RandomSearch With Priors as the Optimizer and PYMOO SymPart Problem as the benchmark. \\\n",
    "The example below demonstrates how to optimize on a benchmark with priors over one of its multiple objectives at a time, in a single study"
   ]
  },
  {
   "cell_type": "code",
   "execution_count": 9,
   "metadata": {},
   "outputs": [],
   "source": [
    "rsp = OPTIMIZERS[\"RandomSearchWithPriors\"]\n",
    "sympart = BENCHMARKS[\"pymoo-sympart\"]"
   ]
  },
  {
   "cell_type": "markdown",
   "metadata": {},
   "source": [
    "Printing the Benchmark Description of the Pymoo ZDT1 Benchmark"
   ]
  },
  {
   "cell_type": "code",
   "execution_count": 10,
   "metadata": {},
   "outputs": [
    {
     "data": {
      "text/plain": [
       "BenchmarkDescription(name='pymoo-sympart', config_space=Configuration space object:\n",
       "  Hyperparameters:\n",
       "    x0, Type: UniformFloat, Range: [-100.0, 100.0], Default: 0.0\n",
       "    x1, Type: UniformFloat, Range: [-100.0, 100.0], Default: 0.0\n",
       ", load=functools.partial(<function _get_pymoo_problems at 0x73e1dbfd5750>, function_name='sympart'), metrics={'value1': Measure(minimize=True, kind=<Kind.METRIC: 'metric'>, bounds=(-inf, inf)), 'value2': Measure(minimize=True, kind=<Kind.METRIC: 'metric'>, bounds=(-inf, inf))}, test_metrics=None, costs=None, fidelities=None, has_conditionals=False, is_tabular=False, env=Env(name='py310-pymoo-0.6.1.3'), mem_req_mb=1024, predefined_points=None, extra={})"
      ]
     },
     "execution_count": 10,
     "metadata": {},
     "output_type": "execute_result"
    }
   ],
   "source": [
    "sympart"
   ]
  },
  {
   "cell_type": "markdown",
   "metadata": {},
   "source": [
    "Running RandomSearchWithPriors on Pymoo Sympart with prior over one objective at a time"
   ]
  },
  {
   "cell_type": "code",
   "execution_count": 11,
   "metadata": {},
   "outputs": [
    {
     "name": "stderr",
     "output_type": "stream",
     "text": [
      "INFO:hposuite.study:Generated 6 runs\n",
      "INFO:hposuite.study:Created study at /home/soham/repos/hposuite/examples/example-outputs/hposuite-ex-multiprior-so\n",
      "INFO:hposuite.study:Dumped experiments to /home/soham/repos/hposuite/examples/example-outputs/hposuite-ex-multiprior-so/dump_all.txt\n",
      "INFO:hposuite.study:Overwrite flag is set to True. Existing results will be overwritten!\n",
      "INFO:hposuite.study:Running 6 experiments sequentially\n",
      "INFO:hposuite.study:Running experiment 1/6\n",
      "INFO:hposuite.run:Overwriting optimizer=RandomSearchWithPriors.benchmark=pymoo-sympart.objectives=value1.TrialBudget=10.seed=383329928 in `state=<State.PENDING: 'PENDING'>` at /home/soham/repos/hposuite/examples/example-outputs/hposuite-ex-multiprior-so/optimizer=RandomSearchWithPriors.benchmark=pymoo-sympart.objectives=value1.TrialBudget=10.seed=383329928.\n",
      "WARNING:hposuite.run:Continuations are not supported for the optimizer: <class 'hposuite.optimizers.random_search.RandomSearchWithPriors'>. Ignoring continuations=True.\n",
      "INFO:hpoglue._run:COMPLETED running optimizer=RandomSearchWithPriors.benchmark=pymoo-sympart.objectives=value1.TrialBudget=10.seed=383329928\n",
      "INFO:hposuite.run:Results dumped at /home/soham/repos/hposuite/examples/example-outputs/hposuite-ex-multiprior-so/optimizer=RandomSearchWithPriors.benchmark=pymoo-sympart.objectives=value1.TrialBudget=10.seed=383329928/optimizer=RandomSearchWithPriors.benchmark=pymoo-sympart.objectives=value1.TrialBudget=10.seed=383329928.parquet\n",
      "INFO:hposuite.study:Running experiment 2/6\n",
      "INFO:hposuite.run:Overwriting optimizer=RandomSearchWithPriors.benchmark=pymoo-sympart.objectives=value1.TrialBudget=10.seed=3324115917 in `state=<State.PENDING: 'PENDING'>` at /home/soham/repos/hposuite/examples/example-outputs/hposuite-ex-multiprior-so/optimizer=RandomSearchWithPriors.benchmark=pymoo-sympart.objectives=value1.TrialBudget=10.seed=3324115917.\n",
      "WARNING:hposuite.run:Continuations are not supported for the optimizer: <class 'hposuite.optimizers.random_search.RandomSearchWithPriors'>. Ignoring continuations=True.\n",
      "INFO:hpoglue._run:COMPLETED running optimizer=RandomSearchWithPriors.benchmark=pymoo-sympart.objectives=value1.TrialBudget=10.seed=3324115917\n",
      "INFO:hposuite.run:Results dumped at /home/soham/repos/hposuite/examples/example-outputs/hposuite-ex-multiprior-so/optimizer=RandomSearchWithPriors.benchmark=pymoo-sympart.objectives=value1.TrialBudget=10.seed=3324115917/optimizer=RandomSearchWithPriors.benchmark=pymoo-sympart.objectives=value1.TrialBudget=10.seed=3324115917.parquet\n",
      "INFO:hposuite.study:Running experiment 3/6\n",
      "INFO:hposuite.run:Overwriting optimizer=RandomSearchWithPriors.benchmark=pymoo-sympart.objectives=value1.TrialBudget=10.seed=2811363265 in `state=<State.PENDING: 'PENDING'>` at /home/soham/repos/hposuite/examples/example-outputs/hposuite-ex-multiprior-so/optimizer=RandomSearchWithPriors.benchmark=pymoo-sympart.objectives=value1.TrialBudget=10.seed=2811363265.\n",
      "WARNING:hposuite.run:Continuations are not supported for the optimizer: <class 'hposuite.optimizers.random_search.RandomSearchWithPriors'>. Ignoring continuations=True.\n",
      "INFO:hpoglue._run:COMPLETED running optimizer=RandomSearchWithPriors.benchmark=pymoo-sympart.objectives=value1.TrialBudget=10.seed=2811363265\n",
      "INFO:hposuite.run:Results dumped at /home/soham/repos/hposuite/examples/example-outputs/hposuite-ex-multiprior-so/optimizer=RandomSearchWithPriors.benchmark=pymoo-sympart.objectives=value1.TrialBudget=10.seed=2811363265/optimizer=RandomSearchWithPriors.benchmark=pymoo-sympart.objectives=value1.TrialBudget=10.seed=2811363265.parquet\n",
      "INFO:hposuite.study:Running experiment 4/6\n",
      "INFO:hposuite.run:Overwriting optimizer=RandomSearchWithPriors.benchmark=pymoo-sympart.objectives=value2.TrialBudget=10.seed=383329928 in `state=<State.PENDING: 'PENDING'>` at /home/soham/repos/hposuite/examples/example-outputs/hposuite-ex-multiprior-so/optimizer=RandomSearchWithPriors.benchmark=pymoo-sympart.objectives=value2.TrialBudget=10.seed=383329928.\n",
      "WARNING:hposuite.run:Continuations are not supported for the optimizer: <class 'hposuite.optimizers.random_search.RandomSearchWithPriors'>. Ignoring continuations=True.\n",
      "INFO:hpoglue._run:COMPLETED running optimizer=RandomSearchWithPriors.benchmark=pymoo-sympart.objectives=value2.TrialBudget=10.seed=383329928\n",
      "INFO:hposuite.run:Results dumped at /home/soham/repos/hposuite/examples/example-outputs/hposuite-ex-multiprior-so/optimizer=RandomSearchWithPriors.benchmark=pymoo-sympart.objectives=value2.TrialBudget=10.seed=383329928/optimizer=RandomSearchWithPriors.benchmark=pymoo-sympart.objectives=value2.TrialBudget=10.seed=383329928.parquet\n",
      "INFO:hposuite.study:Running experiment 5/6\n",
      "INFO:hposuite.run:Overwriting optimizer=RandomSearchWithPriors.benchmark=pymoo-sympart.objectives=value2.TrialBudget=10.seed=3324115917 in `state=<State.PENDING: 'PENDING'>` at /home/soham/repos/hposuite/examples/example-outputs/hposuite-ex-multiprior-so/optimizer=RandomSearchWithPriors.benchmark=pymoo-sympart.objectives=value2.TrialBudget=10.seed=3324115917.\n",
      "WARNING:hposuite.run:Continuations are not supported for the optimizer: <class 'hposuite.optimizers.random_search.RandomSearchWithPriors'>. Ignoring continuations=True.\n",
      "INFO:hpoglue._run:COMPLETED running optimizer=RandomSearchWithPriors.benchmark=pymoo-sympart.objectives=value2.TrialBudget=10.seed=3324115917\n",
      "INFO:hposuite.run:Results dumped at /home/soham/repos/hposuite/examples/example-outputs/hposuite-ex-multiprior-so/optimizer=RandomSearchWithPriors.benchmark=pymoo-sympart.objectives=value2.TrialBudget=10.seed=3324115917/optimizer=RandomSearchWithPriors.benchmark=pymoo-sympart.objectives=value2.TrialBudget=10.seed=3324115917.parquet\n",
      "INFO:hposuite.study:Running experiment 6/6\n",
      "INFO:hposuite.run:Overwriting optimizer=RandomSearchWithPriors.benchmark=pymoo-sympart.objectives=value2.TrialBudget=10.seed=2811363265 in `state=<State.PENDING: 'PENDING'>` at /home/soham/repos/hposuite/examples/example-outputs/hposuite-ex-multiprior-so/optimizer=RandomSearchWithPriors.benchmark=pymoo-sympart.objectives=value2.TrialBudget=10.seed=2811363265.\n",
      "WARNING:hposuite.run:Continuations are not supported for the optimizer: <class 'hposuite.optimizers.random_search.RandomSearchWithPriors'>. Ignoring continuations=True.\n",
      "INFO:hpoglue._run:COMPLETED running optimizer=RandomSearchWithPriors.benchmark=pymoo-sympart.objectives=value2.TrialBudget=10.seed=2811363265\n",
      "INFO:hposuite.run:Results dumped at /home/soham/repos/hposuite/examples/example-outputs/hposuite-ex-multiprior-so/optimizer=RandomSearchWithPriors.benchmark=pymoo-sympart.objectives=value2.TrialBudget=10.seed=2811363265/optimizer=RandomSearchWithPriors.benchmark=pymoo-sympart.objectives=value2.TrialBudget=10.seed=2811363265.parquet\n",
      "INFO:hposuite.study:Completed study with 6 runs\n"
     ]
    }
   ],
   "source": [
    "from hposuite import create_study\n",
    "\n",
    "study = create_study(\n",
    "    name=\"hposuite-ex-multiprior-so\",\n",
    "    output_dir=\"example-outputs\",\n",
    "    optimizers=rsp,\n",
    "    benchmarks=[\n",
    "        (sympart, {\n",
    "            \"objectives\": [\"value1\"],\n",
    "            \"priors\": {\n",
    "                \"value1\": {\n",
    "                    \"x0\": 50.0,\n",
    "                    \"x1\": 50.0,\n",
    "                }\n",
    "            }\n",
    "        }),\n",
    "        (sympart, {\n",
    "            \"objectives\": [\"value2\"],\n",
    "            \"priors\": {\n",
    "                \"value2\": {\n",
    "                    \"x0\": 20.0,\n",
    "                    \"x1\": 30.0,\n",
    "                }\n",
    "            }\n",
    "        }),\n",
    "    ],\n",
    "    num_seeds=3,\n",
    "    budget=10,\n",
    "    on_error=\"raise\",\n",
    ")\n",
    "\n",
    "study.optimize(overwrite=True)"
   ]
  },
  {
   "cell_type": "markdown",
   "metadata": {},
   "source": [
    "## Running a Prior-based Multi-objective Optimizer on a Multi-objective benchmark with priors over different objectives at a time"
   ]
  },
  {
   "cell_type": "markdown",
   "metadata": {},
   "source": [
    "For this example, we again use RandomSearch With Priors as the Optimizer, with the hyperparameter mo-prior-sampling set to random, which picks which objective's prior to use at every iteration randomly. \\\n",
    "The PYMOO DTLZ1 Many Objective Problem is selected as the benchmark. \\\n",
    "The example below demonstrates how to optimize for Multiple Objectives on a benchmark with priors over one of a pair of its multiple objectives at a time, in a single study"
   ]
  },
  {
   "cell_type": "code",
   "execution_count": 13,
   "metadata": {},
   "outputs": [],
   "source": [
    "rsp = OPTIMIZERS[\"RandomSearchWithPriors\"]\n",
    "dtlz1 = BENCHMARKS[\"pymoo-dtlz1\"]"
   ]
  },
  {
   "cell_type": "markdown",
   "metadata": {},
   "source": [
    "Let's display, pymoo-dtlz1's description"
   ]
  },
  {
   "cell_type": "code",
   "execution_count": 14,
   "metadata": {},
   "outputs": [
    {
     "data": {
      "text/plain": [
       "BenchmarkDescription(name='pymoo-dtlz1', config_space=Configuration space object:\n",
       "  Hyperparameters:\n",
       "    x0, Type: UniformFloat, Range: [0.0, 1.0], Default: 0.5\n",
       "    x1, Type: UniformFloat, Range: [0.0, 1.0], Default: 0.5\n",
       "    x2, Type: UniformFloat, Range: [0.0, 1.0], Default: 0.5\n",
       "    x3, Type: UniformFloat, Range: [0.0, 1.0], Default: 0.5\n",
       "    x4, Type: UniformFloat, Range: [0.0, 1.0], Default: 0.5\n",
       "    x5, Type: UniformFloat, Range: [0.0, 1.0], Default: 0.5\n",
       "    x6, Type: UniformFloat, Range: [0.0, 1.0], Default: 0.5\n",
       ", load=functools.partial(<function _get_pymoo_problems at 0x73e1dbfd5750>, function_name='dtlz1'), metrics={'value1': Measure(minimize=True, kind=<Kind.METRIC: 'metric'>, bounds=(-inf, inf)), 'value2': Measure(minimize=True, kind=<Kind.METRIC: 'metric'>, bounds=(-inf, inf)), 'value3': Measure(minimize=True, kind=<Kind.METRIC: 'metric'>, bounds=(-inf, inf))}, test_metrics=None, costs=None, fidelities=None, has_conditionals=False, is_tabular=False, env=Env(name='py310-pymoo-0.6.1.3'), mem_req_mb=1024, predefined_points=None, extra={})"
      ]
     },
     "execution_count": 14,
     "metadata": {},
     "output_type": "execute_result"
    }
   ],
   "source": [
    "dtlz1"
   ]
  },
  {
   "cell_type": "markdown",
   "metadata": {},
   "source": [
    "Generating a random prior for the pymoo-dtlz1 benchmark"
   ]
  },
  {
   "cell_type": "code",
   "execution_count": 16,
   "metadata": {},
   "outputs": [
    {
     "name": "stdout",
     "output_type": "stream",
     "text": [
      "{'value1': {'x0': 0.4715880143304316,\n",
      "            'x1': 0.7314002827364219,\n",
      "            'x2': 0.7010062782363208,\n",
      "            'x3': 0.2558541423863826,\n",
      "            'x4': 0.41017662326922855,\n",
      "            'x5': 0.6211874642188763,\n",
      "            'x6': 0.15468847780225048},\n",
      " 'value2': {'x0': 0.5739605228022497,\n",
      "            'x1': 0.9774081464746437,\n",
      "            'x2': 0.3059604343665625,\n",
      "            'x3': 0.7096531759598713,\n",
      "            'x4': 0.7287633708427959,\n",
      "            'x5': 0.16714710367965302,\n",
      "            'x6': 0.6072219198377302},\n",
      " 'value3': {'x0': 0.29989701551014836,\n",
      "            'x1': 0.9447313064842083,\n",
      "            'x2': 0.06529893672259712,\n",
      "            'x3': 0.038111949802022815,\n",
      "            'x4': 0.636953168621222,\n",
      "            'x5': 0.6112424622265508,\n",
      "            'x6': 0.49037272908314955}}\n"
     ]
    }
   ],
   "source": [
    "import numpy as np\n",
    "\n",
    "dtlz1_priors = {\n",
    "    f\"value{i}\": {\n",
    "        var.name: np.random.uniform(var.lower, var.upper) for var in list(dtlz1.config_space.values())  # noqa: NPY002\n",
    "    }\n",
    "    for i in range(1, 4)\n",
    "}\n",
    "\n",
    "from pprint import pprint\n",
    "\n",
    "pprint(dtlz1_priors)"
   ]
  },
  {
   "cell_type": "markdown",
   "metadata": {},
   "source": [
    "Running RandomSearch With Priors on DTLZ1 optimizing for two objectives and taking priors over one of the objectives at a time"
   ]
  },
  {
   "cell_type": "code",
   "execution_count": 17,
   "metadata": {},
   "outputs": [
    {
     "name": "stderr",
     "output_type": "stream",
     "text": [
      "INFO:hposuite.study:Generated 9 runs\n",
      "INFO:hposuite.study:Created study at /home/soham/repos/hposuite/examples/example-outputs/hposuite-ex-multiprior-priors\n",
      "INFO:hposuite.study:Dumped experiments to /home/soham/repos/hposuite/examples/example-outputs/hposuite-ex-multiprior-priors/dump_all.txt\n",
      "INFO:hposuite.study:Overwrite flag is set to True. Existing results will be overwritten!\n",
      "INFO:hposuite.study:Running 9 experiments sequentially\n",
      "INFO:hposuite.study:Running experiment 1/9\n",
      "INFO:hposuite.run:Overwriting optimizer=RandomSearchWithPriors.benchmark=pymoo-dtlz1.objectives=value1,value2.TrialBudget=10.seed=383329928 in `state=<State.PENDING: 'PENDING'>` at /home/soham/repos/hposuite/examples/example-outputs/hposuite-ex-multiprior-priors/optimizer=RandomSearchWithPriors.benchmark=pymoo-dtlz1.objectives=value1,value2.TrialBudget=10.seed=383329928.\n",
      "WARNING:hposuite.run:Continuations are not supported for the optimizer: <class 'hposuite.optimizers.random_search.RandomSearchWithPriors'>. Ignoring continuations=True.\n",
      "INFO:hpoglue._run:COMPLETED running optimizer=RandomSearchWithPriors.benchmark=pymoo-dtlz1.objectives=value1,value2.TrialBudget=10.seed=383329928\n",
      "INFO:hposuite.run:Results dumped at /home/soham/repos/hposuite/examples/example-outputs/hposuite-ex-multiprior-priors/optimizer=RandomSearchWithPriors.benchmark=pymoo-dtlz1.objectives=value1,value2.TrialBudget=10.seed=383329928/optimizer=RandomSearchWithPriors.benchmark=pymoo-dtlz1.objectives=value1,value2.TrialBudget=10.seed=383329928.parquet\n",
      "INFO:hposuite.study:Running experiment 2/9\n",
      "INFO:hposuite.run:Overwriting optimizer=RandomSearchWithPriors.benchmark=pymoo-dtlz1.objectives=value1,value2.TrialBudget=10.seed=3324115917 in `state=<State.PENDING: 'PENDING'>` at /home/soham/repos/hposuite/examples/example-outputs/hposuite-ex-multiprior-priors/optimizer=RandomSearchWithPriors.benchmark=pymoo-dtlz1.objectives=value1,value2.TrialBudget=10.seed=3324115917.\n",
      "WARNING:hposuite.run:Continuations are not supported for the optimizer: <class 'hposuite.optimizers.random_search.RandomSearchWithPriors'>. Ignoring continuations=True.\n",
      "INFO:hpoglue._run:COMPLETED running optimizer=RandomSearchWithPriors.benchmark=pymoo-dtlz1.objectives=value1,value2.TrialBudget=10.seed=3324115917\n",
      "INFO:hposuite.run:Results dumped at /home/soham/repos/hposuite/examples/example-outputs/hposuite-ex-multiprior-priors/optimizer=RandomSearchWithPriors.benchmark=pymoo-dtlz1.objectives=value1,value2.TrialBudget=10.seed=3324115917/optimizer=RandomSearchWithPriors.benchmark=pymoo-dtlz1.objectives=value1,value2.TrialBudget=10.seed=3324115917.parquet\n",
      "INFO:hposuite.study:Running experiment 3/9\n",
      "INFO:hposuite.run:Overwriting optimizer=RandomSearchWithPriors.benchmark=pymoo-dtlz1.objectives=value1,value2.TrialBudget=10.seed=2811363265 in `state=<State.PENDING: 'PENDING'>` at /home/soham/repos/hposuite/examples/example-outputs/hposuite-ex-multiprior-priors/optimizer=RandomSearchWithPriors.benchmark=pymoo-dtlz1.objectives=value1,value2.TrialBudget=10.seed=2811363265.\n",
      "WARNING:hposuite.run:Continuations are not supported for the optimizer: <class 'hposuite.optimizers.random_search.RandomSearchWithPriors'>. Ignoring continuations=True.\n",
      "INFO:hpoglue._run:COMPLETED running optimizer=RandomSearchWithPriors.benchmark=pymoo-dtlz1.objectives=value1,value2.TrialBudget=10.seed=2811363265\n",
      "INFO:hposuite.run:Results dumped at /home/soham/repos/hposuite/examples/example-outputs/hposuite-ex-multiprior-priors/optimizer=RandomSearchWithPriors.benchmark=pymoo-dtlz1.objectives=value1,value2.TrialBudget=10.seed=2811363265/optimizer=RandomSearchWithPriors.benchmark=pymoo-dtlz1.objectives=value1,value2.TrialBudget=10.seed=2811363265.parquet\n",
      "INFO:hposuite.study:Running experiment 4/9\n",
      "INFO:hposuite.run:Overwriting optimizer=RandomSearchWithPriors.benchmark=pymoo-dtlz1.objectives=value2,value3.TrialBudget=10.seed=383329928 in `state=<State.PENDING: 'PENDING'>` at /home/soham/repos/hposuite/examples/example-outputs/hposuite-ex-multiprior-priors/optimizer=RandomSearchWithPriors.benchmark=pymoo-dtlz1.objectives=value2,value3.TrialBudget=10.seed=383329928.\n",
      "WARNING:hposuite.run:Continuations are not supported for the optimizer: <class 'hposuite.optimizers.random_search.RandomSearchWithPriors'>. Ignoring continuations=True.\n",
      "INFO:hpoglue._run:COMPLETED running optimizer=RandomSearchWithPriors.benchmark=pymoo-dtlz1.objectives=value2,value3.TrialBudget=10.seed=383329928\n",
      "INFO:hposuite.run:Results dumped at /home/soham/repos/hposuite/examples/example-outputs/hposuite-ex-multiprior-priors/optimizer=RandomSearchWithPriors.benchmark=pymoo-dtlz1.objectives=value2,value3.TrialBudget=10.seed=383329928/optimizer=RandomSearchWithPriors.benchmark=pymoo-dtlz1.objectives=value2,value3.TrialBudget=10.seed=383329928.parquet\n",
      "INFO:hposuite.study:Running experiment 5/9\n",
      "INFO:hposuite.run:Overwriting optimizer=RandomSearchWithPriors.benchmark=pymoo-dtlz1.objectives=value2,value3.TrialBudget=10.seed=3324115917 in `state=<State.PENDING: 'PENDING'>` at /home/soham/repos/hposuite/examples/example-outputs/hposuite-ex-multiprior-priors/optimizer=RandomSearchWithPriors.benchmark=pymoo-dtlz1.objectives=value2,value3.TrialBudget=10.seed=3324115917.\n",
      "WARNING:hposuite.run:Continuations are not supported for the optimizer: <class 'hposuite.optimizers.random_search.RandomSearchWithPriors'>. Ignoring continuations=True.\n",
      "INFO:hpoglue._run:COMPLETED running optimizer=RandomSearchWithPriors.benchmark=pymoo-dtlz1.objectives=value2,value3.TrialBudget=10.seed=3324115917\n",
      "INFO:hposuite.run:Results dumped at /home/soham/repos/hposuite/examples/example-outputs/hposuite-ex-multiprior-priors/optimizer=RandomSearchWithPriors.benchmark=pymoo-dtlz1.objectives=value2,value3.TrialBudget=10.seed=3324115917/optimizer=RandomSearchWithPriors.benchmark=pymoo-dtlz1.objectives=value2,value3.TrialBudget=10.seed=3324115917.parquet\n",
      "INFO:hposuite.study:Running experiment 6/9\n",
      "INFO:hposuite.run:Overwriting optimizer=RandomSearchWithPriors.benchmark=pymoo-dtlz1.objectives=value2,value3.TrialBudget=10.seed=2811363265 in `state=<State.PENDING: 'PENDING'>` at /home/soham/repos/hposuite/examples/example-outputs/hposuite-ex-multiprior-priors/optimizer=RandomSearchWithPriors.benchmark=pymoo-dtlz1.objectives=value2,value3.TrialBudget=10.seed=2811363265.\n",
      "WARNING:hposuite.run:Continuations are not supported for the optimizer: <class 'hposuite.optimizers.random_search.RandomSearchWithPriors'>. Ignoring continuations=True.\n",
      "INFO:hpoglue._run:COMPLETED running optimizer=RandomSearchWithPriors.benchmark=pymoo-dtlz1.objectives=value2,value3.TrialBudget=10.seed=2811363265\n",
      "INFO:hposuite.run:Results dumped at /home/soham/repos/hposuite/examples/example-outputs/hposuite-ex-multiprior-priors/optimizer=RandomSearchWithPriors.benchmark=pymoo-dtlz1.objectives=value2,value3.TrialBudget=10.seed=2811363265/optimizer=RandomSearchWithPriors.benchmark=pymoo-dtlz1.objectives=value2,value3.TrialBudget=10.seed=2811363265.parquet\n",
      "INFO:hposuite.study:Running experiment 7/9\n",
      "INFO:hposuite.run:Overwriting optimizer=RandomSearchWithPriors.benchmark=pymoo-dtlz1.objectives=value3,value1.TrialBudget=10.seed=383329928 in `state=<State.PENDING: 'PENDING'>` at /home/soham/repos/hposuite/examples/example-outputs/hposuite-ex-multiprior-priors/optimizer=RandomSearchWithPriors.benchmark=pymoo-dtlz1.objectives=value3,value1.TrialBudget=10.seed=383329928.\n",
      "WARNING:hposuite.run:Continuations are not supported for the optimizer: <class 'hposuite.optimizers.random_search.RandomSearchWithPriors'>. Ignoring continuations=True.\n",
      "INFO:hpoglue._run:COMPLETED running optimizer=RandomSearchWithPriors.benchmark=pymoo-dtlz1.objectives=value3,value1.TrialBudget=10.seed=383329928\n",
      "INFO:hposuite.run:Results dumped at /home/soham/repos/hposuite/examples/example-outputs/hposuite-ex-multiprior-priors/optimizer=RandomSearchWithPriors.benchmark=pymoo-dtlz1.objectives=value3,value1.TrialBudget=10.seed=383329928/optimizer=RandomSearchWithPriors.benchmark=pymoo-dtlz1.objectives=value3,value1.TrialBudget=10.seed=383329928.parquet\n",
      "INFO:hposuite.study:Running experiment 8/9\n",
      "INFO:hposuite.run:Overwriting optimizer=RandomSearchWithPriors.benchmark=pymoo-dtlz1.objectives=value3,value1.TrialBudget=10.seed=3324115917 in `state=<State.PENDING: 'PENDING'>` at /home/soham/repos/hposuite/examples/example-outputs/hposuite-ex-multiprior-priors/optimizer=RandomSearchWithPriors.benchmark=pymoo-dtlz1.objectives=value3,value1.TrialBudget=10.seed=3324115917.\n",
      "WARNING:hposuite.run:Continuations are not supported for the optimizer: <class 'hposuite.optimizers.random_search.RandomSearchWithPriors'>. Ignoring continuations=True.\n",
      "INFO:hpoglue._run:COMPLETED running optimizer=RandomSearchWithPriors.benchmark=pymoo-dtlz1.objectives=value3,value1.TrialBudget=10.seed=3324115917\n",
      "INFO:hposuite.run:Results dumped at /home/soham/repos/hposuite/examples/example-outputs/hposuite-ex-multiprior-priors/optimizer=RandomSearchWithPriors.benchmark=pymoo-dtlz1.objectives=value3,value1.TrialBudget=10.seed=3324115917/optimizer=RandomSearchWithPriors.benchmark=pymoo-dtlz1.objectives=value3,value1.TrialBudget=10.seed=3324115917.parquet\n",
      "INFO:hposuite.study:Running experiment 9/9\n",
      "INFO:hposuite.run:Overwriting optimizer=RandomSearchWithPriors.benchmark=pymoo-dtlz1.objectives=value3,value1.TrialBudget=10.seed=2811363265 in `state=<State.PENDING: 'PENDING'>` at /home/soham/repos/hposuite/examples/example-outputs/hposuite-ex-multiprior-priors/optimizer=RandomSearchWithPriors.benchmark=pymoo-dtlz1.objectives=value3,value1.TrialBudget=10.seed=2811363265.\n",
      "WARNING:hposuite.run:Continuations are not supported for the optimizer: <class 'hposuite.optimizers.random_search.RandomSearchWithPriors'>. Ignoring continuations=True.\n",
      "INFO:hpoglue._run:COMPLETED running optimizer=RandomSearchWithPriors.benchmark=pymoo-dtlz1.objectives=value3,value1.TrialBudget=10.seed=2811363265\n",
      "INFO:hposuite.run:Results dumped at /home/soham/repos/hposuite/examples/example-outputs/hposuite-ex-multiprior-priors/optimizer=RandomSearchWithPriors.benchmark=pymoo-dtlz1.objectives=value3,value1.TrialBudget=10.seed=2811363265/optimizer=RandomSearchWithPriors.benchmark=pymoo-dtlz1.objectives=value3,value1.TrialBudget=10.seed=2811363265.parquet\n",
      "INFO:hposuite.study:Completed study with 9 runs\n"
     ]
    }
   ],
   "source": [
    "from hposuite import create_study\n",
    "\n",
    "study = create_study(\n",
    "    name=\"hposuite-ex-multiprior-priors\",\n",
    "    output_dir=\"example-outputs\",\n",
    "    optimizers=rsp,\n",
    "    benchmarks=[\n",
    "        (\n",
    "            dtlz1, {\n",
    "                \"objectives\": [\"value1\", \"value2\"],\n",
    "                \"priors\": {\n",
    "                    \"value1\": dtlz1_priors[\"value1\"]\n",
    "                }\n",
    "            }\n",
    "        ),\n",
    "        (\n",
    "            dtlz1, {\n",
    "                \"objectives\": [\"value2\", \"value3\"],\n",
    "                \"priors\": {\n",
    "                    \"value2\": dtlz1_priors[\"value2\"]\n",
    "                }\n",
    "            }\n",
    "        ),\n",
    "        (\n",
    "            dtlz1, {\n",
    "                \"objectives\": [\"value3\", \"value1\"],\n",
    "                \"priors\": {\n",
    "                    \"value3\": dtlz1_priors[\"value3\"]\n",
    "                }\n",
    "            }\n",
    "        ),\n",
    "    ],\n",
    "    num_seeds=3,\n",
    "    budget=10,\n",
    "    on_error=\"raise\",\n",
    ")\n",
    "\n",
    "study.optimize(overwrite=True)"
   ]
  }
 ],
 "metadata": {
  "kernelspec": {
   "display_name": "hposuite_env",
   "language": "python",
   "name": "python3"
  },
  "language_info": {
   "codemirror_mode": {
    "name": "ipython",
    "version": 3
   },
   "file_extension": ".py",
   "mimetype": "text/x-python",
   "name": "python",
   "nbconvert_exporter": "python",
   "pygments_lexer": "ipython3",
   "version": "3.10.12"
  }
 },
 "nbformat": 4,
 "nbformat_minor": 2
}
